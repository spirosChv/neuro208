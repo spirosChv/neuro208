{
  "nbformat": 4,
  "nbformat_minor": 0,
  "metadata": {
    "colab": {
      "name": "Practical_3c.ipynb",
      "provenance": [],
      "toc_visible": true,
      "include_colab_link": true
    },
    "kernelspec": {
      "name": "python3",
      "display_name": "Python 3"
    },
    "language_info": {
      "name": "python"
    }
  },
  "cells": [
    {
      "cell_type": "markdown",
      "metadata": {
        "id": "view-in-github",
        "colab_type": "text"
      },
      "source": [
        "<a href=\"https://colab.research.google.com/github/spirosChv/neuro208/blob/main/practicals/Practical_3c.ipynb\" target=\"_parent\"><img src=\"https://colab.research.google.com/assets/colab-badge.svg\" alt=\"Open In Colab\"/></a>"
      ]
    },
    {
      "cell_type": "markdown",
      "source": [
        "# Simulating dendrites - Part 3: Integrating inputs with active dendritic conductances\n",
        "\n",
        "In this notebook we will add ionic mechanisms in the dendrites! In this exercise we will see how inputs can be amplified by active sodium conductances."
      ],
      "metadata": {
        "id": "CFFz4a7p0BOz"
      }
    },
    {
      "cell_type": "code",
      "source": [
        "!pip install neuron --quiet"
      ],
      "metadata": {
        "id": "B0VtDTHqz0Ge"
      },
      "execution_count": null,
      "outputs": []
    },
    {
      "cell_type": "markdown",
      "source": [
        "## Compile ion channel models (`.mod` files)"
      ],
      "metadata": {
        "id": "IR8oZ0G8D23k"
      }
    },
    {
      "cell_type": "code",
      "source": [
        "# @title Download the `.mod` file from github\n",
        "# @markdown Execute this cell.\n",
        "\n",
        "!rm -rf neuro208/\n",
        "!rm -rf x86_64/\n",
        "!git clone https://github.com/spirosChv/neuro208.git\n",
        "!mv neuro208/practicals/libs/mechanisms/traub.mod .\n",
        "!nrnivmodl"
      ],
      "metadata": {
        "cellView": "form",
        "id": "r0vSOTboD_wG"
      },
      "execution_count": null,
      "outputs": []
    },
    {
      "cell_type": "code",
      "execution_count": null,
      "metadata": {
        "id": "usthWgIfzjmM"
      },
      "outputs": [],
      "source": [
        "import numpy as np\n",
        "import matplotlib.pyplot as plt\n",
        "from neuron import h\n",
        "from neuron.units import mV, ms, um\n",
        "h.load_file(\"stdrun.hoc\")"
      ]
    },
    {
      "cell_type": "code",
      "source": [
        "# @title Make nicer plots -- Execute this cell\n",
        "def mystyle():\n",
        "  \"\"\"\n",
        "  Create custom plotting style.\n",
        "\n",
        "  Returns\n",
        "  -------\n",
        "  my_style : dict\n",
        "      Dictionary with matplotlib parameters.\n",
        "\n",
        "  \"\"\"\n",
        "  # color pallette\n",
        "  style = {\n",
        "      # Use LaTeX to write all text\n",
        "      \"text.usetex\": False,\n",
        "      \"font.family\": \"DejaVu Sans\",\n",
        "      \"font.weight\": \"bold\",\n",
        "      # Use 16pt font in plots, to match 16pt font in document\n",
        "      \"axes.labelsize\": 16,\n",
        "      \"axes.titlesize\": 20,\n",
        "      \"font.size\": 16,\n",
        "      # Make the legend/label fonts a little smaller\n",
        "      \"legend.fontsize\": 14,\n",
        "      \"xtick.labelsize\": 14,\n",
        "      \"ytick.labelsize\": 14,\n",
        "      \"axes.linewidth\": 2.5,\n",
        "      \"lines.markersize\": 10.0,\n",
        "      \"lines.linewidth\": 2.5,\n",
        "      \"xtick.major.width\": 2.2,\n",
        "      \"ytick.major.width\": 2.2,\n",
        "      \"axes.labelweight\": \"bold\",\n",
        "      \"axes.spines.right\": False,\n",
        "      \"axes.spines.top\": False\n",
        "  }\n",
        "\n",
        "  return style\n",
        "\n",
        "\n",
        "plt.style.use(\"seaborn-colorblind\")\n",
        "plt.rcParams.update(mystyle())"
      ],
      "metadata": {
        "cellView": "form",
        "id": "bqXB1xt_8Vuh"
      },
      "execution_count": null,
      "outputs": []
    },
    {
      "cell_type": "code",
      "source": [
        "# Simulation parameters\n",
        "tstop = 100 * ms  # ms\n",
        "h.dt = 0.1 * ms  # ms\n",
        "vinit = -65 * mV  # initial membrane potential"
      ],
      "metadata": {
        "id": "ym1Wg3lmEGMX"
      },
      "execution_count": null,
      "outputs": []
    },
    {
      "cell_type": "markdown",
      "source": [
        "## Define `h.Sections` and their passive/active properties\n",
        "\n",
        "Create a soma and two dendrites (as in exercise1), define their anatomical and biophysical properties and connect them."
      ],
      "metadata": {
        "id": "PME1GYedGDSF"
      }
    },
    {
      "cell_type": "code",
      "source": [
        "# Create a soma and two dendrites and connect them.\n",
        "soma = h.Section(name='soma')\n",
        "dend0, dend1 = [h.Section(name=n) for n in ['dend0', 'dend1']]\n",
        "\n",
        "# Define properties of soma\n",
        "soma.diam = 20  # diameter (um)\n",
        "soma.L = 20  # length (um)\n",
        "soma.Ra = 100  # Axial resistance (Ohm * cm)\n",
        "soma.cm = 1  # specific membrane capacitance (uF/cm2)\n",
        "soma.nseg = 1  # number of segments\n",
        "\n",
        "# Insert only passive conductance into soma (in contrast to previous two exercises)\n",
        "soma.insert('pas')\n",
        "for seg in soma:\n",
        "  seg.pas.e = -65  # Reversal potential (mV)\n",
        "  seg.pas.g = 0.0003  # Leak conductance (S/cm2)\n",
        "\n",
        "# Define properties of dend0\n",
        "dend0.diam = 5 * um  # diameter (um)\n",
        "dend0.L = 500 * um  # length (um)\n",
        "dend0.cm = 1  # specific membrane capacitance (uF/cm2)\n",
        "dend0.Ra = 100  # Axial resistance (Ohm * cm)\n",
        "dend0.nseg = 11  # number of segments\n",
        "\n",
        "# Define properties of dend0\n",
        "dend1.diam = 3 * um  # diameter (um)\n",
        "dend1.L = 200 * um  # length (um)\n",
        "dend1.cm = 1  # specific membrane capacitance (uF/cm2)\n",
        "dend1.Ra = 100  # Axial resistance (Ohm * cm)\n",
        "dend1.nseg = 13  # number of segments"
      ],
      "metadata": {
        "id": "3Zd5f7ugF1-Y"
      },
      "execution_count": null,
      "outputs": []
    },
    {
      "cell_type": "markdown",
      "source": [
        "Let's add active mechanisms onto `dend1`."
      ],
      "metadata": {
        "id": "h5IVGOiZ5uMy"
      }
    },
    {
      "cell_type": "code",
      "source": [
        "print(h.traub.code)"
      ],
      "metadata": {
        "id": "pxmDjFfd1uao"
      },
      "execution_count": null,
      "outputs": []
    },
    {
      "cell_type": "markdown",
      "source": [
        "**Mathematical derivation of `vtrap(x, y)` function**\n",
        "\n",
        "Some rate coefficient obey in the general equation:\n",
        "\n",
        "\\begin{equation}\n",
        "\\alpha = \\frac{x}{\\text{exp}(x/y) - 1}\n",
        "\\end{equation}\n",
        "\n",
        "But, when $|x/y| \\approx 0$ then the denominator becomes close to zero and the the rate coefficient goes to infinity. To avoid this, we use the [Taylor expansion](https://en.wikipedia.org/wiki/Taylor_series) in order to approximate the value of the rate coefficient at this point.\n",
        "\n",
        "Any real or complex function $f$ can be approximated by an infinite series:\n",
        "\n",
        "\\begin{equation}\n",
        "f(x) = \\sum_{n=0}^{\\infty}\\frac{f^{(n)}(\\alpha)}{n!}(x-\\alpha)^n\n",
        "\\end{equation}\n",
        "\n",
        "where $f^{(n)}(\\alpha)$ denotes the n-th derivative of $f$ at point $\\alpha$. When $\\alpha=0$ the series called also a [Maclaurin series](https://en.wikipedia.org/wiki/Colin_Maclaurin#Contributions_to_mathematics).\n",
        "\n",
        "If $f(x)=e^x$ and $\\alpha=0$, then $f^{(n)}(x)=f(x)$\n",
        "\n",
        "\\begin{equation}\n",
        "f(x) = \\sum_{n=0}^{\\infty}\\frac{f^{(n)}(\\alpha)}{n!}(x-\\alpha)^n = \\sum_{n=0}^{\\infty}\\frac{x^n}{n!} = 1 + x + \\frac{x^2}{2} + \\frac{x^3}{6} + \\dots\n",
        "\\end{equation}\n",
        "\n",
        "Using only the 3 first terms, and setting $f(x/y)=\\text{exp}(x/y) - 1$:\n",
        "\n",
        "\\begin{align}\n",
        "\\alpha &= \\frac{x}{\\text{exp}(x/y) - 1} \\\\\n",
        "&= \\frac{x}{\\sum_{n=0}^{\\infty}\\frac{(x/y)^n}{n!} - 1} \\\\\n",
        "&\\approx \\frac{x}{1 + (x/y) + (x/y)^2/2 - 1} \\\\\n",
        "&= \\frac{x}{(x/y) + (x/y)^2/2} \\\\\n",
        "&= \\frac{1}{(1/y) + x(1/y)^2/2} \\\\\n",
        "&= \\frac{y}{1 + (x/y)/2} \\\\\n",
        "&= \\frac{y}{1 + x/2y} \\\\\n",
        "\\end{align}\n",
        "\n",
        "For any $|\\epsilon| \\ll 1$ then $1/(1+\\epsilon)$ is very well approximated by $1/(1-\\epsilon)$.\n",
        "\n",
        "Thus, when $|x/y| \\ll 1$, then:\n",
        "\n",
        "\\begin{equation}\n",
        "\\alpha = \\frac{y}{\\text{exp}(x/y) - 1} \\approx \\frac{y}{1 - x/2y}\n",
        "\\end{equation}\n",
        "\n",
        "Following the same steps, we can avoid zeros in the denominators of rate equations."
      ],
      "metadata": {
        "id": "y-Z1JIm8WcnN"
      }
    },
    {
      "cell_type": "code",
      "source": [
        "# @markdown Plot the gating variables\n",
        "def Exp(x):\n",
        "  return np.where(x < -100, 0, np.exp(x))\n",
        "\n",
        "\n",
        "def vtrap(x=0, y=0):\n",
        "  return np.where(np.abs(x/y) < 1e-6, y*(1 - x/y/2), x/(Exp(x/y) - 1))\n",
        "\n",
        "\n",
        "def inf_tau(a, b, qt=1):\n",
        "  \"\"\"\n",
        "  Calculate the steady-state and the time constant.\n",
        "\n",
        "  Args:\n",
        "    a : list\n",
        "      List with alpha values\n",
        "    b : list\n",
        "      List with beta values\n",
        "    qt : float, optional\n",
        "      Temperature correction. Default is 1.\n",
        "\n",
        "  ----\n",
        "\n",
        "  Returns:\n",
        "    xinf : float\n",
        "      The gate variable steady-state.\n",
        "    xtau: float\n",
        "      The gate variable time constant in ms.\n",
        "  \"\"\"\n",
        "\n",
        "  a = np.array(a)\n",
        "  b = np.array(b)\n",
        "\n",
        "  xinf = a/(a+b)\n",
        "  xtau = 1/(a+b)\n",
        "  return xinf, xtau/qt\n",
        "\n",
        "\n",
        "qt = 3**((35 - 32)/10)\n",
        "\n",
        "v = np.linspace(-120, 120, 10000)\n",
        "\n",
        "alpha_m, beta_m = [], []\n",
        "alpha_h, beta_h = [], []\n",
        "alpha_n, beta_n = [], []\n",
        "\n",
        "vt = v + 49.2\n",
        "alpha_m = 0.32*vtrap(-(vt - 13.1), 4)\n",
        "beta_m = 0.28*vtrap((vt - 40.1), 5)\n",
        "\n",
        "alpha_h = 0.128*np.exp(-(vt - 17)/18)\n",
        "beta_h = 4/(1 + np.exp(-(vt - 40)/5))\n",
        "\n",
        "alpha_n = 0.016*vtrap(-(vt - 35.1), 5)\n",
        "beta_n = 0.25*np.exp(-(vt - 20)/40)\n",
        "\n",
        "\n",
        "\n",
        "plt.figure(figsize=(12, 6))\n",
        "plt.subplot(1, 3, 1)\n",
        "plt.plot(v, alpha_m, label=r'$\\alpha_m$')\n",
        "plt.plot(v, beta_m, label=r'$\\beta_m$')\n",
        "plt.xlabel(r'v ($mV$)')\n",
        "plt.ylabel(r'rate coeff. ($ms^{-1}$)')\n",
        "plt.legend()\n",
        "\n",
        "plt.subplot(1, 3, 2)\n",
        "plt.plot(v, alpha_h, label=r'$\\alpha_h$')\n",
        "plt.plot(v, beta_h, label=r'$\\beta_h$')\n",
        "plt.xlabel(r'v ($mV$)')\n",
        "plt.ylabel(r'rate coeff. ($ms^{-1}$)')\n",
        "plt.legend()\n",
        "\n",
        "plt.subplot(1, 3, 3)\n",
        "plt.plot(v, alpha_n, label=r'$\\alpha_n$')\n",
        "plt.plot(v, beta_n, label=r'$\\beta_n$')\n",
        "plt.xlabel(r'v ($mV$)')\n",
        "plt.ylabel(r'rate coeff. ($ms^{-1}$)')\n",
        "plt.legend()\n",
        "\n",
        "plt.tight_layout()\n",
        "plt.show()\n",
        "\n",
        "\n",
        "minf, mtau = inf_tau(alpha_m, beta_m, qt)\n",
        "hinf, htau = inf_tau(alpha_h, beta_h, qt)\n",
        "ninf, ntau = inf_tau(alpha_n, beta_n, qt)\n",
        "\n",
        "plt.figure(figsize=(12, 6))\n",
        "plt.subplot(1, 2, 1)\n",
        "plt.plot(v, minf, label=r'$m_\\infty$')\n",
        "plt.plot(v, hinf, label=r'$h_\\infty$')\n",
        "plt.plot(v, ninf, label=r'$n_\\infty$')\n",
        "plt.xlabel(r'v ($mV$)')\n",
        "plt.ylabel('open probability')\n",
        "plt.legend()\n",
        "\n",
        "plt.subplot(1, 2, 2)\n",
        "plt.plot(v, mtau, label=r'$\\tau_m$')\n",
        "plt.plot(v, htau, label=r'$\\tau_h$')\n",
        "plt.plot(v, ntau, label=r'$\\tau_n$')\n",
        "plt.xlabel(r'v ($mV$)')\n",
        "plt.ylabel(r'time cnst. ($ms$)')\n",
        "plt.legend()\n",
        "\n",
        "plt.tight_layout()\n",
        "plt.show()"
      ],
      "metadata": {
        "id": "uIu07BnO1xb6",
        "cellView": "form"
      },
      "execution_count": null,
      "outputs": []
    },
    {
      "cell_type": "code",
      "source": [
        "# dend1 will have active conductances!\n",
        "# Traub.mod contains HH-like Na and K conductances, as well as leak.\n",
        "dend1.insert('traub')\n",
        "for seg in dend1:\n",
        "  seg.traub.gnabar = 0.1  # Sodium conductance (S/cm2)\n",
        "  seg.traub.gkbar = 0.045  # Potassium conductance (S/cm2)\n",
        "  seg.traub.gl = 0.0003  # Leak conductance (S/cm2)\n",
        "  seg.traub.el = -65.  # Reversal potential for leak (mV)\n",
        "  seg.traub.eK = -70.  # Reversal potential for potassium (mV)\n",
        "  seg.traub.eNa = 90.  # Reversal potential for sodium in (mV)\n",
        "  seg.traub.v_shft = 52.4  # Shifts the activation curve for sodium"
      ],
      "metadata": {
        "id": "RuB7PJ_L5sQa"
      },
      "execution_count": null,
      "outputs": []
    },
    {
      "cell_type": "markdown",
      "source": [
        "Now, let's connect the compartments."
      ],
      "metadata": {
        "id": "RFYJ4Xfz5yq8"
      }
    },
    {
      "cell_type": "code",
      "source": [
        "# Connect the `0` point of `dend0` to the `0` point of the soma, i.e., soma(0)\n",
        "dend0.connect(soma(0), 0)\n",
        "# Connect the `1` point of `dend0`, i.e., dend0(1), to the `0` point of the dend1, i.e., dend1(0)\n",
        "dend1.connect(dend0(1), 0)"
      ],
      "metadata": {
        "id": "JSQWyO1Y5rxz"
      },
      "execution_count": null,
      "outputs": []
    },
    {
      "cell_type": "code",
      "source": [
        "ps = h.PlotShape(True)  # False tells h.PlotShape not to use NEURON's gui\n",
        "ps.plot(plt).mark(soma(0.5))\n",
        "plt.show()"
      ],
      "metadata": {
        "id": "4IKQk3UjQbAG"
      },
      "execution_count": null,
      "outputs": []
    },
    {
      "cell_type": "markdown",
      "source": [
        "## Synaptic Stimulation"
      ],
      "metadata": {
        "id": "aKBHffHsKVi9"
      }
    },
    {
      "cell_type": "code",
      "source": [
        "syn = h.ExpSyn(dend1(0.5)) # Place the synapse to the middle (0.5) of the soma\n",
        "syn.e = 0  # Reverse potential of the synapse (mV)\n",
        "\n",
        "# Create an artificial spike using h.NetStim() (an \"event\" to be delivered to the synapse)...\n",
        "tsignal = 50\n",
        "ns = h.NetStim(0.5)\n",
        "ns.start = tsignal  # time when the spike arrives (in msec)\n",
        "ns.number = 1  # number of spikes (just one)\n",
        "\n",
        "# ... and connect the event to the synapse.\n",
        "# function arguments: NetCon(source, target, [threshold, delay, weight])\n",
        "nc = h.NetCon(ns, syn)\n",
        "nc.delay = 0  # synaptic delay (ms)\n",
        "nc.weight[0] = 0.008*10  # synaptic weight (i.e., strength of the synapse)"
      ],
      "metadata": {
        "id": "oxZ_7vd1GlG9"
      },
      "execution_count": null,
      "outputs": []
    },
    {
      "cell_type": "markdown",
      "source": [
        "## Example simulation"
      ],
      "metadata": {
        "id": "PPmpqGk5KjMX"
      }
    },
    {
      "cell_type": "markdown",
      "source": [
        "### Task 1: Compare the depolarization at the soma with and without active conductances in the dendrites"
      ],
      "metadata": {
        "id": "BTv_fvu156ko"
      }
    },
    {
      "cell_type": "markdown",
      "source": [
        "Let's first create our recording variables."
      ],
      "metadata": {
        "id": "hi11p6FK7Zjc"
      }
    },
    {
      "cell_type": "code",
      "source": [
        "# record the necessary variables\n",
        "vsoma_vec = h.Vector().record(soma(0.5)._ref_v)  # Membrane potential vector\n",
        "vdend1_vec = h.Vector().record(dend1(0.5)._ref_v)  # Membrane potential vector\n",
        "vdend0_vec = h.Vector().record(dend0(0.5)._ref_v)  # Membrane potential vector\n",
        "iNa_vec = h.Vector().record(dend1(0.5).traub._ref_iNa)  # Sodium current vector\n",
        "t_vec = h.Vector().record(h._ref_t)  # Time stamp vector"
      ],
      "metadata": {
        "id": "cu5uV-Ti7XJv"
      },
      "execution_count": null,
      "outputs": []
    },
    {
      "cell_type": "markdown",
      "source": [
        "#### Step 1: Run the simulation with active conductances"
      ],
      "metadata": {
        "id": "HifGz0F-_j91"
      }
    },
    {
      "cell_type": "code",
      "source": [
        "# We add the channels here in case we re-run\n",
        "for seg in dend1:\n",
        "  seg.traub.gnabar = 0.1  # Sodium conductance (S/cm2)\n",
        "  seg.traub.gkbar = 0.045  # Potassium conductance (S/cm2)\n",
        "\n",
        "# reinitialize the simulator and run again\n",
        "h.finitialize(vinit)\n",
        "h.continuerun(tstop)\n",
        "\n",
        "# Remove the first 20 msec of the plot (to make it look nice)\n",
        "tremove = 20\n",
        "vsoma_vec.remove(0, int(tremove/h.dt))\n",
        "vdend0_vec.remove(0, int(tremove/h.dt))\n",
        "vdend1_vec.remove(0, int(tremove/h.dt))\n",
        "iNa_vec.remove(0, int(tremove/h.dt))\n",
        "t_vec.remove(0, int(tremove/h.dt))\n",
        "\n",
        "print(f'Active case: somatic depolarization is {round(vsoma_vec.max()-vsoma_vec[int((tsignal-tremove)/h.dt)-1], 2)} mV')\n",
        "print(f'Active case: distal dendritic depolarization is {round(vdend1_vec.max()-vdend1_vec[int((tsignal-tremove)/h.dt)-1], 2)} mV')\n",
        "\n",
        "# Save the results in a dictionary\n",
        "results_active = {}\n",
        "results_active['vsoma'] = np.array(vsoma_vec)\n",
        "results_active['vdend0'] = np.array(vdend0_vec)\n",
        "results_active['vdend1'] = np.array(vdend1_vec)\n",
        "results_active['iNadend'] = np.array(iNa_vec)\n",
        "results_active['time'] = np.array(t_vec)"
      ],
      "metadata": {
        "id": "K9IDmGtvGlmk"
      },
      "execution_count": null,
      "outputs": []
    },
    {
      "cell_type": "markdown",
      "source": [
        "#### Step 2: Run the simulation without active conductances"
      ],
      "metadata": {
        "id": "IrBguO7L_wqS"
      }
    },
    {
      "cell_type": "code",
      "source": [
        "# remove active conductances\n",
        "for seg in dend1:\n",
        "  seg.traub.gnabar = 0.0  # Sodium conductance in S/cm2\n",
        "  seg.traub.gkbar = 0.0  # Potassium conductance in S/cm2\n",
        "\n",
        "# reinitialize the simulator and run again\n",
        "h.finitialize(vinit)\n",
        "h.continuerun(tstop)\n",
        "\n",
        "# Remove the first 20 msec of the plot (to make it look nice)\n",
        "tremove = 20\n",
        "vsoma_vec.remove(0, int(tremove/h.dt))\n",
        "vdend0_vec.remove(0, int(tremove/h.dt))\n",
        "vdend1_vec.remove(0, int(tremove/h.dt))\n",
        "iNa_vec.remove(0, int(tremove/h.dt))\n",
        "t_vec.remove(0, int(tremove/h.dt))\n",
        "\n",
        "print(f'\\nPassive case: somatic depolarization is {round(vsoma_vec.max()-vsoma_vec[int((tsignal-tremove)/h.dt)-1], 2)} mV')\n",
        "print(f'Passive case: distal dendritic depolarization is {round(vdend1_vec.max()-vdend1_vec[int((tsignal-tremove)/h.dt)-1], 2)} mV')\n",
        "\n",
        "# Save the results in a dictionary\n",
        "results_passive = {}\n",
        "results_passive['vsoma'] = np.array(vsoma_vec)\n",
        "results_passive['vdend0'] = np.array(vdend0_vec)\n",
        "results_passive['vdend1'] = np.array(vdend1_vec)\n",
        "results_passive['iNadend'] = np.array(iNa_vec)\n",
        "results_passive['time'] = np.array(t_vec)"
      ],
      "metadata": {
        "id": "Dx7ui2WF8Ad2"
      },
      "execution_count": null,
      "outputs": []
    },
    {
      "cell_type": "code",
      "source": [
        "# Plot the results\n",
        "plt.figure(figsize=(8, 10))\n",
        "plt.subplot(3, 1, 1)\n",
        "plt.plot(results_active['time'], results_active['vsoma'], label='active')\n",
        "plt.plot(results_passive['time'], results_passive['vsoma'], label='passive')\n",
        "plt.ylabel('voltage (mV)')\n",
        "plt.title('soma')\n",
        "plt.legend()\n",
        "plt.subplot(3, 1, 2)\n",
        "plt.plot(results_active['time'], results_active['vdend1'], label='active')\n",
        "plt.plot(results_passive['time'], results_passive['vdend1'], label='passive')\n",
        "plt.ylabel('voltage (mV)')\n",
        "plt.title('dendrite1')\n",
        "plt.legend()\n",
        "plt.subplot(3, 1, 3)\n",
        "plt.plot(results_active['time'], results_active['iNadend'], label='active')\n",
        "plt.plot(results_passive['time'], results_passive['iNadend'], label='passive')\n",
        "plt.ylabel('sodium current (nA)')\n",
        "plt.xlabel('time (ms)')\n",
        "plt.legend()\n",
        "plt.tight_layout()\n",
        "plt.show()"
      ],
      "metadata": {
        "id": "84p4KYnO9U4B"
      },
      "execution_count": null,
      "outputs": []
    },
    {
      "cell_type": "markdown",
      "source": [
        "### Task 2: Insert 1 to 5 synapses like this one in the same location. In this case, this is equivalent to increasing the weight 1 to 5 times.\n",
        "\n",
        "- What is the expected (arithmetic sum) versus actual (simulated output)?\n",
        "- Is their relationship linear or non-linear?\n",
        "- How many synapses are needed to elicit a dendritic spike?"
      ],
      "metadata": {
        "id": "h57vnuci6pra"
      }
    },
    {
      "cell_type": "code",
      "source": [
        "nsyn = 1 # @param {type:\"slider\", min:1, max:25, step:1}\n",
        "nc.weight[0] = 0.008*nsyn  # set the weight\n",
        "\n",
        "# add the active conductance back to dend1\n",
        "for seg in dend1:\n",
        "  seg.traub.gnabar = 0.1  # Sodium conductance (S/cm2)\n",
        "  seg.traub.gkbar = 0.045  # Potassium conductance (S/cm2)\n",
        "\n",
        "# Run the simulation\n",
        "h.finitialize(vinit)\n",
        "h.continuerun(tstop)\n",
        "\n",
        "# Remove the first 20ms to avoid artifacts\n",
        "tremove = 20\n",
        "vsoma_vec.remove(0, int(tremove/h.dt))\n",
        "vdend1_vec.remove(0, int(tremove/h.dt))\n",
        "t_vec.remove(0, int(tremove/h.dt))\n",
        "\n",
        "plt.figure(figsize=(8, 6))\n",
        "plt.plot(t_vec, vsoma_vec, color='black', label='soma')\n",
        "plt.plot(t_vec, vdend1_vec, color='red', label='dend')\n",
        "plt.xlabel('time (ms)')\n",
        "plt.ylabel('mV')\n",
        "plt.ylim([-66, 60])\n",
        "plt.legend()\n",
        "plt.show()\n",
        "\n",
        "print (f'\\nSomatic depolarization is {np.round(vsoma_vec.max()-vsoma_vec[int((tsignal-tremove)/h.dt)-1], 2)} mV')\n",
        "print (f'Distal Dendritic depolarization is {np.round(vdend1_vec.max()-vdend1_vec[int((tsignal-tremove)/h.dt)-1], 2)} mV')"
      ],
      "metadata": {
        "cellView": "form",
        "id": "oKL6BBzO6TBt"
      },
      "execution_count": null,
      "outputs": []
    },
    {
      "cell_type": "markdown",
      "source": [
        "Now, let's run the loop!"
      ],
      "metadata": {
        "id": "__6vrdNd6PKn"
      }
    },
    {
      "cell_type": "code",
      "source": [
        "maxN = 25\n",
        "actual_epsp = []\n",
        "for i in range(maxN):\n",
        "  nc.weight[0] = 0.008*(i+1)\n",
        "\n",
        "  # reinitialize the simulator and run again\n",
        "  h.finitialize(vinit)\n",
        "  h.continuerun(tstop)\n",
        "\n",
        "  # Remove the first 20 msec of the plot (to make it look nice)\n",
        "  tremove = 20\n",
        "  vsoma_vec.remove(0, int(tremove/h.dt))\n",
        "  vdend1_vec.remove(0, int(tremove/h.dt))\n",
        "  t_vec.remove(0, int(tremove/h.dt))\n",
        "  actual_epsp.append(round(vsoma_vec.max() - vsoma_vec[int((tsignal-tremove)/h.dt)-1], 2))\n",
        "\n",
        "# Calculate the expected EPSP\n",
        "expected_epsp = [actual_epsp[0]*i for i in range(1, maxN+1)]\n",
        "\n",
        "plt.figure(figsize=(8, 6))\n",
        "plt.plot(expected_epsp, actual_epsp, color='red')\n",
        "plt.plot(expected_epsp, expected_epsp, linestyle='dashed', color='black')\n",
        "plt.xlabel('Expected EPSP-Linear Summation (mV)')\n",
        "plt.ylabel('Actual EPSP (mV)')\n",
        "plt.tight_layout()\n",
        "plt.show()"
      ],
      "metadata": {
        "id": "cs_xZNDgOugq"
      },
      "execution_count": null,
      "outputs": []
    },
    {
      "cell_type": "markdown",
      "source": [
        "The integration is linear and then slightly sublinear, but when the threshold for sodium channels opening is crossed, we observe a massive response. Congratulations, you have simulated your first active dendrite!"
      ],
      "metadata": {
        "id": "J4Y6zxA1SCl6"
      }
    }
  ]
}