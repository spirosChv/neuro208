{
  "nbformat": 4,
  "nbformat_minor": 0,
  "metadata": {
    "colab": {
      "name": "Practical_3e.ipynb",
      "provenance": [],
      "toc_visible": true,
      "include_colab_link": true
    },
    "kernelspec": {
      "name": "python3",
      "display_name": "Python 3"
    },
    "language_info": {
      "name": "python"
    }
  },
  "cells": [
    {
      "cell_type": "markdown",
      "metadata": {
        "id": "view-in-github",
        "colab_type": "text"
      },
      "source": [
        "<a href=\"https://colab.research.google.com/github/spirosChv/neuro208/blob/main/practicals/Practical_3e.ipynb\" target=\"_parent\"><img src=\"https://colab.research.google.com/assets/colab-badge.svg\" alt=\"Open In Colab\"/></a>"
      ]
    },
    {
      "cell_type": "markdown",
      "source": [
        "# Simulating dendrites - Part 5: BAC model"
      ],
      "metadata": {
        "id": "CFFz4a7p0BOz"
      }
    },
    {
      "cell_type": "markdown",
      "source": [
        "First, we install neuron with python. For more info see [here](https://www.neuron.yale.edu/neuron/download)."
      ],
      "metadata": {
        "id": "4y_RNml7uHie"
      }
    },
    {
      "cell_type": "code",
      "source": [
        "!pip install neuron --quiet"
      ],
      "metadata": {
        "id": "B0VtDTHqz0Ge"
      },
      "execution_count": null,
      "outputs": []
    },
    {
      "cell_type": "markdown",
      "source": [
        "We import some basic python packages and the NEURON package."
      ],
      "metadata": {
        "id": "YPbGWFN0uROI"
      }
    },
    {
      "cell_type": "markdown",
      "source": [
        "## Compile ion channel models (.mod files)"
      ],
      "metadata": {
        "id": "KrjMzJAt83GM"
      }
    },
    {
      "cell_type": "code",
      "source": [
        "# @title Download the `.mod` file from github\n",
        "# @markdown Execute this cell.\n",
        "\n",
        "!rm -rf neuro208/\n",
        "!rm -rf x86_64/\n",
        "!git clone https://github.com/spirosChv/neuro208.git\n",
        "!mv neuro208/practicals/libs/mechanisms/cad.mod .\n",
        "!mv neuro208/practicals/libs/mechanisms/sca.mod .\n",
        "!nrnivmodl"
      ],
      "metadata": {
        "cellView": "form",
        "id": "_B5FwHjGOusG"
      },
      "execution_count": null,
      "outputs": []
    },
    {
      "cell_type": "code",
      "execution_count": null,
      "metadata": {
        "id": "usthWgIfzjmM"
      },
      "outputs": [],
      "source": [
        "import numpy as np\n",
        "import matplotlib.pyplot as plt\n",
        "from neuron import h\n",
        "from neuron.units import mV, um, ms\n",
        "h.load_file(\"stdrun.hoc\")"
      ]
    },
    {
      "cell_type": "code",
      "source": [
        "# @title Make nicer plots -- Execute this cell\n",
        "def mystyle():\n",
        "  \"\"\"\n",
        "  Create custom plotting style.\n",
        "\n",
        "  Returns\n",
        "  -------\n",
        "  my_style : dict\n",
        "      Dictionary with matplotlib parameters.\n",
        "\n",
        "  \"\"\"\n",
        "  # color pallette\n",
        "  style = {\n",
        "      # Use LaTeX to write all text\n",
        "      \"text.usetex\": False,\n",
        "      \"font.family\": \"DejaVu Sans\",\n",
        "      \"font.weight\": \"bold\",\n",
        "      # Use 16pt font in plots, to match 16pt font in document\n",
        "      \"axes.labelsize\": 16,\n",
        "      \"axes.titlesize\": 20,\n",
        "      \"font.size\": 16,\n",
        "      # Make the legend/label fonts a little smaller\n",
        "      \"legend.fontsize\": 14,\n",
        "      \"xtick.labelsize\": 14,\n",
        "      \"ytick.labelsize\": 14,\n",
        "      \"axes.linewidth\": 2.5,\n",
        "      \"lines.markersize\": 10.0,\n",
        "      \"lines.linewidth\": 2.5,\n",
        "      \"xtick.major.width\": 2.2,\n",
        "      \"ytick.major.width\": 2.2,\n",
        "      \"axes.labelweight\": \"bold\",\n",
        "      \"axes.spines.right\": False,\n",
        "      \"axes.spines.top\": False\n",
        "  }\n",
        "\n",
        "  return style\n",
        "\n",
        "\n",
        "plt.style.use(\"seaborn-colorblind\")\n",
        "plt.rcParams.update(mystyle())"
      ],
      "metadata": {
        "id": "bqXB1xt_8Vuh",
        "cellView": "form"
      },
      "execution_count": null,
      "outputs": []
    },
    {
      "cell_type": "markdown",
      "source": [
        "Define the simulation parameters"
      ],
      "metadata": {
        "id": "fI4fEn3tkb62"
      }
    },
    {
      "cell_type": "code",
      "source": [
        "# Simulation parameters\n",
        "tstop = 600 * ms  # simulation time (ms)\n",
        "h.dt = 0.1 * ms  # integration step (ms)\n",
        "vinit = -65 * mV  # initial voltage (mV)"
      ],
      "metadata": {
        "id": "5qhiFv-M0MLN"
      },
      "execution_count": null,
      "outputs": []
    },
    {
      "cell_type": "markdown",
      "source": [
        "### Create cell class"
      ],
      "metadata": {
        "id": "8yPtsBbmz7lA"
      }
    },
    {
      "cell_type": "code",
      "source": [
        "class PyramidalCell:\n",
        "  def __init__(self, gid):\n",
        "    self._gid = gid\n",
        "    self._setup_morphology()\n",
        "    self._setup_topology()\n",
        "    self._create_lists()\n",
        "    self._setup_geometry()\n",
        "    self._setup_passive()\n",
        "    self._setup_segments()\n",
        "    self._setup_biophysics()\n",
        "\n",
        "  def geom_nseg(self, section, f=100):\n",
        "    return int((section.L/(0.1*h.lambda_f(f)) + 0.9)/2)*2 + 1\n",
        "\n",
        "  def _setup_morphology(self):\n",
        "    self.soma = h.Section(name='soma', cell=self)\n",
        "    self.trunk0 = h.Section(name='trunk0', cell=self)\n",
        "    self.trunk1 = h.Section(name='trunk1', cell=self)\n",
        "    self.trunk2 = h.Section(name='trunk2', cell=self)\n",
        "    self.trunk3 = h.Section(name='trunk3', cell=self)\n",
        "    self.trunk4 = h.Section(name='trunk4', cell=self)\n",
        "    self.tuft0 = h.Section(name='tuft0', cell=self)\n",
        "    self.tuft1 = h.Section(name='tuft1', cell=self)\n",
        "\n",
        "  def _create_lists(self):\n",
        "    self.all = self.soma.wholetree()\n",
        "    self.trunk = [sec for sec in self.all if sec.name().__contains__('trunk')]\n",
        "    self.tuft = [sec for sec in self.all if sec.name().__contains__('tuft')]\n",
        "\n",
        "  def _setup_topology(self):\n",
        "    # Connect sections\n",
        "    self.trunk0.connect(self.soma(0.5))\n",
        "    self.trunk1.connect(self.trunk0(1))\n",
        "    self.trunk2.connect(self.trunk1(1))\n",
        "    self.trunk3.connect(self.trunk2(1))\n",
        "    self.trunk4.connect(self.trunk3(1))\n",
        "    self.tuft0.connect(self.trunk4(1))\n",
        "    self.tuft1.connect(self.trunk4(1))\n",
        "\n",
        "  def _setup_geometry(self):\n",
        "    self.soma.L = self.soma.diam = 20 * um\n",
        "\n",
        "    diams = [3, 2.5, 2, 1.5, 1.2]  # reducing diameters as we are distal from the soma\n",
        "    for i, sec in enumerate(self.trunk):\n",
        "      sec.diam = diams[i]  # diameter (um)\n",
        "      sec.L = 120 if i < 4 else 20  # length (um)\n",
        "\n",
        "    for i, sec in enumerate(self.tuft):\n",
        "      sec.L = 100 * um\n",
        "      sec.diam = 1.0 * um\n",
        "\n",
        "  def _setup_passive(self):\n",
        "    for sec in self.all:\n",
        "      sec.cm = 1  # specific membrane capacitance (uF/cm2)\n",
        "      sec.Ra = 100  # Axial resistance (Ohm * cm)\n",
        "\n",
        "  def _setup_biophysics(self):\n",
        "\n",
        "    # Somatic compartment\n",
        "    self.soma.insert('hh')\n",
        "    for seg in self.soma:\n",
        "      seg.hh.gnabar = 0.12  # Sodium conductance (S/cm2)\n",
        "      seg.hh.gkbar = 0.025  # Potassium conductance (S/cm2)\n",
        "      seg.hh.gl = 0.00025  # Leak conductance (S/cm2)\n",
        "      seg.hh.el = -65  # Reversal potential (mV)\n",
        "\n",
        "    # Trunk compartments\n",
        "    for sec in self.trunk:\n",
        "      sec.insert('pas')\n",
        "      for seg in sec:\n",
        "        seg.pas.e = -65  # leak reversal potential (mV)\n",
        "        seg.pas.g = 0.00025  # leak maximal conductance (S/cm2)\n",
        "\n",
        "    # Add calcium mechanisms in `trunk4` section\n",
        "    self.trunk4.insert('cad')\n",
        "    self.trunk4.insert('sca')\n",
        "    for seg in self.trunk4:\n",
        "      seg.sca.gcabar = 0.35  # Ca2+ maximal conductance (S/cm2)\n",
        "\n",
        "    # tuft compartments\n",
        "    for sec in self.tuft:\n",
        "      sec.insert('pas')\n",
        "      for seg in sec:\n",
        "        seg.pas.e = -65  # leak reversal potential (mV)\n",
        "        seg.pas.g = 0.00025  # leak maximal conductance (S/cm2)\n",
        "\n",
        "  def _setup_segments(self):\n",
        "    # Create segments based on `lambda_f`\n",
        "    for sec in self.all:\n",
        "      sec.nseg = self.geom_nseg(sec)\n",
        "\n",
        "  def __repr__(self):\n",
        "    return 'PyramidalCell[{}]'.format(self._gid)"
      ],
      "metadata": {
        "id": "vtlUIWvS_1qF"
      },
      "execution_count": null,
      "outputs": []
    },
    {
      "cell_type": "markdown",
      "source": [
        "Let's create a cell!"
      ],
      "metadata": {
        "id": "HJSZeUvfFjk-"
      }
    },
    {
      "cell_type": "code",
      "source": [
        "new_cell = PyramidalCell(0)"
      ],
      "metadata": {
        "id": "WnRs9IBBFii2"
      },
      "execution_count": null,
      "outputs": []
    },
    {
      "cell_type": "markdown",
      "source": [
        "Let's plot the shape of the `new_cell`."
      ],
      "metadata": {
        "id": "JsCFliP6Sa2H"
      }
    },
    {
      "cell_type": "code",
      "source": [
        "ps = h.PlotShape(True)\n",
        "ps.plot(plt).mark(new_cell.soma(0.5))\n",
        "plt.show()"
      ],
      "metadata": {
        "id": "7apRyHa1SlVd"
      },
      "execution_count": null,
      "outputs": []
    },
    {
      "cell_type": "markdown",
      "source": [
        "Now, we are going to see how the `sca` channel looks like in terms of equations!"
      ],
      "metadata": {
        "id": "GJT6YwvlSfrC"
      }
    },
    {
      "cell_type": "code",
      "source": [
        "print(h.sca.code)"
      ],
      "metadata": {
        "id": "2HKVPgVTPOps"
      },
      "execution_count": null,
      "outputs": []
    },
    {
      "cell_type": "code",
      "source": [
        "# @markdown Plot the gating variables\n",
        "def Exp(x):\n",
        "  if x < -100:\n",
        "    return 0\n",
        "  else:\n",
        "    return np.exp(x)\n",
        "\n",
        "def vtrap(x, y):\n",
        "  if np.abs(x/y) < 1e-6:\n",
        "    v_ = y*(1 - x/y/2)\n",
        "  else:\n",
        "    v_ = x/(Exp(x/y) - 1)\n",
        "  return v_\n",
        "\n",
        "\n",
        "def inf_tau(a, b, qt=1):\n",
        "  \"\"\"\n",
        "  Calculate the steady-state and the time constant.\n",
        "\n",
        "  Args:\n",
        "    a : list\n",
        "      List with alpha values\n",
        "    b : list\n",
        "      List with beta values\n",
        "    qt : float, optional\n",
        "      Temperature correction. Default is 1.\n",
        "\n",
        "  ----\n",
        "\n",
        "  Returns:\n",
        "    xinf : float\n",
        "      The gate variable steady-state.\n",
        "    xtau: float\n",
        "      The gate variable time constant in ms.\n",
        "  \"\"\"\n",
        "\n",
        "  a = np.array(a)\n",
        "  b = np.array(b)\n",
        "\n",
        "  xinf = a/(a+b)\n",
        "  xtau = 1/(a+b)\n",
        "  return xinf, xtau/qt\n",
        "\n",
        "\n",
        "v_all = np.linspace(-120, 120, 10000)\n",
        "\n",
        "alpha_m, beta_m = [], []\n",
        "alpha_h, beta_h = [], []\n",
        "for v in v_all:\n",
        "  alpha_m.append(0.055*vtrap(-(v + 35), 1))\n",
        "  beta_m.append(0.94*np.exp(-(v + 75)/17))\n",
        "\n",
        "  alpha_h.append(0.000152*np.exp(-(v + 13)/50))\n",
        "  beta_h.append(0.00217/(np.exp(-(v + 15)/28) + 1))\n",
        "\n",
        "plt.figure(figsize=(8, 6))\n",
        "plt.subplot(1, 2, 1)\n",
        "plt.plot(v_all, alpha_m, label=r'$\\alpha_m$')\n",
        "plt.plot(v_all, beta_m, label=r'$\\beta_m$')\n",
        "plt.xlabel(r'v ($mV$)')\n",
        "plt.ylabel(r'rate coeff. ($ms^{-1}$)')\n",
        "plt.legend()\n",
        "\n",
        "plt.subplot(1, 2, 2)\n",
        "plt.plot(v_all, alpha_h, label=r'$\\alpha_h$')\n",
        "plt.plot(v_all, beta_h, label=r'$\\beta_h$')\n",
        "plt.xlabel(r'v ($mV$)')\n",
        "plt.ylabel(r'rate coeff. ($ms^{-1}$)')\n",
        "plt.legend()\n",
        "\n",
        "plt.tight_layout()\n",
        "plt.show()\n",
        "\n",
        "\n",
        "minf, mtau = inf_tau(alpha_m, beta_m)\n",
        "hinf, htau = inf_tau(alpha_h, beta_h)\n",
        "\n",
        "plt.figure(figsize=(8, 6))\n",
        "plt.subplot(1, 2, 1)\n",
        "plt.plot(v_all, minf, label=r'$m_\\infty$')\n",
        "plt.plot(v_all, hinf, label=r'$h_\\infty$')\n",
        "plt.xlabel(r'v ($mV$)')\n",
        "plt.ylabel('open probability')\n",
        "plt.legend()\n",
        "\n",
        "plt.subplot(1, 2, 2)\n",
        "plt.plot(v_all, mtau, label=r'$\\tau_m$')\n",
        "plt.plot(v_all, htau, label=r'$\\tau_h$')\n",
        "plt.xlabel(r'v ($mV$)')\n",
        "plt.ylabel(r'time cnst. ($ms$)')\n",
        "plt.legend()\n",
        "\n",
        "plt.tight_layout()\n",
        "plt.show()"
      ],
      "metadata": {
        "cellView": "form",
        "id": "gCRuDsbzRIAv"
      },
      "execution_count": null,
      "outputs": []
    },
    {
      "cell_type": "markdown",
      "source": [
        "## Synaptic Stimulation"
      ],
      "metadata": {
        "id": "uDAtfSb41jbA"
      }
    },
    {
      "cell_type": "code",
      "source": [
        "# Create a current Clamp starting at 200 ms and with duration 5ms. Amplitude is an argument.\n",
        "ic = h.IClamp(new_cell.soma(0.5))\n",
        "ic.delay = 200  # ms\n",
        "ic.dur = 5  # ms\n",
        "ic.amp = 0.0  # nA"
      ],
      "metadata": {
        "id": "nT38t8Ko1i_P"
      },
      "execution_count": null,
      "outputs": []
    },
    {
      "cell_type": "code",
      "source": [
        "# Include an EPSP\n",
        "syn = h.Exp2Syn(new_cell.tuft0(0.5))\n",
        "syn.tau1 = 0.1  # rise time\n",
        "syn.tau2 = 20  # decay time\n",
        "syn.e = 0  # reversal potential of the synapse\n",
        "\n",
        "#========== ...create an artificial spike (an \"event\" to be delivered to the synapse)...\n",
        "ns = h.NetStim(0.5)\n",
        "ns.start = 200  # stimulus onset\n",
        "ns.number = 1  # number of events\n",
        "\n",
        "#... and connect the event to the synapse.\n",
        "nc = h.NetCon(ns, syn)\n",
        "nc.delay = 0  # synaptic delay (ms)\n",
        "nc.weight[0] = 0.002  # synaptic weight (strength)"
      ],
      "metadata": {
        "id": "gPeJBFiv_Q7q"
      },
      "execution_count": null,
      "outputs": []
    },
    {
      "cell_type": "code",
      "source": [
        "vsoma_vec = h.Vector().record(new_cell.soma(0.5)._ref_v)  # Membrane potential vector\n",
        "vtrunk4_vec = h.Vector().record(new_cell.trunk4(0.5)._ref_v)  # Membrane potential vector\n",
        "t_vec = h.Vector().record(h._ref_t)  # Time stamp vector\n",
        "\n",
        "# Run the simulation\n",
        "h.finitialize(vinit)\n",
        "h.continuerun(tstop)\n",
        "\n",
        "# Remove the first 20ms to avoid artifacts\n",
        "tremove = 20\n",
        "vsoma_vec.remove(0, int(tremove/h.dt))\n",
        "vtrunk4_vec.remove(0, int(tremove/h.dt))\n",
        "t_vec.remove(0, int(tremove/h.dt))\n",
        "\n",
        "plt.figure(figsize=(8, 6))\n",
        "plt.plot(t_vec, vsoma_vec, label='soma')\n",
        "plt.plot(t_vec, vtrunk4_vec, label='trunk4')\n",
        "plt.xlabel('time (ms)')\n",
        "plt.ylabel('mV')\n",
        "plt.legend()\n",
        "plt.show()"
      ],
      "metadata": {
        "id": "t29AyLqE1342"
      },
      "execution_count": null,
      "outputs": []
    },
    {
      "cell_type": "markdown",
      "source": [
        "### Task: Stimuli combinations\n",
        "\n",
        "Try different combinations:\n",
        "\n",
        "1. Turn off both inputs\n",
        "2. Turn off somatic input, turn on dendritic one.\n",
        "3. Turn off dendritic input, turn on somatic input\n",
        "4. Turn on both inputs!\n",
        "\n",
        "Try to reproduce bursting somatic firing!"
      ],
      "metadata": {
        "id": "tkH_uWGOMLbA"
      }
    },
    {
      "cell_type": "code",
      "source": [
        "# Stimuli combinations\n",
        "current_soma = 0.0  # @param {type:\"number\"}\n",
        "weight_syn = 0.001 # @param {type:\"number\"}\n",
        "ic.amp = current_soma\n",
        "nc.weight[0] = weight_syn\n",
        "ic.delay = 200  # ms\n",
        "\n",
        "# Run the simulation\n",
        "h.finitialize(vinit)\n",
        "h.continuerun(tstop)\n",
        "\n",
        "# Remove the first 20ms to avoid artifacts\n",
        "tremove = 20\n",
        "vsoma_vec.remove(0, int(tremove/h.dt))\n",
        "vtrunk4_vec.remove(0, int(tremove/h.dt))\n",
        "t_vec.remove(0, int(tremove/h.dt))\n",
        "\n",
        "plt.figure(figsize=(8, 6))\n",
        "plt.plot(t_vec, vsoma_vec, label='soma')\n",
        "plt.plot(t_vec, vtrunk4_vec, label='trunk4')\n",
        "plt.xlabel('time (ms)')\n",
        "plt.ylabel('voltage (mV)')\n",
        "plt.legend()\n",
        "plt.show()"
      ],
      "metadata": {
        "id": "s8c078NdICyM",
        "cellView": "form"
      },
      "execution_count": null,
      "outputs": []
    },
    {
      "cell_type": "markdown",
      "source": [
        "# Homework\n",
        "\n",
        "Create 5 neurons and connect them in a ring network, so that the 0th neuron gives input to the 1st neuron, the 1st to the 2nd, ..., and the 5th to the 0th!\n",
        "\n",
        "\n",
        "**Hint:** You will need 5 synapses and 5 NetCon objects!"
      ],
      "metadata": {
        "id": "25B5VQ7hI8Gv"
      }
    }
  ]
}