{
  "nbformat": 4,
  "nbformat_minor": 0,
  "metadata": {
    "colab": {
      "name": "Practical_3a.ipynb",
      "provenance": [],
      "toc_visible": true,
      "include_colab_link": true
    },
    "kernelspec": {
      "name": "python3",
      "display_name": "Python 3"
    },
    "language_info": {
      "name": "python"
    }
  },
  "cells": [
    {
      "cell_type": "markdown",
      "metadata": {
        "id": "view-in-github",
        "colab_type": "text"
      },
      "source": [
        "<a href=\"https://colab.research.google.com/github/spirosChv/neuro208/blob/main/practicals/Practical_3a.ipynb\" target=\"_parent\"><img src=\"https://colab.research.google.com/assets/colab-badge.svg\" alt=\"Open In Colab\"/></a>"
      ]
    },
    {
      "cell_type": "markdown",
      "source": [
        "# Simulating dendrites - Part 1: How inputs propagate to the soma and how inputs interact.\n",
        "\n",
        "In this notebook we will see how inputs attenuate towards the soma. Also we will see how inputs integrate in a dendritic branch."
      ],
      "metadata": {
        "id": "CFFz4a7p0BOz"
      }
    },
    {
      "cell_type": "code",
      "source": [
        "!pip install neuron --quiet"
      ],
      "metadata": {
        "id": "B0VtDTHqz0Ge"
      },
      "execution_count": null,
      "outputs": []
    },
    {
      "cell_type": "code",
      "execution_count": null,
      "metadata": {
        "id": "usthWgIfzjmM"
      },
      "outputs": [],
      "source": [
        "import numpy as np\n",
        "import matplotlib.pyplot as plt\n",
        "from neuron import h\n",
        "from neuron.units import mV, ms, um\n",
        "h.load_file(\"stdrun.hoc\")"
      ]
    },
    {
      "cell_type": "code",
      "source": [
        "# @title Make nicer plots -- Execute this cell\n",
        "def mystyle():\n",
        "  \"\"\"\n",
        "  Create custom plotting style.\n",
        "\n",
        "  Returns\n",
        "  -------\n",
        "  my_style : dict\n",
        "      Dictionary with matplotlib parameters.\n",
        "\n",
        "  \"\"\"\n",
        "  # color pallette\n",
        "  style = {\n",
        "      # Use LaTeX to write all text\n",
        "      \"text.usetex\": False,\n",
        "      \"font.family\": \"DejaVu Sans\",\n",
        "      \"font.weight\": \"bold\",\n",
        "      # Use 16pt font in plots, to match 16pt font in document\n",
        "      \"axes.labelsize\": 16,\n",
        "      \"axes.titlesize\": 20,\n",
        "      \"font.size\": 16,\n",
        "      # Make the legend/label fonts a little smaller\n",
        "      \"legend.fontsize\": 14,\n",
        "      \"xtick.labelsize\": 14,\n",
        "      \"ytick.labelsize\": 14,\n",
        "      \"axes.linewidth\": 2.5,\n",
        "      \"lines.markersize\": 10.0,\n",
        "      \"lines.linewidth\": 2.5,\n",
        "      \"xtick.major.width\": 2.2,\n",
        "      \"ytick.major.width\": 2.2,\n",
        "      \"axes.labelweight\": \"bold\",\n",
        "      \"axes.spines.right\": False,\n",
        "      \"axes.spines.top\": False\n",
        "  }\n",
        "\n",
        "  return style\n",
        "\n",
        "\n",
        "plt.style.use(\"seaborn-colorblind\")\n",
        "plt.rcParams.update(mystyle())"
      ],
      "metadata": {
        "id": "bqXB1xt_8Vuh",
        "cellView": "form"
      },
      "execution_count": null,
      "outputs": []
    },
    {
      "cell_type": "markdown",
      "source": [
        "---\n",
        "## Create a soma and two dendrites, define their anatomical and biophysical properties and connect them.\n",
        "\n",
        "<br>\n",
        "\n",
        "<img src=\"https://raw.githubusercontent.com/spirosChv/neuro208/main/practicals/static/practical_3a.png\">"
      ],
      "metadata": {
        "id": "8yPtsBbmz7lA"
      }
    },
    {
      "cell_type": "markdown",
      "source": [
        "Define the simulation parameters"
      ],
      "metadata": {
        "id": "fI4fEn3tkb62"
      }
    },
    {
      "cell_type": "code",
      "source": [
        "# Simulation parameters\n",
        "tstop = 100 * ms  # simulation time (ms)\n",
        "h.dt = 0.1 * ms # integration step (ms)\n",
        "vinit = -65 * mV # initial voltage (mV)"
      ],
      "metadata": {
        "id": "5qhiFv-M0MLN"
      },
      "execution_count": null,
      "outputs": []
    },
    {
      "cell_type": "code",
      "source": [
        "soma = h.Section(name='soma')\n",
        "dend0, dend1 = [h.Section(name=n) for n in ['dend0', 'dend1']]\n",
        "\n",
        "# Define properties of soma\n",
        "soma.diam = 20 * um  # diameter (um)\n",
        "soma.L = 20 * um  # length (um)\n",
        "soma.Ra = 100  # Axial resistance (Ohm * cm)\n",
        "soma.cm = 1  # specific membrane capacitance (uF/cm2)\n",
        "soma.nseg = 1  # number of segments\n",
        "\n",
        "# Insert the hh channels (inluding leak)\n",
        "soma.insert('hh')\n",
        "for seg in soma:\n",
        "  seg.hh.gnabar = 0.12  # Sodium conductance (S/cm2)\n",
        "  seg.hh.gkbar = 0.036  # Potassium conductance (S/cm2)\n",
        "  seg.hh.gl = 0.0003  # Leak conductance (S/cm2)\n",
        "  seg.hh.el = -65  # Reversal potential (mV)\n",
        "\n",
        "# Define properties of dend0\n",
        "dend0.diam = 5 * um  # diameter (um)\n",
        "dend0.L = 500 * um  # length (um)\n",
        "dend0.cm = 1  # specific membrane capacitance (uF/cm2)\n",
        "dend0.Ra = 100  # Axial resistance (Ohm * cm)\n",
        "dend0.nseg = 11  # number of segments\n",
        "\n",
        "# Insert passive (leak) channels\n",
        "dend0.insert('pas')\n",
        "for seg in dend0:\n",
        "  seg.pas.e = -65  # leak reversal potential (mV)\n",
        "  seg.pas.g = 0.0003  # leak maximal conductance (S/cm2)\n",
        "\n",
        "# Define properties of dend1\n",
        "dend1.diam = 3 * um  # diameter (um)\n",
        "dend1.L = 200 * um  # length (um)\n",
        "dend1.cm = 1  # specific membrane capacitance (uF/cm2)\n",
        "dend1.Ra = 100  # Axial resistance (Ohm*cm)\n",
        "dend1.nseg = 13  # number of segments\n",
        "\n",
        "# Insert passive (leak) channels\n",
        "dend1.insert('pas')\n",
        "for seg in dend1:\n",
        "  seg.pas.e = -65  # leak reversal potential (mV)\n",
        "  seg.pas.g = 0.0003  # leak maximal conductance (S/cm2)"
      ],
      "metadata": {
        "id": "OHan2Eu60Z_L"
      },
      "execution_count": null,
      "outputs": []
    },
    {
      "cell_type": "markdown",
      "source": [
        "Let's connect the compartments!"
      ],
      "metadata": {
        "id": "sxTEUukt3g4D"
      }
    },
    {
      "cell_type": "code",
      "source": [
        "# Connect the `0` point of `dend0` to the `0` point of the soma, i.e., soma(0)\n",
        "dend0.connect(soma(0), 0)\n",
        "# Connect the `1` point of `dend0`, i.e., dend0(1), to the `0` point of the dend1, i.e., dend1(0)\n",
        "dend1.connect(dend0(1), 0)"
      ],
      "metadata": {
        "id": "uux975Vb3gO8"
      },
      "execution_count": null,
      "outputs": []
    },
    {
      "cell_type": "markdown",
      "source": [
        "Verify the connections using `h.topology()`"
      ],
      "metadata": {
        "id": "prf4iJP4DtUP"
      }
    },
    {
      "cell_type": "code",
      "source": [
        "h.topology()"
      ],
      "metadata": {
        "id": "X4ON_wf1DyDi"
      },
      "execution_count": null,
      "outputs": []
    },
    {
      "cell_type": "markdown",
      "source": [
        "Plot the shape of neuronal model using the `PlotShape` class. For more info, see [here](https://nrn.readthedocs.io/en/latest/python/visualization/plotshapeclass.html?highlight=PlotShape). The somatic section is represented with a red dot."
      ],
      "metadata": {
        "id": "I27Ai-q2D2_F"
      }
    },
    {
      "cell_type": "code",
      "source": [
        "ps = h.PlotShape()\n",
        "ps.plot(plt).mark(soma(0.5))\n",
        "plt.show()"
      ],
      "metadata": {
        "id": "QoOkxvVkD6GF"
      },
      "execution_count": null,
      "outputs": []
    },
    {
      "cell_type": "markdown",
      "source": [
        "---\n",
        "## Synaptic Stimulation"
      ],
      "metadata": {
        "id": "uDAtfSb41jbA"
      }
    },
    {
      "cell_type": "code",
      "source": [
        "# Place the synapse to the middle (0.5) of the soma...\n",
        "syn = h.ExpSyn(soma(0.5))\n",
        "syn.e = 0  # Reverse potential of the synapse (mV)\n",
        "\n",
        "#...create an artificial spike (an \"event\" to be delivered to the synapse)...\n",
        "tsignal = 50  # presynaptic spike time\n",
        "ns = h.NetStim(0.5)  # crete the presynaptic spike\n",
        "ns.start = tsignal  # set the presynaptic start\n",
        "ns.number = 1  # set the numbers of spikes\n",
        "\n",
        "#... and connect the event to the synapse.\n",
        "nc = h.NetCon(ns, syn)  # create the NetCon object\n",
        "nc.delay = 0  # set the delay (ms)\n",
        "nc.weight[0] = 0.008*1  # set the weight"
      ],
      "metadata": {
        "id": "nT38t8Ko1i_P"
      },
      "execution_count": null,
      "outputs": []
    },
    {
      "cell_type": "markdown",
      "source": [
        "---\n",
        "## Example simulation\n",
        "\n",
        "Calculate and print in terminal the depolarization at the soma and at the middle part of the distal dendrite (`dend1`)."
      ],
      "metadata": {
        "id": "XNcvuB5W11LY"
      }
    },
    {
      "cell_type": "code",
      "source": [
        "vsoma_vec = h.Vector().record(soma(0.5)._ref_v)  # Membrane potential vector\n",
        "vdend1_vec = h.Vector().record(dend1(0.5)._ref_v)  # Membrane potential vector\n",
        "t_vec = h.Vector().record(h._ref_t)  # Time stamp vector\n",
        "\n",
        "# Run the simulation\n",
        "h.finitialize(vinit)\n",
        "h.continuerun(tstop)\n",
        "\n",
        "# Remove the first 20ms to avoid artifacts\n",
        "tremove = 20\n",
        "vsoma_vec.remove(0, int(tremove/h.dt))\n",
        "vdend1_vec.remove(0, int(tremove/h.dt))\n",
        "t_vec.remove(0, int(tremove/h.dt))\n",
        "\n",
        "plt.figure(figsize=(8, 6))\n",
        "plt.plot(t_vec, vsoma_vec, color='black', label='soma')\n",
        "plt.plot(t_vec, vdend1_vec, color='red', label='dend')\n",
        "plt.xlabel('time (ms)')\n",
        "plt.ylabel('mV')\n",
        "plt.legend()\n",
        "plt.show()\n",
        "\n",
        "print (f'\\nSomatic depolarization is {np.round(vsoma_vec.max()-vsoma_vec[int((tsignal-tremove)/h.dt)-1], 2)} mV')\n",
        "print (f'Distal Dendritic depolarization is {np.round(vdend1_vec.max()-vdend1_vec[int((tsignal-tremove)/h.dt)-1], 2)} mV')"
      ],
      "metadata": {
        "id": "t29AyLqE1342"
      },
      "execution_count": null,
      "outputs": []
    },
    {
      "cell_type": "markdown",
      "source": [
        "### Task 1: How can you easily make this synapse inhibitory?"
      ],
      "metadata": {
        "id": "4LhhN5tx7UpY"
      }
    },
    {
      "cell_type": "markdown",
      "source": [
        "<details>\n",
        "<summary>Click to see the answer!</summary>\n",
        "\n",
        "We have to reduce the reversal potential of the synapse below the resting membrane potential.\n",
        "\n",
        "```python\n",
        "syn.e = -70\n",
        "```"
      ],
      "metadata": {
        "id": "Wlp521fCbjK6"
      }
    },
    {
      "cell_type": "code",
      "source": [
        "# @markdown Re-execute the code!\n",
        "\n",
        "e_syn = 0  # @param {type:\"number\"}\n",
        "syn.e = e_syn\n",
        "\n",
        "print(f\"The reversal potetnial of the synapse has been set to {value} mV\")"
      ],
      "metadata": {
        "cellView": "form",
        "id": "0TaLlkccb7Fs"
      },
      "execution_count": null,
      "outputs": []
    },
    {
      "cell_type": "code",
      "source": [
        "# Run the simulation\n",
        "h.finitialize(vinit)\n",
        "h.continuerun(tstop)\n",
        "\n",
        "# Remove the first 20ms to avoid artifacts\n",
        "tremove = 20\n",
        "vsoma_vec.remove(0, int(tremove/h.dt))\n",
        "vdend1_vec.remove(0, int(tremove/h.dt))\n",
        "t_vec.remove(0, int(tremove/h.dt))\n",
        "\n",
        "plt.figure(figsize=(8, 6))\n",
        "plt.plot(t_vec, vsoma_vec, color='black', label='soma')\n",
        "plt.plot(t_vec, vdend1_vec, color='red', label='dend')\n",
        "plt.xlabel('time (ms)')\n",
        "plt.ylabel('mV')\n",
        "plt.legend()\n",
        "plt.show()"
      ],
      "metadata": {
        "id": "rsR2aNd8cXfL"
      },
      "execution_count": null,
      "outputs": []
    },
    {
      "cell_type": "markdown",
      "source": [
        "### Task 2: Move the synapse to the middle of `dend1` section.\n",
        "### What do you expect for the amplitude and the duration of the EPSP seen at the dendrite and at the soma?"
      ],
      "metadata": {
        "id": "u3NSC_w-7gDv"
      }
    },
    {
      "cell_type": "code",
      "source": [
        "# Place the synapse to the middle (0.5) of the dend1...\n",
        "syn = h.ExpSyn(...)\n",
        "syn.e = 0  # Reverse potential of the synapse (mV)\n",
        "\n",
        "#... and connect the event to the synapse.\n",
        "nc = h.NetCon(ns, syn)  # create the NetCon object\n",
        "nc.delay = 0  # set the delay (ms)\n",
        "nc.weight[0] = 0.008*1  # set the weight"
      ],
      "metadata": {
        "cellView": "code",
        "id": "_2jItxFYcNfN"
      },
      "execution_count": null,
      "outputs": []
    },
    {
      "cell_type": "markdown",
      "source": [
        "<details>\n",
        "<summary>Ckick here to see the answer</summary>\n",
        "\n",
        "```python\n",
        "syn = h.ExpSyn(dend1(0.5))\n",
        "```"
      ],
      "metadata": {
        "id": "IfufPxdocM3L"
      }
    },
    {
      "cell_type": "code",
      "source": [
        "# Run the simulation\n",
        "h.finitialize(vinit)\n",
        "h.continuerun(tstop)\n",
        "\n",
        "# Remove the first 20ms to avoid artifacts\n",
        "tremove = 20\n",
        "vsoma_vec.remove(0, int(tremove/h.dt))\n",
        "vdend1_vec.remove(0, int(tremove/h.dt))\n",
        "t_vec.remove(0, int(tremove/h.dt))\n",
        "\n",
        "plt.figure(figsize=(8, 6))\n",
        "plt.plot(t_vec, vsoma_vec, color='black', label='soma')\n",
        "plt.plot(t_vec, vdend1_vec, color='red', label='dend')\n",
        "plt.xlabel('time (ms)')\n",
        "plt.ylabel('mV')\n",
        "plt.legend()\n",
        "plt.show()\n",
        "\n",
        "print (f'\\nSomatic depolarization is {np.round(vsoma_vec.max()-vsoma_vec[int((tsignal-tremove)/h.dt)-1], 2)} mV')\n",
        "print (f'Distal Dendritic depolarization is {np.round(vdend1_vec.max()-vdend1_vec[int((tsignal-tremove)/h.dt)-1], 2)} mV')"
      ],
      "metadata": {
        "id": "PKmPzOKpceEs"
      },
      "execution_count": null,
      "outputs": []
    },
    {
      "cell_type": "markdown",
      "source": [
        "### Task 3: Insert 1 to 5 synapses like this one in the same location. In this case, this is equivalent to increasing the weight 1 to 5 times.\n",
        "\n",
        "- What is the expected (arithmetic sum) versus actual (simulated output)?\n",
        "- Is their relationship linear?"
      ],
      "metadata": {
        "id": "L-bdDJoY7nOU"
      }
    },
    {
      "cell_type": "code",
      "source": [
        "nsyn = 18 # @param {type:\"slider\", min:1, max:25, step:1}\n",
        "nc.weight[0] = 0.008*nsyn  # set the weight\n",
        "\n",
        "# Run the simulation\n",
        "h.finitialize(vinit)\n",
        "h.continuerun(tstop)\n",
        "\n",
        "# Remove the first 20ms to avoid artifacts\n",
        "tremove = 20\n",
        "vsoma_vec.remove(0, int(tremove/h.dt))\n",
        "vdend1_vec.remove(0, int(tremove/h.dt))\n",
        "t_vec.remove(0, int(tremove/h.dt))\n",
        "\n",
        "plt.figure(figsize=(8, 6))\n",
        "plt.plot(t_vec, vsoma_vec, color='black', label='soma')\n",
        "plt.plot(t_vec, vdend1_vec, color='red', label='dend')\n",
        "plt.xlabel('time (ms)')\n",
        "plt.ylabel('mV')\n",
        "plt.legend()\n",
        "plt.show()\n",
        "\n",
        "print (f'\\nSomatic depolarization is {np.round(vsoma_vec.max()-vsoma_vec[int((tsignal-tremove)/h.dt)-1], 2)} mV')\n",
        "print (f'Distal Dendritic depolarization is {np.round(vdend1_vec.max()-vdend1_vec[int((tsignal-tremove)/h.dt)-1], 2)} mV')"
      ],
      "metadata": {
        "cellView": "form",
        "id": "AkpxjWMxciMn"
      },
      "execution_count": null,
      "outputs": []
    },
    {
      "cell_type": "markdown",
      "source": [
        "Now, let's run the loop!"
      ],
      "metadata": {
        "id": "R3XNq1eqciwK"
      }
    },
    {
      "cell_type": "code",
      "source": [
        "N = 25\n",
        "actual_epsp = []\n",
        "for i in range(N):\n",
        "  nc.weight[0] = 0.008*(i+1)\n",
        "\n",
        "  # reinitialize the simulator and run again\n",
        "  h.finitialize(vinit)\n",
        "  h.continuerun(tstop)\n",
        "\n",
        "  # Remove the first 20ms to avoid artifacts\n",
        "  tremove = 20\n",
        "  vsoma_vec.remove(0, int(tremove/h.dt))\n",
        "  t_vec.remove(0, int(tremove/h.dt))\n",
        "  actual_epsp.append(np.round(vsoma_vec.max() - vsoma_vec[int((tsignal-tremove)/h.dt)-1], 2))\n",
        "\n",
        "# Calculate the expected EPSP\n",
        "expected_epsp = [actual_epsp[0]*i for i in range(1, N+1)]\n",
        "\n",
        "# Plots the results\n",
        "plt.figure(figsize=(8, 6))\n",
        "plt.plot(expected_epsp, actual_epsp, color='red', label='actual')\n",
        "plt.plot(expected_epsp, expected_epsp, linestyle='dashed', color='black', label='linear')\n",
        "plt.xlabel('Expected EPSP-Linear Summation (mV)')\n",
        "plt.ylabel('Actual EPSP (mV)')\n",
        "plt.legend()\n",
        "plt.show()"
      ],
      "metadata": {
        "id": "_uGhg9z77rVK"
      },
      "execution_count": null,
      "outputs": []
    },
    {
      "cell_type": "markdown",
      "source": [
        "---\n",
        "## Bonus: Calculate the spatial constant $\\lambda$\n",
        "\n",
        "The space (length) constant $\\lambda$ with $\\lambda = (R_md/(4R_a))^{1/2}$ is a measure of steady-state voltage decay with distance in a cell. Quantitatively $\\lambda$ is the distance over which the steady-state voltage decays to $1/e$ or 37% of its value at the origin in a semi-infinite cable.\n",
        "\n",
        "**Note:** The units of $\\lambda$ are $cm$. How?\n",
        "\n",
        "\\begin{equation}\n",
        "\\lambda = \\sqrt{\\frac{r_m}{r_a}} = \\sqrt{\\frac{R_md}{4R_a}} \\rightarrow \\sqrt{\\frac{\\Omega \\cdot cm^2 \\cdot cm}{\\Omega \\cdot cm}} = cm.\n",
        "\\end{equation}\n",
        "\n",
        "where $R_a$ is the specific axial resistance (resistivty) in $\\Omega \\cdot cm$, $R_m$ the specific membrane resistance in $\\Omega \\cdot cm^2$, and $d$ the diameter in $cm$.\n",
        "\n",
        "<br>\n",
        "\n",
        "**Note:** The relationship between $r_m$ (membrane resistance per inverse unit length) and $r_a$ (axial resistance per unit length) with $R_m$ and $R_a$, respectively is:\n",
        "\n",
        "\\begin{align}\n",
        "r_m &= \\frac{R_m}{\\pi d} \\text{: in } \\Omega \\cdot cm \\\\ \\\\\n",
        "r_a &= \\frac{R_a}{\\pi  \\left( \\frac{d}{2} \\right)^2} \\text{: in } \\Omega \\cdot cm^{-1}\n",
        "\\end{align}\n",
        "\n",
        "where $\\pi  \\left( \\frac{d}{2} \\right)^2$ denotes the corss-section area (i.e, area of a circle with diameter $d$), and $\\pi d$ is the length of a membrane (i.e., circle with diameter $d$).\n",
        "\n",
        "**Remember:** $R_m = 1/g_L$"
      ],
      "metadata": {
        "id": "kDl-zbcvDZIR"
      }
    },
    {
      "cell_type": "code",
      "source": [
        "long_dend = h.Section(name='long_dend')\n",
        "long_dend.L = 1000\n",
        "long_dend.diam = 2\n",
        "long_dend.Ra = 200\n",
        "long_dend.cm = 1\n",
        "long_dend.nseg = 13\n",
        "vdend_vec_segs, vdend_x = [], []\n",
        "long_dend.insert('pas')\n",
        "for seg in long_dend:\n",
        "  seg.pas.e = -65  # leak reversal potential (mV)\n",
        "  seg.pas.g = 0.0003  # leak maximal conductance (S/cm2)\n",
        "  vdend_vec_segs.append(h.Vector().record(long_dend(seg.x)._ref_v))  # Membrane potential vector\n",
        "  vdend_x.append(seg.x)\n",
        "\n",
        "vdend_vec_segs = [h.Vector().record(long_dend(0)._ref_v)] + vdend_vec_segs + [h.Vector().record(long_dend(1)._ref_v)]\n",
        "vdend1_x = [0] + vdend_x + [1]\n",
        "\n",
        "t_vec = h.Vector().record(h._ref_t)  # Time stamp vector"
      ],
      "metadata": {
        "id": "HhVH0RIDDoDm"
      },
      "execution_count": null,
      "outputs": []
    },
    {
      "cell_type": "code",
      "source": [
        "# Add a stimulus at the start of dend1 Section\n",
        "stim = h.IClamp(long_dend(0))\n",
        "stim.delay = 30\n",
        "stim.dur = tstop\n",
        "stim.amp = 0.1"
      ],
      "metadata": {
        "id": "fcp7fHQJDxWR"
      },
      "execution_count": null,
      "outputs": []
    },
    {
      "cell_type": "code",
      "source": [
        "# reinitialize the simulator and run again\n",
        "h.finitialize(vinit)\n",
        "h.continuerun(tstop)\n",
        "\n",
        "# Remove the first 20ms to avoid artifacts\n",
        "tremove = 20\n",
        "vsoma_vec.remove(0, int(tremove/h.dt))\n",
        "vdend_vec_segs = [vec.remove(0, int(tremove/h.dt)) for vec in vdend_vec_segs]\n",
        "t_vec.remove(0, int(tremove/h.dt))\n",
        "\n",
        "peak_seg = []\n",
        "for vec_seg in vdend_vec_segs:\n",
        "  peak_seg.append(vec_seg.x[-1] - vec_seg.x[0])"
      ],
      "metadata": {
        "id": "06zKHFs5Dz-Y"
      },
      "execution_count": null,
      "outputs": []
    },
    {
      "cell_type": "code",
      "source": [
        "# plt.figure(figsize=(8, 6))\n",
        "# for i, vec in enumerate(vdend1_vec_segs):\n",
        "#   plt.plot(t_vec, vec-vec.x[0], label=f\"segment {i}\")\n",
        "# plt.xlabel('time (ms)')\n",
        "# plt.ylabel('$\\Delta V$ (mV)')\n",
        "# plt.legend()\n",
        "# plt.show()"
      ],
      "metadata": {
        "id": "Of7HcfGn4dzW"
      },
      "execution_count": null,
      "outputs": []
    },
    {
      "cell_type": "code",
      "source": [
        "physical_dists = [0] + [long_dend.L*(0.5 + i)/long_dend.nseg for i in range(long_dend.nseg)] + [long_dend.L]\n",
        "norm_voltage = [(p-min(peak_seg))/(max(peak_seg)-min(peak_seg)) for p in peak_seg]\n",
        "\n",
        "plt.figure(figsize=(8, 6))\n",
        "plt.plot(physical_dists, norm_voltage)\n",
        "plt.axvline(x=0*dend1.L, linestyle='dashed', color='k', alpha=0.3)\n",
        "plt.axhline(y=0.37, linestyle='dashed', color='k', alpha=0.3)\n",
        "plt.xlabel('position on dend1 (um)')\n",
        "plt.ylabel('normalized voltage (mV)')\n",
        "plt.show()"
      ],
      "metadata": {
        "id": "yLmtue4DE4Ov"
      },
      "execution_count": null,
      "outputs": []
    },
    {
      "cell_type": "code",
      "source": [
        "idx = np.where(np.isclose(norm_voltage, 1/np.exp(1), atol=1e-1))[0][-1].item()\n",
        "print(f\"The spatial constant is: {physical_dists[idx]} um\")"
      ],
      "metadata": {
        "id": "0lnvExrqtzWU"
      },
      "execution_count": null,
      "outputs": []
    },
    {
      "cell_type": "markdown",
      "source": [
        "We can plot the voltage across space using the `h.RangeVarPlot()` function. Notice that, this function plots the voltage of all segments between two specific nodes at the end of the simulation."
      ],
      "metadata": {
        "id": "mvEuQplQa3j3"
      }
    },
    {
      "cell_type": "code",
      "source": [
        "rvp = h.RangeVarPlot('v', long_dend(0), long_dend(1))\n",
        "plt.figure(figsize=(8, 6))\n",
        "rvp.plot(plt)\n",
        "plt.axvline(x=0*long_dend.L, linestyle='dashed', color='k', alpha=0.3)\n",
        "plt.xlabel('position on dend1 (um)')\n",
        "plt.ylabel('normalized voltage (mV)')\n",
        "plt.show()\n",
        "plt.show()"
      ],
      "metadata": {
        "id": "BygXykf6_rS0"
      },
      "execution_count": null,
      "outputs": []
    },
    {
      "cell_type": "markdown",
      "source": [
        "We can use the `curve_fit` method from `scipy` package. For more info see [here](https://docs.scipy.org/doc/scipy/reference/generated/scipy.optimize.curve_fit.html)."
      ],
      "metadata": {
        "id": "NwuzSThvshdh"
      }
    },
    {
      "cell_type": "code",
      "source": [
        "from scipy.optimize import curve_fit\n",
        "\n",
        "voltage = np.array(rvp.vector())\n",
        "\n",
        "# define type of function to search\n",
        "def model_func(vector, a, b, c):\n",
        "  return a * np.exp(-b*vector) + c\n",
        "\n",
        "\n",
        "# curve fit\n",
        "p0 = (1., 1.e-5, 1.)  # initial guess of params\n",
        "opt, pcov = curve_fit(model_func, physical_dists, voltage, p0)\n",
        "a, b, c = opt\n",
        "\n",
        "xfitted = np.linspace(0, long_dend.L, 100)\n",
        "yfitted = model_func(xfitted, a, b, c)\n",
        "\n",
        "plt.figure(figsize=(8, 6))\n",
        "plt.plot(xfitted, yfitted, color='black', label=f\"Fit. func: $f(x) = {a:.3f} exp(- {b:.3f} x) {c:.3f}$\")\n",
        "plt.plot(physical_dists, voltage, 'ro', label='observed data')\n",
        "plt.xlabel('position on long_dend (um)')\n",
        "plt.ylabel('voltage (mV)')\n",
        "plt.legend()\n",
        "plt.show()"
      ],
      "metadata": {
        "id": "oRKlZN9copah"
      },
      "execution_count": null,
      "outputs": []
    },
    {
      "cell_type": "code",
      "source": [
        "print(f\"The spatial constant is: {1/b} um\")"
      ],
      "metadata": {
        "id": "OxW7okTNpEDP"
      },
      "execution_count": null,
      "outputs": []
    },
    {
      "cell_type": "code",
      "source": [
        "Rm = 1/long_dend(0.5).pas.g  # Membrane resistance in Ohm cm2\n",
        "lambda_x = np.sqrt(long_dend.diam*(1e-4)*Rm/(4*long_dend.Ra))\n",
        "print(f\"The theoretical spatial constant is: {lambda_x*1e4} um\")"
      ],
      "metadata": {
        "id": "Z15Hth48OVGJ"
      },
      "execution_count": null,
      "outputs": []
    },
    {
      "cell_type": "markdown",
      "source": [
        "### Questions\n",
        "\n",
        "1. How we can reduce/increase the space constant?\n",
        "2. How dendrites overcome the limitation of the attenuated signals?"
      ],
      "metadata": {
        "id": "oEgW-pTQxJzr"
      }
    }
  ]
}