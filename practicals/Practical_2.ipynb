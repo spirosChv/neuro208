{
  "nbformat": 4,
  "nbformat_minor": 0,
  "metadata": {
    "colab": {
      "provenance": [],
      "include_colab_link": true
    },
    "kernelspec": {
      "name": "python3",
      "display_name": "Python 3"
    },
    "language_info": {
      "name": "python"
    }
  },
  "cells": [
    {
      "cell_type": "markdown",
      "metadata": {
        "id": "view-in-github",
        "colab_type": "text"
      },
      "source": [
        "<a href=\"https://colab.research.google.com/github/spirosChv/neuro208/blob/main/practicals/Practical_2.ipynb\" target=\"_parent\"><img src=\"https://colab.research.google.com/assets/colab-badge.svg\" alt=\"Open In Colab\"/></a>"
      ]
    },
    {
      "cell_type": "markdown",
      "source": [
        "# Spiking neuronal models"
      ],
      "metadata": {
        "id": "f6aGOdG9zQNa"
      }
    },
    {
      "cell_type": "code",
      "execution_count": null,
      "metadata": {
        "id": "8Org9R00e4AB"
      },
      "outputs": [],
      "source": [
        "import numpy as np\n",
        "import matplotlib.pyplot as plt"
      ]
    },
    {
      "cell_type": "code",
      "source": [
        "# @title Make plots nicer  -- Execute this cell\n",
        "def mystyle():\n",
        "  \"\"\"\n",
        "  Create custom plotting style.\n",
        "\n",
        "  Returns\n",
        "  -------\n",
        "  my_style : dict\n",
        "      Dictionary with matplotlib parameters.\n",
        "\n",
        "  \"\"\"\n",
        "  # color pallette\n",
        "  style = {\n",
        "      # Use LaTeX to write all text\n",
        "      \"text.usetex\": False,\n",
        "      \"font.family\": \"DejaVu Sans\",\n",
        "      \"font.weight\": \"bold\",\n",
        "      # Use 16pt font in plots, to match 16pt font in document\n",
        "      \"axes.labelsize\": 16,\n",
        "      \"axes.titlesize\": 20,\n",
        "      \"font.size\": 16,\n",
        "      # Make the legend/label fonts a little smaller\n",
        "      \"legend.fontsize\": 14,\n",
        "      \"xtick.labelsize\": 14,\n",
        "      \"ytick.labelsize\": 14,\n",
        "      \"axes.linewidth\": 2.5,\n",
        "      \"lines.markersize\": 10.0,\n",
        "      \"lines.linewidth\": 2.5,\n",
        "      \"xtick.major.width\": 2.2,\n",
        "      \"ytick.major.width\": 2.2,\n",
        "      \"axes.labelweight\": \"bold\",\n",
        "      \"axes.spines.right\": False,\n",
        "      \"axes.spines.top\": False\n",
        "  }\n",
        "\n",
        "  return style\n",
        "\n",
        "\n",
        "plt.rcParams.update(mystyle())"
      ],
      "metadata": {
        "cellView": "form",
        "id": "uLf1kWv2ukcj"
      },
      "execution_count": null,
      "outputs": []
    },
    {
      "cell_type": "markdown",
      "source": [
        "---\n",
        "## About units\n",
        "\n",
        "- Capacitance ($C_m$): $\\text{Farad}$ or $\\text{F}$, $1F = 1 C/V = 1 s/\\Omega$, in SI $kg^{-1} \\cdot m^{-2} \\cdot s^4 \\cdot A^2$\n",
        "- Leak Conductance ($g_L$) in $\\text{Siemens}$ or $S$ or $\\Omega^{-1}$ or $\\text{mho}$, in SI $1S = kg^{-1} \\cdot m^{-2} \\cdot s^3 \\cdot A^2$\n",
        "- Membrane time constant $\\tau_m$ in $\\text{seconds}$ or $s$\n",
        "\n",
        "Thus,\n",
        "\n",
        "\\begin{equation}\n",
        "\\tau_m = C_m \\cdot R_m = \\frac{C_m}{g_L}\n",
        "\\end{equation}\n",
        "\n",
        "is given in $seconds$. However, in Neurosciense we use time constants expressed in $miliseconds$ or $ms$.\n",
        "\n",
        "\n",
        "Let's assume that $C_m = 2 pF$ and $g_L = 0.1 nS$, then $\\tau_m = 20ms$."
      ],
      "metadata": {
        "id": "VeiESqxLphOg"
      }
    },
    {
      "cell_type": "markdown",
      "source": [
        "---\n",
        "## Example 1: Leaky Integrate-and-Fire (LIF) model\n",
        "\n",
        "\\begin{equation}\n",
        "C_m \\frac{dV}{dt} = -g_L (V-E_L) + I_e\n",
        "\\end{equation}\n",
        "\n",
        "where $C_m$ is the membrane capacitance, $g_L$ and $E_L$ are the leak conductance and reversal potential, reespectively, and $I_e$ is an input current.\n",
        "\n",
        "Spike mechanism:\n",
        "\n",
        "\\begin{equation}\n",
        "\\text{if } V \\ge V_{th} \\text{ then } V → V_r\n",
        "\\end{equation}"
      ],
      "metadata": {
        "id": "PQTB8HJPtUGm"
      }
    },
    {
      "cell_type": "code",
      "source": [
        "# Simulation parameters\n",
        "T = 2000  # ms\n",
        "dt = 0.1  # ms\n",
        "steps = int(T/dt)\n",
        "t_vector = np.linspace(0, T, steps+1)"
      ],
      "metadata": {
        "id": "fhiFUruvfG8W"
      },
      "execution_count": null,
      "outputs": []
    },
    {
      "cell_type": "code",
      "source": [
        "# Model Parameters\n",
        "Cm = 300  # membrane capacitance in pF\n",
        "gL = 15  # leaky conductance in nS\n",
        "EL = -70  # leaky reversal potential in mV\n",
        "\n",
        "Vth = -54  # threshold in mV\n",
        "Vr = -80  # reset in mV"
      ],
      "metadata": {
        "id": "QNRs3KJYe-fo"
      },
      "execution_count": null,
      "outputs": []
    },
    {
      "cell_type": "code",
      "source": [
        "# Create the exteral current\n",
        "Ie = np.zeros((len(t_vector), ))\n",
        "\n",
        "t1 = 100  # ms\n",
        "t2 = t1 + 1000  # ms\n",
        "\n",
        "n1 = int(t1/dt)\n",
        "n2 = int(t2/dt)\n",
        "\n",
        "Ie[n1:n2 + 1] = 300  # current amplitude in pA\n",
        "\n",
        "plt.figure(figsize=(8, 6))\n",
        "plt.plot(t_vector, Ie)\n",
        "plt.xlabel('time (ms)')\n",
        "plt.ylabel('current (pA)')\n",
        "plt.show()"
      ],
      "metadata": {
        "id": "6aYEBGu0f3b8"
      },
      "execution_count": null,
      "outputs": []
    },
    {
      "cell_type": "code",
      "source": [
        "# Simulation\n",
        "V = np.zeros((len(t_vector), ))  # Array to store the voltage\n",
        "V[0] = EL  # initialize voltage at rest\n",
        "tspike = []  # empty list to store spiketimes.\n",
        "\n",
        "# Write the Euler method\n",
        "for n in range(steps):\n",
        "  ##################################\n",
        "  # YOUR CODE GOES HERE\n",
        "  ##################################\n",
        "  deriv = ...\n",
        "  V[n+1] = ...\n",
        "\n",
        "  # Spike mechanism\n",
        "  if V[n+1] > Vth:  # if V is greater than the threshold\n",
        "    tspike.append(n*dt)  # record the spike time\n",
        "    ##################################\n",
        "    # YOUR CODE GOES HERE\n",
        "    ##################################\n",
        "    V[n+1] = ...  # reset the voltage"
      ],
      "metadata": {
        "id": "L9ELKhFOuFDE"
      },
      "execution_count": null,
      "outputs": []
    },
    {
      "cell_type": "code",
      "source": [
        "# Print the spiketimes\n",
        "for t in tspike:\n",
        "  print(f\"Spike at: {np.round(t, 1)} ms\")\n",
        "\n",
        "print(f\"\\nNumber of spikes: {len(tspike)}\")"
      ],
      "metadata": {
        "id": "YW4rRf-CvHxJ"
      },
      "execution_count": null,
      "outputs": []
    },
    {
      "cell_type": "code",
      "source": [
        "plt.figure(figsize=(8, 6))\n",
        "plt.plot(t_vector, V)\n",
        "plt.xlabel('time (ms)')\n",
        "plt.ylabel('voltage (mV)')\n",
        "plt.show()"
      ],
      "metadata": {
        "id": "sc9n868Vus44"
      },
      "execution_count": null,
      "outputs": []
    },
    {
      "cell_type": "code",
      "source": [
        "# Draw nicer spikes\n",
        "for t in tspike:\n",
        "  n = int(t/dt)\n",
        "  V[n] = 20\n",
        "\n",
        "plt.figure(figsize=(8, 6))\n",
        "plt.plot(t_vector, V)\n",
        "plt.xlabel('time (ms)')\n",
        "plt.ylabel('voltage (mV)')\n",
        "plt.show()"
      ],
      "metadata": {
        "id": "4eNVZl86u4Qx"
      },
      "execution_count": null,
      "outputs": []
    },
    {
      "cell_type": "markdown",
      "source": [
        "Let's add a refractory period, $t_{ref}$, during which the neuron cannot spike!"
      ],
      "metadata": {
        "id": "LhDx4-Trvvx2"
      }
    },
    {
      "cell_type": "code",
      "source": [
        "tref = 20  # refracrtory period in ms"
      ],
      "metadata": {
        "id": "ZmKJiOOOv5Y-"
      },
      "execution_count": null,
      "outputs": []
    },
    {
      "cell_type": "code",
      "source": [
        "V_LIF = np.zeros((len(t_vector), ))\n",
        "V_LIF[0] = EL\n",
        "tspike = [-1]  # add a negative value for programming convinience.\n",
        "flag = True\n",
        "\n",
        "for n in range(steps):\n",
        "  deriv = (-gL*(V_LIF[n]-EL) + Ie[n])/Cm\n",
        "  V_LIF[n+1] = V_LIF[n] + dt*deriv\n",
        "\n",
        "  if V_LIF[n+1] > Vth and flag:\n",
        "    tspike.append(n*dt)\n",
        "    V_LIF[n+1] = Vr\n",
        "    flag = False\n",
        "\n",
        "  if not flag:\n",
        "    V_LIF[n + 1] = Vr\n",
        "\n",
        "  if n*dt > tref + tspike[-1]:\n",
        "    flag = True"
      ],
      "metadata": {
        "id": "48rHedfrfhMA"
      },
      "execution_count": null,
      "outputs": []
    },
    {
      "cell_type": "code",
      "source": [
        "# Print the spiketimes\n",
        "tspike_LIF = tspike[1:]  # remove the 'fake' spiketime\n",
        "for t in tspike_LIF:\n",
        "  print(f\"Spike at: {np.round(t, 1)} ms\")\n",
        "\n",
        "print(f\"\\nNumber of spikes: {len(tspike_LIF)}\")"
      ],
      "metadata": {
        "id": "VhG_HIcyyr3H"
      },
      "execution_count": null,
      "outputs": []
    },
    {
      "cell_type": "code",
      "source": [
        "plt.figure(figsize=(8, 6))\n",
        "plt.plot(t_vector, V_LIF)\n",
        "plt.xlabel('time (ms)')\n",
        "plt.ylabel('voltage (mV)')\n",
        "plt.title('LIF model')\n",
        "plt.show()"
      ],
      "metadata": {
        "id": "rK6z6uF8gZ_c"
      },
      "execution_count": null,
      "outputs": []
    },
    {
      "cell_type": "code",
      "source": [
        "# Draw nicer spikes\n",
        "for t in tspike_LIF:\n",
        "  n = int(t/dt)\n",
        "  V_LIF[n] = 20\n",
        "\n",
        "plt.figure(figsize=(8, 6))\n",
        "plt.plot(t_vector, V_LIF)\n",
        "plt.xlabel('time (ms)')\n",
        "plt.ylabel('voltage (mV)')\n",
        "plt.title('LIF model')\n",
        "plt.show()"
      ],
      "metadata": {
        "id": "TsnF3KBjiAad"
      },
      "execution_count": null,
      "outputs": []
    },
    {
      "cell_type": "markdown",
      "source": [
        "---\n",
        "## Example 2: Quadratic Integrate-and-Fire (QIF) model\n",
        "\n",
        "\\begin{equation}\n",
        "C_m \\frac{dV}{dt} = -g_L \\frac{(V-E_L)(V_{th} - V)}{V_{th}-E_L} + I_e\n",
        "\\end{equation}\n",
        "\n",
        "\n",
        "where $C_m$ is the membrane capacitance, $g_L$ and $E_L$ are the leak conductance and reversal potential, reespectively. $V_{th}$ is the spike threshold, and $I_e$ is an input current. Once the membrane potential crosses $V_{th}$, it diverges to infinity in finite time. In numerical simulation the integration is stopped if the membrane potential hits an arbitrary threshold $V_{peak}$ (much larger than $V_{th}$) at which the membrane potential is reset to a value $V_r$.\n",
        "\n",
        "\n",
        "Spike mechanism:\n",
        "\n",
        "\\begin{equation}\n",
        "\\text{if } V \\ge V_{peak} \\text{ then } V → V_r\n",
        "\\end{equation}"
      ],
      "metadata": {
        "id": "fEq_b_jPtcl3"
      }
    },
    {
      "cell_type": "code",
      "source": [
        "# Simulation parameters\n",
        "T = 2000  # ms\n",
        "dt = 0.1  # ms\n",
        "steps = int(T/dt)\n",
        "t_vector = np.linspace(0, T, steps+1)\n",
        "\n",
        "# Model Parameters\n",
        "C = 300  # membrane capacitance in pF\n",
        "gL = 15  # leaky conductance in nS\n",
        "EL = -70  # leaky reversal potential in mV\n",
        "\n",
        "Vth = -54  # threshold in mV\n",
        "Vr = -80  # reset in mV\n",
        "Vpeak = 20 # peak potential (detection limit) in mV"
      ],
      "metadata": {
        "id": "YQKaDL1N4E0c"
      },
      "execution_count": null,
      "outputs": []
    },
    {
      "cell_type": "code",
      "source": [
        "V_QIF = np.zeros((len(t_vector), ))\n",
        "V_QIF[0] = EL\n",
        "tspike = [-1]  # add a negative value for programming convinience.\n",
        "flag = True\n",
        "\n",
        "for n in range(steps):\n",
        "  ##################################\n",
        "  # YOUR CODE GOES HERE\n",
        "  ##################################\n",
        "  deriv = ...\n",
        "  V_QIF[n+1] = ...\n",
        "\n",
        "  if V_QIF[n+1] > Vpeak and flag:\n",
        "    tspike.append(n*dt)\n",
        "    V_QIF[n+1] = Vr\n",
        "    flag = False\n",
        "\n",
        "  if not flag:\n",
        "    V_QIF[n+1] = Vr\n",
        "\n",
        "  if n*dt > tref + tspike[-1]:\n",
        "    flag = True"
      ],
      "metadata": {
        "id": "WHGvUQy_j1wk"
      },
      "execution_count": null,
      "outputs": []
    },
    {
      "cell_type": "code",
      "source": [
        "# Print the spiketimes\n",
        "tspike_QIF = tspike[1:]  # remove the 'fake' spiketime\n",
        "for t in tspike_QIF:\n",
        "  print(f\"Spike at: {np.round(t, 1)} ms\")\n",
        "\n",
        "print(f\"\\nNumber of spikes: {len(tspike_QIF)}\")"
      ],
      "metadata": {
        "id": "5TkiO4xf0rK7"
      },
      "execution_count": null,
      "outputs": []
    },
    {
      "cell_type": "code",
      "source": [
        "for t in tspike_QIF:\n",
        "  n = int(t/dt)\n",
        "  V_QIF[n] = 20\n",
        "\n",
        "plt.figure(figsize=(8, 6))\n",
        "plt.plot(t_vector, V_QIF)\n",
        "plt.xlabel('time (ms)')\n",
        "plt.ylabel('voltage (mV)')\n",
        "plt.title('QIF model')\n",
        "plt.show()"
      ],
      "metadata": {
        "id": "KHTm-G6MkCCu"
      },
      "execution_count": null,
      "outputs": []
    },
    {
      "cell_type": "markdown",
      "source": [
        "---\n",
        "## Example 3: Exponential Integrate-and-Fire (EIF) model\n",
        "\n",
        "\\begin{equation}\n",
        "C_m \\frac{dV}{dt} = -g_L (V-E_L) + g_L \\Delta_T \\text{exp} \\left( \\frac{V-V_T}{\\Delta_T} \\right) + I_e\n",
        "\\end{equation}\n",
        "\n",
        "where $C_m$ is the membrane capacitance, $g_L$ and $E_L$ are the leak conductance and reversal potential, reespectively. $\\Delta_T$ controls the sharpness of action potential initiation (typical values $ \\sim 1 mV$ for pyramidal neurons), $V_T$ denotes the intrinsic membrane potential threshold. Once the membrane potential crosses $V_{T}$, it diverges to infinity in finite time. In numerical simulation the integration is stopped if the membrane potential hits an arbitrary threshold $V_{peak}$ (much larger than $V_{T}$) at which the membrane potential is reset to a value $V_r$.\n",
        "\n",
        "In the limit $\\Delta_T → 0$, the EIF becomes LIF.\n",
        "\n",
        "Spike mechanism:\n",
        "\n",
        "\\begin{equation}\n",
        "\\text{if } V \\ge V_{peak} \\text{ then } V → V_r\n",
        "\\end{equation}"
      ],
      "metadata": {
        "id": "uPIB6odz1UG-"
      }
    },
    {
      "cell_type": "code",
      "source": [
        "# Simulation parameters\n",
        "T = 2000  # ms\n",
        "dt = 0.1  # ms\n",
        "steps = int(T/dt)\n",
        "t_vector = np.linspace(0, T, steps+1)\n",
        "\n",
        "# Model Parameters\n",
        "C = 300  # membrane capacitance in pF\n",
        "gL = 15  # leaky conductance in nS\n",
        "EL = -70  # leaky reversal potential in mV\n",
        "\n",
        "VT = -54  # threshold in mV\n",
        "DeltaT = 2  # AP sharpness (slope factor) in mV\n",
        "Vr = -80  # reset in mV\n",
        "Vpeak = 20 # peak potential (detection limit) in mV"
      ],
      "metadata": {
        "id": "e7jldFWCz-mK"
      },
      "execution_count": null,
      "outputs": []
    },
    {
      "cell_type": "code",
      "source": [
        "V_EIF = np.zeros((len(t_vector), ))\n",
        "V_EIF[0] = EL\n",
        "tspike = [-1]  # add a negative value for programming convinience.\n",
        "flag = True\n",
        "\n",
        "for n in range(steps):\n",
        "  ##################################\n",
        "  # YOUR CODE GOES HERE\n",
        "  ##################################\n",
        "  deriv = ...\n",
        "  V_EIF[n+1] = ...\n",
        "\n",
        "  if V_EIF[n+1] > Vpeak and flag:\n",
        "    tspike.append(n*dt)\n",
        "    V_EIF[n+1] = Vr\n",
        "    flag = False\n",
        "\n",
        "  if not flag:\n",
        "    V_EIF[n+1] = Vr\n",
        "\n",
        "  if n*dt > tref + tspike[-1]:\n",
        "    flag = True"
      ],
      "metadata": {
        "id": "PFq-Hgcv3wwK"
      },
      "execution_count": null,
      "outputs": []
    },
    {
      "cell_type": "code",
      "source": [
        "# Print the spiketimes\n",
        "tspike_EIF = tspike[1:]  # remove the 'fake' spiketime\n",
        "for t in tspike_EIF:\n",
        "  print(f\"Spike at: {np.round(t, 1)} ms\")\n",
        "\n",
        "print(f\"\\nNumber of spikes: {len(tspike_EIF)}\")"
      ],
      "metadata": {
        "id": "ZSNz6CDE4Pnk"
      },
      "execution_count": null,
      "outputs": []
    },
    {
      "cell_type": "code",
      "source": [
        "for t in tspike_EIF:\n",
        "  n = int(t/dt)\n",
        "  V_EIF[n] = 20\n",
        "\n",
        "plt.figure(figsize=(8, 6))\n",
        "plt.plot(t_vector, V_EIF)\n",
        "plt.xlabel('time (ms)')\n",
        "plt.ylabel('voltage (mV)')\n",
        "plt.title('EIF model')\n",
        "plt.show()"
      ],
      "metadata": {
        "id": "uP8Y7sI74Sqo"
      },
      "execution_count": null,
      "outputs": []
    },
    {
      "cell_type": "code",
      "source": [
        "# Plot all together\n",
        "t1 = 400\n",
        "t2 = 470\n",
        "\n",
        "n1 = int(t1/dt)\n",
        "n2 = int(t2/dt)\n",
        "\n",
        "plt.figure(figsize=(8, 6))\n",
        "plt.plot(t_vector[n1:n2+1], V_LIF[n1:n2+1], label='LIF')\n",
        "plt.plot(t_vector[n1:n2+1], V_QIF[n1:n2+1], label='QIF')\n",
        "plt.plot(t_vector[n1:n2+1], V_EIF[n1:n2+1], label='EIF')\n",
        "plt.xlabel('time (ms)')\n",
        "plt.ylabel('voltage (mV)')\n",
        "plt.legend()\n",
        "plt.show()"
      ],
      "metadata": {
        "id": "XU1P4Px_Jzi6"
      },
      "execution_count": null,
      "outputs": []
    },
    {
      "cell_type": "markdown",
      "source": [
        "---\n",
        "## Example 4: Adaptive Exponential Integrate-and-Fire neuronal (aEIF) model\n",
        "\n",
        "\\begin{align}\n",
        "C_m \\frac{dV}{dt} &= -g_L (V-E_L) + g_L \\Delta_T \\text{exp} \\left( \\frac{V-V_T}{\\Delta_T} \\right) - w + I_e \\\\\n",
        "\\tau_w \\frac{dw}{dt} &= \\alpha (V-E_L) - w\n",
        "\\end{align}\n",
        "\n",
        "- where $C_m$ is the membrane capacitance, $g_L$ and $E_L$ are the leak conductance and reversal potential, reespectively.\n",
        "\n",
        "- $\\Delta_T$ controls the sharpness of action potential initiation (typical values $ \\sim 1 mV$ for pyramidal neurons), $V_T$ denotes the intrinsic membrane potential threshold. Once the membrane potential crosses $V_{T}$, it diverges to infinity in finite time. In numerical simulation the integration is stopped if the membrane potential hits an arbitrary threshold $V_{peak}$ (much larger than $V_{T}$) at which the membrane potential is reset to a value $V_r$.\n",
        "\n",
        "- $\\tau_w$ is the time constant and $\\alpha$ represents the level of **subthreshold adaptation**. At each firing time, the variable $w$ is increased by anamount $b$, which accounts for **spike-triggered adaptation**.\n",
        "\n",
        "Spike mechanism:\n",
        "\n",
        "\\begin{equation}\n",
        "\\text{if } V \\ge V_{peak} \\text{ then } V → V_r, w → w + b\n",
        "\\end{equation}"
      ],
      "metadata": {
        "id": "Y3MwnHFR4sv2"
      }
    },
    {
      "cell_type": "code",
      "source": [
        "# Simulation parameters\n",
        "T = 2000  # ms\n",
        "dt = 0.1  # ms\n",
        "steps = int(T/dt)\n",
        "t_vector = np.linspace(0, T, steps+1)\n",
        "\n",
        "# Model Parameters\n",
        "C = 300  # membrane capacitance in pF\n",
        "gL = 15  # leaky conductance in nS\n",
        "EL = -70  # leaky reversal potential in mV\n",
        "\n",
        "VT = -54  # threshold in mV\n",
        "DeltaT = 2  # AP sharpness (slope factor) in mV\n",
        "Vr = -80  # reset in mV\n",
        "Vpeak = 20 # peak potential (detection limit) in mV\n",
        "\n",
        "# Adaptation\n",
        "tau_w = 144 # adaptation time constant in ms\n",
        "alpha = 4  # subthreshold adaptation in nS\n",
        "b = 80.5 # spike-triggered adaptation in pA"
      ],
      "metadata": {
        "id": "qCc1rWUz4rY0"
      },
      "execution_count": null,
      "outputs": []
    },
    {
      "cell_type": "code",
      "source": [
        "V_aEIF = np.zeros((len(t_vector), ))\n",
        "V_aEIF[0] = EL\n",
        "w = np.zeros((len(t_vector), ))\n",
        "w[0] = 0\n",
        "tspike = [-1]  # add a negative value for programming convinience.\n",
        "flag = True\n",
        "\n",
        "for n in range(steps):\n",
        "  ##################################\n",
        "  # YOUR CODE GOES HERE\n",
        "  ##################################\n",
        "  deriv = ...\n",
        "  V_aEIF[n+1] = ...\n",
        "\n",
        "  deriv_w = ...\n",
        "  w[n+1] = ...\n",
        "\n",
        "  if V_aEIF[n+1] > Vpeak and flag:\n",
        "    tspike.append(n*dt)\n",
        "    V_aEIF[n+1] = Vr\n",
        "    w[n+1] += b\n",
        "    flag = False\n",
        "\n",
        "  if not flag:\n",
        "    V_aEIF[n+1] = Vr\n",
        "\n",
        "  if n*dt > tref + tspike[-1]:\n",
        "    flag = True"
      ],
      "metadata": {
        "id": "GdagQl5U6aqJ"
      },
      "execution_count": null,
      "outputs": []
    },
    {
      "cell_type": "code",
      "source": [
        "# Print the spiketimes\n",
        "tspike_aEIF = tspike[1:]  # remove the 'fake' spiketime\n",
        "for t in tspike_aEIF:\n",
        "  print(f\"Spike at: {np.round(t, 1)} ms\")\n",
        "\n",
        "print(f\"\\nNumber of spikes: {len(tspike_aEIF)}\")"
      ],
      "metadata": {
        "id": "5o1_Jto266_B"
      },
      "execution_count": null,
      "outputs": []
    },
    {
      "cell_type": "code",
      "source": [
        "for t in tspike_aEIF:\n",
        "  n = int(t/dt)\n",
        "  V_aEIF[n] = 20\n",
        "\n",
        "plt.figure(figsize=(8, 6))\n",
        "plt.plot(t_vector, V_aEIF)\n",
        "plt.xlabel('time (ms)')\n",
        "plt.ylabel('voltage (mV)')\n",
        "plt.title('AdEx model')\n",
        "plt.show()"
      ],
      "metadata": {
        "id": "14rLcZJq7Azg"
      },
      "execution_count": null,
      "outputs": []
    },
    {
      "cell_type": "code",
      "source": [
        "plt.figure(figsize=(8, 6))\n",
        "plt.plot(t_vector, w)\n",
        "plt.xlabel('time (ms)')\n",
        "plt.ylabel('w (pA)')\n",
        "plt.title('Adaptation current')\n",
        "plt.show()"
      ],
      "metadata": {
        "id": "NsA9CROp7ND5"
      },
      "execution_count": null,
      "outputs": []
    },
    {
      "cell_type": "markdown",
      "source": [
        "---\n",
        "## Example 5: Conductance-Based Adaptive Exponential Integrate-and-Fire (CAdEx) Model\n",
        "\n",
        "\\begin{align}\n",
        "C_m \\frac{dV}{dt} &= -g_L (V-E_L) + g_L \\Delta_T \\text{exp} \\left( \\frac{V-V_T}{\\Delta_T} \\right) - g_A(V-E_A) + I_e \\\\\n",
        "\\tau_A \\frac{g_A}{dt} &= \\frac{\\bar{g}_A}{1+\\text{exp}(\\frac{V_A-V}{\\Delta_A})} - g_A\n",
        "\\end{align}\n",
        "\n",
        "- $C_m$ is the membrane capacitance and $g_L$ and $E_L$ are the leak conductance and reversal potential, respectively.\n",
        "- $V_T$ is the spike threshold and $\\Delta_T$ is the slope of the spike initiation, $E_A$ is the reversal potential of the adaptation conductance, and $I_e$ is an input current.\n",
        "- $\\tau_A$ is the time constant of adaptation, $\\bar{g}_A$ is the maximal subthreshold adaptation conductance, $V_A$ is the subthreshold adaptation activation voltage, and $\\Delta_A$ is the slope of subthreshold adaptation.\n",
        "\n",
        "Spike mechanism:\n",
        "\n",
        "\\begin{equation}\n",
        "\\text{if } V \\ge V_{peak} \\text{ then } V → V_r, g_A → g_A + \\delta g_A\n",
        "\\end{equation}"
      ],
      "metadata": {
        "id": "vdTRLQr-85da"
      }
    },
    {
      "cell_type": "code",
      "source": [
        "# Simulation parameters\n",
        "T = 2000  # ms\n",
        "dt = 0.1  # ms\n",
        "steps = int(T/dt)\n",
        "t_vector = np.linspace(0, T, steps+1)\n",
        "\n",
        "# Model Parameters\n",
        "C = 300  # membrane capacitance in pF\n",
        "gL = 15  # leaky conductance in nS\n",
        "EL = -70  # leaky reversal potential in mV\n",
        "\n",
        "VT = -54  # threshold in mV\n",
        "DeltaT = 2  # AP sharpness (slope factor) in mV\n",
        "Vr = -80  # reset in mV\n",
        "Vpeak = -40 # peak potential (detection limit) in mV\n",
        "\n",
        "# Adaptation\n",
        "tau_A = 144 # adaptation time constant in ms\n",
        "EA = -70  # reversal potential of the adaptation in mV\n",
        "gAbar = 10  # maximal subthreshold adaptation in nS\n",
        "VA = -50  # subthreshold adaptation activation voltage in mV\n",
        "DeltaA = 5  # slope of subthreshold adaptation in mV\n",
        "deltagA = 5 # spike-triggered adaptation in pA"
      ],
      "metadata": {
        "id": "EWg-du8V-kQ7"
      },
      "execution_count": null,
      "outputs": []
    },
    {
      "cell_type": "code",
      "source": [
        "V_CAdEx = np.zeros((len(t_vector), ))\n",
        "V_CAdEx[0] = EL\n",
        "gA = np.zeros((len(t_vector), ))\n",
        "gA[0] = 0\n",
        "tspike = [-1]\n",
        "flag = True\n",
        "\n",
        "for n in range(steps):\n",
        "  ##################################\n",
        "  # YOUR CODE GOES HERE\n",
        "  ##################################\n",
        "  deriv = ...\n",
        "  V_CAdEx[n+1] = ...\n",
        "\n",
        "  deriv_gA = ...\n",
        "  gA[n+1] = ...\n",
        "\n",
        "  if V_CAdEx[n+1] > Vpeak and flag:\n",
        "    tspike.append(n*dt)\n",
        "    V_CAdEx[n+1] = Vr\n",
        "    gA[n+1] += deltagA\n",
        "    flag = False\n",
        "\n",
        "  if not flag:\n",
        "    V_CAdEx[n+1] = Vr\n",
        "\n",
        "  if n*dt > tref + tspike[-1]:\n",
        "    flag = True"
      ],
      "metadata": {
        "id": "vUtC6sCq_rZ2"
      },
      "execution_count": null,
      "outputs": []
    },
    {
      "cell_type": "code",
      "source": [
        "# Print the spiketimes\n",
        "tspike_CAdEx = tspike[1:]  # remove the 'fake' spiketime\n",
        "for t in tspike_CAdEx:\n",
        "  print(f\"Spike at: {np.round(t, 1)} ms\")\n",
        "\n",
        "print(f\"\\nNumber of spikes: {len(tspike_CAdEx)}\")"
      ],
      "metadata": {
        "id": "UG82XzD4ASg8"
      },
      "execution_count": null,
      "outputs": []
    },
    {
      "cell_type": "code",
      "source": [
        "for t in tspike_CAdEx:\n",
        "  n = int(t/dt)\n",
        "  V_CAdEx[n] = 20\n",
        "\n",
        "plt.figure(figsize=(8, 6))\n",
        "plt.plot(t_vector, V_CAdEx)\n",
        "plt.xlabel('time (ms)')\n",
        "plt.ylabel('voltage (mV)')\n",
        "plt.title('CAdEx model')\n",
        "plt.show()"
      ],
      "metadata": {
        "id": "OD6bAf30ApOJ"
      },
      "execution_count": null,
      "outputs": []
    },
    {
      "cell_type": "code",
      "source": [
        "plt.figure(figsize=(8, 6))\n",
        "plt.plot(t_vector, gA)\n",
        "plt.xlabel('time (ms)')\n",
        "plt.ylabel('gA (nS)')\n",
        "plt.title('Adaptation')\n",
        "plt.show()"
      ],
      "metadata": {
        "id": "SYGPcVLjAzuj"
      },
      "execution_count": null,
      "outputs": []
    },
    {
      "cell_type": "code",
      "source": [
        "plt.figure(figsize=(8, 6))\n",
        "plt.plot(t_vector, gA*(V_CAdEx-EA))\n",
        "plt.xlabel('time (ms)')\n",
        "plt.ylabel('IA (pA)')\n",
        "plt.title('Adaptative current')\n",
        "plt.show()"
      ],
      "metadata": {
        "id": "WOMl-xEwA8kK"
      },
      "execution_count": null,
      "outputs": []
    },
    {
      "cell_type": "code",
      "source": [
        "# Plot all together\n",
        "plt.figure(figsize=(12, 8))\n",
        "\n",
        "plt.subplot(2, 2, 1)\n",
        "plt.plot(t_vector, V_LIF)\n",
        "plt.xlabel('time (ms)')\n",
        "plt.ylabel('voltage (mV)')\n",
        "plt.title('LIF model')\n",
        "\n",
        "plt.subplot(2, 2, 2)\n",
        "plt.plot(t_vector, V_EIF)\n",
        "plt.xlabel('time (ms)')\n",
        "plt.ylabel('voltage (mV)')\n",
        "plt.title('EIF model')\n",
        "\n",
        "plt.subplot(2, 2, 3)\n",
        "plt.plot(t_vector, V_aEIF)\n",
        "plt.xlabel('time (ms)')\n",
        "plt.ylabel('voltage (mV)')\n",
        "plt.title('aEIF model')\n",
        "\n",
        "plt.subplot(2, 2, 4)\n",
        "plt.plot(t_vector, V_CAdEx)\n",
        "plt.xlabel('time (ms)')\n",
        "plt.ylabel('voltage (mV)')\n",
        "plt.title('CAdEx model')\n",
        "\n",
        "plt.tight_layout()\n",
        "plt.show()"
      ],
      "metadata": {
        "id": "-VLcMHkMJLq0"
      },
      "execution_count": null,
      "outputs": []
    },
    {
      "cell_type": "markdown",
      "source": [
        "---\n",
        "## How to add a synapse model using differential equations - Exponential synapse\n",
        "\n",
        "Let's assume that our synapse model is the simple exponential decay. We know that:\n",
        "\n",
        "\\begin{equation}\n",
        "g_{syn}(t) = \\bar{g}_{syn} \\text{exp} \\left( -\\frac{t-t_s}{\\tau} \\right) \\mathcal{H}(t-t_s)\n",
        "\\end{equation}\n",
        "\n",
        "This is translated into a differential equation:\n",
        "\n",
        "\\begin{equation}\n",
        "\\tau \\frac{dg_{syn}}{dt} = -g_{syn} + \\delta(t-t_s)\n",
        "\\end{equation}\n",
        "\n",
        "where $\\delta(\\cdot)$ is the Dirac function:\n",
        "\n",
        "\n",
        "\\begin{equation}\n",
        "  \\delta(t-\\theta) = \\cases{1 & $\\text{if } t = \\theta$ \\cr\n",
        "                          0 & \\text{otherwise}\n",
        "                   }\n",
        "\\end{equation}\n",
        "\n",
        "and denotes the time of the presynaptic spike."
      ],
      "metadata": {
        "id": "LJSZ_EoALOjC"
      }
    },
    {
      "cell_type": "code",
      "source": [
        "# Simulation parameters\n",
        "T = 500  # ms\n",
        "dt = 0.1  # ms\n",
        "steps = int(T/dt)\n",
        "t_vector = np.linspace(0, T, steps+1)\n",
        "\n",
        "V_LIF = np.zeros((len(t_vector), ))\n",
        "V_LIF[0] = EL\n",
        "tspike = [-1]  # add a negative value for programming convinience.\n",
        "flag = True\n",
        "\n",
        "g_syn = np.zeros((len(t_vector), ))\n",
        "I_syn = np.zeros((len(t_vector), ))\n",
        "tau = 10  # ms\n",
        "Esyn = 0  # mV\n",
        "gbar = 0.2  # nS\n",
        "\n",
        "# generate random presynaptic spikes\n",
        "nspikes_pre = 10\n",
        "pre = np.random.choice(t_vector, size=nspikes_pre, replace=False)\n",
        "\n",
        "for n in range(steps):\n",
        "  # Check if there is a presynaptic spike\n",
        "  if n*dt in pre:\n",
        "    g_syn[n] += 1\n",
        "\n",
        "  ##################################\n",
        "  # YOUR CODE GOES HERE\n",
        "  ##################################\n",
        "  # Calculate the synaptic current\n",
        "  I_syn[n] = ...\n",
        "\n",
        "  # Calculate the derivatives of the equations\n",
        "  deriv = (-gL*(V_LIF[n]-EL) + I_syn[n])/Cm\n",
        "  deriv_g = -g_syn[n]/tau\n",
        "  # Update using the Euler method\n",
        "  V_LIF[n+1] = V_LIF[n] + dt*deriv\n",
        "  g_syn[n+1] = g_syn[n] + dt*deriv_g\n",
        "\n",
        "  # Spiking mechanism\n",
        "  if V_LIF[n+1] > Vth and flag:\n",
        "    tspike.append(n*dt)\n",
        "    V_LIF[n+1] = Vr\n",
        "    flag = False\n",
        "\n",
        "  # Clamp voltage at Vr\n",
        "  if not flag:\n",
        "    V_LIF[n + 1] = Vr\n",
        "\n",
        "  # Change the flag of refractory period\n",
        "  if n*dt > tref + tspike[-1]:\n",
        "    flag = True"
      ],
      "metadata": {
        "id": "Fna0z5NOMcWC"
      },
      "execution_count": null,
      "outputs": []
    },
    {
      "cell_type": "code",
      "source": [
        "# Draw nice spikes\n",
        "for t in tspike[1:]:\n",
        "  n = int(t/dt)\n",
        "  V_LIF[n] = 20\n",
        "\n",
        "# Plot of the membrane potential and synaptic conductance\n",
        "plt.figure(figsize=(12, 4))\n",
        "\n",
        "plt.subplot(1, 2, 1)\n",
        "plt.plot(t_vector, V_LIF)\n",
        "plt.xlabel('time (ms)')\n",
        "plt.ylabel('voltage (mV)')\n",
        "\n",
        "plt.subplot(1, 2, 2)\n",
        "plt.plot(t_vector, g_syn)\n",
        "plt.xlabel('time (ms)')\n",
        "plt.ylabel(r'$g_{syn}$ (nS)')\n",
        "\n",
        "plt.tight_layout()\n",
        "plt.show()"
      ],
      "metadata": {
        "id": "FHATk6NCNUhv"
      },
      "execution_count": null,
      "outputs": []
    },
    {
      "cell_type": "markdown",
      "source": [
        "---\n",
        "## (Optional) How to add a synapse model using differential equations - Double exponential synapse\n",
        "\n",
        "Let's assume that our synapse model is dual exponential with $\\tau_d > \\tau_r$. We know that:\n",
        "\n",
        "\\begin{equation}\n",
        "g_{syn}(t) = \\bar{g}_{syn} f \\left( \\text{exp} \\left( -\\frac{t-t_s}{\\tau_d} \\right) - \\text{exp} \\left( -\\frac{t-t_s}{\\tau_r} \\right)\\right) \\mathcal{H}(t-t_s)\n",
        "\\end{equation}\n",
        "\n",
        "where (assuming $t_s=0$)\n",
        "\n",
        "\\begin{equation}\n",
        "f = \\frac{1}{\\left( \\text{exp} \\left( -\\frac{t_{peak}}{\\tau_d} \\right) - \\text{exp} \\left( -\\frac{t_{peak}}{\\tau_r} \\right)\\right) \\left( \\frac{\\tau_d \\tau_r}{\\tau_d - \\tau_r}\\right)}\n",
        "\\end{equation}\n",
        "\n",
        "and\n",
        "\n",
        "\\begin{equation}\n",
        "t_{peak} = \\frac{\\tau_d \\tau_r}{\\tau_d - \\tau_r} \\text{ln} \\left( \\frac{\\tau_d}{\\tau_r}\\right)\n",
        "\\end{equation}\n",
        "\n",
        "\n",
        "This is translated into a system of differential equations:\n",
        "\n",
        "\\begin{align}\n",
        "\\frac{dg_{syn}}{dt} &= -\\frac{g_{syn}}{\\tau_d} + x_{syn}\\\\\n",
        "\\frac{dx_{syn}}{dt} &= -\\frac{x_{syn}}{\\tau_r} + \\delta(t-t_s)\n",
        "\\end{align}\n",
        "\n",
        "where $\\delta(\\cdot)$ is the Dirac function:\n",
        "\n",
        "\n",
        "\\begin{equation}\n",
        "  \\delta(t-\\theta) = \\cases{1 & $\\text{if } t = \\theta$ \\cr\n",
        "                          0 & \\text{otherwise}\n",
        "                   }\n",
        "\\end{equation}\n",
        "\n",
        "and denotes the time of the presynaptic spike.\n",
        "\n",
        "<br>\n",
        "\n",
        "**Note:**\n",
        "- If $\\tau_d-\\tau_r$ is very small compared to $\\tau_r$, this is an alpha synapse with time constant $\\tau_d$, e.g., let $\\tau_r=9.9 \\text{ ms}$ and $\\tau_d=10 \\text{ ms}$.\n",
        "- If $\\tau_r/\\tau_d$ is very small, this is a single exponential decay with time constant $\\tau_d$, e.g., let $\\tau_r=0.1 \\text{ ms}$."
      ],
      "metadata": {
        "id": "bhhsdko-Pw5H"
      }
    },
    {
      "cell_type": "code",
      "source": [
        "# Simulation parameters\n",
        "T = 500  # ms\n",
        "dt = 0.1  # ms\n",
        "steps = int(T/dt)\n",
        "t_vector = np.linspace(0, T, steps+1)\n",
        "\n",
        "# Model Parameters\n",
        "Cm = 300  # membrane capacitance in pF\n",
        "gL = 15  # leaky conductance in nS\n",
        "EL = -70  # leaky reversal potential in mV\n",
        "Vth = -54  # threshold in mV\n",
        "Vr = -80  # reset in mV\n",
        "\n",
        "V_LIF = np.zeros((len(t_vector), ))\n",
        "V_LIF[0] = EL\n",
        "tspike = [-1]  # add a negative value for programming convinience.\n",
        "flag = True\n",
        "\n",
        "g_syn = np.zeros((len(t_vector), ))\n",
        "x_syn = np.zeros((len(t_vector), ))\n",
        "I_syn = np.zeros((len(t_vector), ))\n",
        "tau_r = 9.9  # ms\n",
        "tau_d = 10  # ms\n",
        "Esyn = 0  # mV\n",
        "gbar = 0.2  # nS\n",
        "\n",
        "# Calculate the theoretical peak value - scaling factor `f`\n",
        "t_peak = (tau_d * tau_r) / (tau_d - tau_r) * np.log(tau_d/tau_r)\n",
        "f = 1/((np.exp(-t_peak/tau_d) - np.exp(-t_peak/tau_r)) * ((tau_d * tau_r) / (tau_d - tau_r)))\n",
        "\n",
        "# generate random presynaptic spikes\n",
        "nspikes_pre = 10\n",
        "pre = np.random.choice(t_vector, size=nspikes_pre, replace=False)\n",
        "\n",
        "for n in range(steps):\n",
        "  # Check if there is a presynaptic spike, if yes update x_syn\n",
        "  if n*dt in pre:\n",
        "    x_syn[n] += 1\n",
        "\n",
        "  # Calculate the synaptic current\n",
        "  I_syn[n] = -gbar*g_syn[n]*f*(V[n] - Esyn)\n",
        "  # Calculate the derivatives of the equations\n",
        "  deriv = (-gL*(V_LIF[n]-EL) + I_syn[n])/Cm\n",
        "  deriv_g = -g_syn[n]/tau_d + x_syn[n]\n",
        "  deriv_x = -x_syn[n]/tau_r\n",
        "  # Update using the Euler method\n",
        "  V_LIF[n+1] = V_LIF[n] + dt*deriv\n",
        "  g_syn[n+1] = g_syn[n] + dt*deriv_g\n",
        "  x_syn[n+1] = x_syn[n] + dt*deriv_x\n",
        "\n",
        "  # Spiking mechanism\n",
        "  if V_LIF[n+1] > Vth and flag:\n",
        "    tspike.append(n*dt)\n",
        "    V_LIF[n+1] = Vr\n",
        "    flag = False\n",
        "\n",
        "  # Clamp voltage at Vr\n",
        "  if not flag:\n",
        "    V_LIF[n + 1] = Vr\n",
        "\n",
        "  # Change the flag of refractory period\n",
        "  if n*dt > tref + tspike[-1]:\n",
        "    flag = True"
      ],
      "metadata": {
        "id": "RHhKz9ePOT7B"
      },
      "execution_count": null,
      "outputs": []
    },
    {
      "cell_type": "code",
      "source": [
        "# Draw nice spikes\n",
        "for t in tspike[1:]:\n",
        "  n = int(t/dt)\n",
        "  V_LIF[n] = 20\n",
        "\n",
        "# Plot of the membrane potential and synaptic conductance\n",
        "plt.figure(figsize=(12, 6))\n",
        "\n",
        "plt.subplot(2, 2, 1)\n",
        "plt.plot(t_vector, V_LIF)\n",
        "plt.xlabel('time (ms)')\n",
        "plt.ylabel('voltage (mV)')\n",
        "\n",
        "plt.subplot(2, 2, 2)\n",
        "plt.plot(t_vector, gbar*f*g_syn)\n",
        "plt.xlabel('time (ms)')\n",
        "plt.ylabel(r'$g_{tot}$ (nS)')\n",
        "\n",
        "plt.subplot(2, 2, 3)\n",
        "plt.plot(t_vector, g_syn)\n",
        "plt.xlabel('time (ms)')\n",
        "plt.ylabel(r'$g_{syn}$ (nS)')\n",
        "\n",
        "plt.subplot(2, 2, 4)\n",
        "plt.plot(t_vector, x_syn)\n",
        "plt.xlabel('time (ms)')\n",
        "plt.ylabel(r'$x_{syn}$ (nS)')\n",
        "\n",
        "plt.tight_layout()\n",
        "plt.show()"
      ],
      "metadata": {
        "id": "RwX1PTknRBSY"
      },
      "execution_count": null,
      "outputs": []
    },
    {
      "cell_type": "code",
      "source": [],
      "metadata": {
        "id": "AnKDVVV7VQB2"
      },
      "execution_count": null,
      "outputs": []
    }
  ]
}