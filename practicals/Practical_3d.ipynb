{
  "nbformat": 4,
  "nbformat_minor": 0,
  "metadata": {
    "colab": {
      "name": "Practical_3d.ipynb",
      "provenance": [],
      "toc_visible": true,
      "include_colab_link": true
    },
    "kernelspec": {
      "name": "python3",
      "display_name": "Python 3"
    },
    "language_info": {
      "name": "python"
    }
  },
  "cells": [
    {
      "cell_type": "markdown",
      "metadata": {
        "id": "view-in-github",
        "colab_type": "text"
      },
      "source": [
        "<a href=\"https://colab.research.google.com/github/spirosChv/neuro208/blob/main/practicals/Practical_3d.ipynb\" target=\"_parent\"><img src=\"https://colab.research.google.com/assets/colab-badge.svg\" alt=\"Open In Colab\"/></a>"
      ]
    },
    {
      "cell_type": "markdown",
      "source": [
        "# Simulating dendrites - Part 4: How inputs inputs interact in time\n",
        "\n",
        "In this notebook we will see how inputs integrate when they are seperated in time."
      ],
      "metadata": {
        "id": "CFFz4a7p0BOz"
      }
    },
    {
      "cell_type": "code",
      "source": [
        "!pip install neuron --quiet"
      ],
      "metadata": {
        "id": "B0VtDTHqz0Ge"
      },
      "execution_count": null,
      "outputs": []
    },
    {
      "cell_type": "code",
      "source": [
        "# @title Download the `.mod` file from github\n",
        "# @markdown Execute this cell.\n",
        " \n",
        "!rm -rf imbizo2022/\n",
        "!rm -rf x86_64/\n",
        "!git clone https://github.com/spirosChv/imbizo2022.git\n",
        "!mv imbizo2022/mechanisms/vecstim.mod imbizo2022/mechanisms/nmda.mod .\n",
        "!nrnivmodl"
      ],
      "metadata": {
        "cellView": "form",
        "id": "hYKGOjwuJlqp"
      },
      "execution_count": null,
      "outputs": []
    },
    {
      "cell_type": "code",
      "execution_count": null,
      "metadata": {
        "id": "usthWgIfzjmM"
      },
      "outputs": [],
      "source": [
        "import numpy as np\n",
        "import matplotlib.pyplot as plt\n",
        "from neuron import h\n",
        "from neuron.units import mV, ms, um\n",
        "h.load_file(\"stdrun.hoc\")"
      ]
    },
    {
      "cell_type": "code",
      "source": [
        "# @title Make nicer plots -- Execute this cell\n",
        "def mystyle():\n",
        "  \"\"\"\n",
        "  Create custom plotting style.\n",
        "\n",
        "  Returns\n",
        "  -------\n",
        "  my_style : dict\n",
        "      Dictionary with matplotlib parameters.\n",
        "\n",
        "  \"\"\"\n",
        "  # color pallette\n",
        "  style = {\n",
        "      # Use LaTeX to write all text\n",
        "      \"text.usetex\": False,\n",
        "      \"font.family\": \"DejaVu Sans\",\n",
        "      \"font.weight\": \"bold\",\n",
        "      # Use 16pt font in plots, to match 16pt font in document\n",
        "      \"axes.labelsize\": 16,\n",
        "      \"axes.titlesize\": 20,\n",
        "      \"font.size\": 16,\n",
        "      # Make the legend/label fonts a little smaller\n",
        "      \"legend.fontsize\": 14,\n",
        "      \"xtick.labelsize\": 14,\n",
        "      \"ytick.labelsize\": 14,\n",
        "      \"axes.linewidth\": 2.5,\n",
        "      \"lines.markersize\": 10.0,\n",
        "      \"lines.linewidth\": 2.5,\n",
        "      \"xtick.major.width\": 2.2,\n",
        "      \"ytick.major.width\": 2.2,\n",
        "      \"axes.labelweight\": \"bold\",\n",
        "      \"axes.spines.right\": False,\n",
        "      \"axes.spines.top\": False\n",
        "  }\n",
        "\n",
        "  return style\n",
        "\n",
        "\n",
        "plt.style.use(\"seaborn-colorblind\")\n",
        "plt.rcParams.update(mystyle())"
      ],
      "metadata": {
        "cellView": "form",
        "id": "bqXB1xt_8Vuh"
      },
      "execution_count": null,
      "outputs": []
    },
    {
      "cell_type": "code",
      "source": [
        "# Simulation parameters\t\n",
        "tstop = 100 * ms # simulation time (ms)\n",
        "h.dt = 0.1 * ms  # integration step (ms)\n",
        "vinit = -65 * mV  # initial voltage (mV)"
      ],
      "metadata": {
        "id": "ym1Wg3lmEGMX"
      },
      "execution_count": null,
      "outputs": []
    },
    {
      "cell_type": "markdown",
      "source": [
        "## Define `h.Sections` and their active/passive parameters\n",
        "\n",
        "Create a soma and one dendrite, define their anatomical and biophysical properties and connect them."
      ],
      "metadata": {
        "id": "PME1GYedGDSF"
      }
    },
    {
      "cell_type": "code",
      "source": [
        "soma = h.Section(name='soma')\n",
        "dend0 = h.Section(name='dend0') \n",
        "\n",
        "# Define properties of the soma\n",
        "soma.diam = 18 * um  # diametr (um)\n",
        "soma.L = 18 * um  # length (um)\n",
        "soma.Ra = 100  # axial resistance (Ohm * cm)\n",
        "soma.cm = 1  # specific membrane capacitance (uF/cm2)   \n",
        "soma.nseg = 1\t # number of segments\n",
        "\n",
        "# Insert passive (leak) channels\n",
        "soma.insert('pas')\n",
        "for seg in soma:\n",
        "  soma.e_pas = -65  # leak reversal potential (mV)\n",
        "  soma.g_pas = 0.0003  # leak maximum conductance (S/cm2)\n",
        "\n",
        "# Define properties of dend0\n",
        "dend0.diam = 5 * um  # diametr (um)\n",
        "dend0.L = 700 * um  # length (um)\n",
        "dend0.Ra = 100  # axial resistance (Ohm * cm)\n",
        "dend0.cm = 1  # specific membrane capacitance (uF/cm2)   \n",
        "dend0.nseg = 11  # number of segments\n",
        "\n",
        "# Insert passive (leak) channels\n",
        "dend0.insert('pas')\n",
        "for seg in dend0:\n",
        "  seg.e_pas = -65  # leak reversal potential (mV)\n",
        "  seg.g_pas = 0.0003  # leak maximum conductance (S/cm2)\n",
        "\n",
        "# Connect the 0 point of dendrite 0 to the zero point of the soma, i.e., soma(0)\n",
        "dend0.connect(soma(0), 0)"
      ],
      "metadata": {
        "id": "3Zd5f7ugF1-Y"
      },
      "execution_count": null,
      "outputs": []
    },
    {
      "cell_type": "markdown",
      "source": [
        "### Task 1: We will add three `h.ExpSyn` in the different parts of the dendrite\n",
        "\n",
        "- What will happen to the temporal summation of the inputs if they are activated sequentially with 10ms intervals?\n",
        "- Do you expect the temporal order of activation to affect the output?"
      ],
      "metadata": {
        "id": "aKBHffHsKVi9"
      }
    },
    {
      "cell_type": "code",
      "source": [
        "#========== Synaptic stimulation.\n",
        "# Place three synapses, one in the end, one in the middle and one in the begining of the dendrite.\n",
        "syn0 = h.ExpSyn(dend0(0.9))\n",
        "syn0.e = 0  # reversal potential (mV)\n",
        "syn0.tau = 10  # decay time constant (ms)\n",
        "\n",
        "syn1 = h.ExpSyn(dend0(0.5))\n",
        "syn1.e = 0  # reversal potential (mV)\n",
        "syn1.tau = 10  # decay time constant (ms)\n",
        "\n",
        "syn2 = h.ExpSyn(dend0(0.1))\n",
        "syn2.e = 0  # reversal potential (mV)\n",
        "syn2.tau = 10  # decay time constant (ms)\n",
        "\n",
        "#========== ...create an artificial spike (an \"event\" to be delivered to the synapse)...\n",
        "tsignal = 20\n",
        "ns = h.NetStim(0.5)\n",
        "ns.start = tsignal\n",
        "ns.number = 1\n",
        "\n",
        "#... and connect the event to the synapses.\n",
        "wAMPA = 0.003\n",
        "nc0 = h.NetCon(ns, syn0)\n",
        "nc0.delay = 20\n",
        "nc0.weight[0] = wAMPA\n",
        "\n",
        "nc1 = h.NetCon(ns, syn1)\n",
        "nc1.delay = 10\n",
        "nc1.weight[0] = 0.003\n",
        "\n",
        "nc2 = h.NetCon(ns, syn2)\n",
        "nc2.delay = 0\n",
        "nc2.weight[0] = 0.003"
      ],
      "metadata": {
        "id": "oxZ_7vd1GlG9"
      },
      "execution_count": null,
      "outputs": []
    },
    {
      "cell_type": "code",
      "source": [
        "# Calculate and print in terminal the depolarization at the soma and at the middle part of the dend\n",
        "vsoma_vec = h.Vector().record(soma(0.5)._ref_v) # Membrane potential vector\n",
        "vdend0_vec = h.Vector().record(dend0(0.5)._ref_v) # Membrane potential vector\n",
        "t_vec = h.Vector().record(h._ref_t)  # Time stamp vector\n",
        "\n",
        "# reinitialize the simulator and run again\n",
        "h.finitialize(vinit)\n",
        "h.continuerun(tstop)\n",
        "\n",
        "plt.figure(figsize=(8, 6))\n",
        "plt.plot(t_vec, vsoma_vec, color='black', label='soma')\n",
        "plt.plot(t_vec, vdend0_vec, color='red', label='dendrite')\n",
        "plt.xlabel('time (ms)')\n",
        "plt.ylabel('voltage (mV)')\n",
        "plt.legend()\n",
        "plt.show()\n",
        "\n",
        "print(f'\\nSomatic depolarization is {round(vsoma_vec.max()-vsoma_vec[int((tsignal)/h.dt)-1], 2)} mV')"
      ],
      "metadata": {
        "id": "K9IDmGtvGlmk"
      },
      "execution_count": null,
      "outputs": []
    },
    {
      "cell_type": "markdown",
      "source": [
        "## Task 2: Add NMDA synapses using the `nmda.mod`.\n",
        "\n",
        "The rise time should be 10 ms and the decay time 75 ms. What do you observe?"
      ],
      "metadata": {
        "id": "vpAvObpacckk"
      }
    },
    {
      "cell_type": "code",
      "source": [
        "!cat nmda.mod"
      ],
      "metadata": {
        "id": "_Iv9PDoufiYU"
      },
      "execution_count": null,
      "outputs": []
    },
    {
      "cell_type": "code",
      "source": [
        "#========== Synaptic stimulation.\n",
        "# Place three synapses, one in the end, one in the middle and one in the begining of the dendrite.\n",
        "synNMDA0 = ...\n",
        "synNMDA0.e = 0  # reversal potential (mV)\n",
        "# TODO: Set the synaptic kinetics\n",
        "\n",
        "synNMDA1 = ...\n",
        "synNMDA1.e = 0  # reversal potential (mV)\n",
        "# TODO: Set the synaptic kinetics\n",
        "\n",
        "synNMDA2 = ...\n",
        "synNMDA2.e = 0  # reversal potential (mV)\n",
        "# TODO: Set the synaptic kinetics\n",
        "\n",
        "#========== ...create an artificial spike (an \"event\" to be delivered to the synapse)...\n",
        "tsignal = 20\n",
        "ns = h.NetStim(0.5)\n",
        "ns.start = tsignal\n",
        "ns.number = 1\n",
        "\n",
        "#... and connect the event to the synapses.\n",
        "wNMDA = 0.03\n",
        "ncNMDA0 = h.NetCon(ns, synNMDA0)\n",
        "ncNMDA0.delay = 20\n",
        "ncNMDA0.weight[0] = wNMDA\n",
        "\n",
        "ncNMDA1 = h.NetCon(ns, synNMDA1)\n",
        "ncNMDA1.delay = 10\n",
        "ncNMDA1.weight[0] = wNMDA\n",
        "\n",
        "ncNMDA2 = h.NetCon(ns, synNMDA2)\n",
        "ncNMDA2.delay = 0\n",
        "ncNMDA2.weight[0] = wNMDA"
      ],
      "metadata": {
        "id": "ASMqyR5JczNs"
      },
      "execution_count": null,
      "outputs": []
    },
    {
      "cell_type": "code",
      "source": [
        "# reinitialize the simulator and run again\n",
        "h.finitialize(vinit)\n",
        "h.continuerun(tstop)\n",
        "\n",
        "plt.figure(figsize=(8, 6))\n",
        "plt.plot(t_vec, vsoma_vec, color='black', label='soma')\n",
        "plt.plot(t_vec, vdend0_vec, color='red', label='dendrite')\n",
        "plt.xlabel('time (ms)')\n",
        "plt.ylabel('voltage (mV)')\n",
        "plt.legend()\n",
        "plt.show()\n",
        "\n",
        "print(f'\\nSomatic depolarization is {round(vsoma_vec.max()-vsoma_vec[int((tsignal)/h.dt)-1], 2)} mV')"
      ],
      "metadata": {
        "id": "_PO24Catd8kk"
      },
      "execution_count": null,
      "outputs": []
    },
    {
      "cell_type": "markdown",
      "source": [
        "# Homework\n",
        "\n",
        "Add more sophisticated inputs using the `h.VecStim` object!\n",
        "\n",
        "**Hint:** To create a VecStim object you need: `spks = h.Vector(spiketimes)`, `vstim = h.VecStim()`, and `vstim.play(spks)`."
      ],
      "metadata": {
        "id": "HEb4HSqUJt2M"
      }
    },
    {
      "cell_type": "code",
      "source": [
        "import numpy as np\n",
        "\n",
        "\n",
        "def poisson_spikes(t1, t2, N, rate=10, dt=0.1):\n",
        "  \"\"\"\n",
        "  Poisson spike generator.\n",
        "  Parameters\n",
        "  ----------\n",
        "  t1 : float\n",
        "      Simulation time start in miliseconds (ms).\n",
        "  t2 : float\n",
        "      Simulation time end in miliseconds (ms).\n",
        "  N : int, optional\n",
        "      Number of presynaptic spikes.\n",
        "  rate : float, optional\n",
        "      Mean firing rate in Hz. The default is 10.\n",
        "  dt : float, optional\n",
        "      Time step in ms. The default is 0.1.\n",
        "  Returns\n",
        "  -------\n",
        "  spks : TYPE\n",
        "      DESCRIPTION.\n",
        "  \"\"\"\n",
        "  spks = []\n",
        "  tarray = np.arange(t1, t2+dt, dt)\n",
        "  for n in range(N):\n",
        "    spkt = tarray[np.random.rand(len(tarray)) < rate*dt/1000.]  # Determine list of times of spikes\n",
        "    idx = [n]*len(spkt)  # Create vector for neuron ID number the same length as time\n",
        "    spkn = np.concatenate([[idx], [spkt]], axis=0).T  # Combine tw lists\n",
        "    if len(spkn) > 0:\n",
        "      spks.append(spkn)\n",
        "  spks = np.concatenate(spks, axis=0)\n",
        "  return spks"
      ],
      "metadata": {
        "id": "uP0bgLGWKNvg"
      },
      "execution_count": null,
      "outputs": []
    },
    {
      "cell_type": "markdown",
      "source": [
        "Let's create some Poisson ditsributed spiketimes!"
      ],
      "metadata": {
        "id": "UYG309AgKWfP"
      }
    },
    {
      "cell_type": "code",
      "source": [
        "pre_cells = 10000\n",
        "spks = poisson_spikes(t1=0, t2=1000, N=pre_cells, rate=25)\n",
        "\n",
        "plt.figure(figsize=(12, 8))\n",
        "for i, r in enumerate(np.random.choice(pre_cells, 100, replace=False)):\n",
        "  spks_i = spks[spks[:, 0] == r][:,1]\n",
        "  plt.scatter(spks_i, i*np.ones((len(spks_i), )), color='k')\n",
        "plt.ylabel('neuron id')\n",
        "plt.xlabel('time (ms)')\n",
        "plt.show()"
      ],
      "metadata": {
        "id": "0mhTmRB3KV_Q"
      },
      "execution_count": null,
      "outputs": []
    },
    {
      "cell_type": "code",
      "source": [
        "freqs = []\n",
        "for i in range(pre_cells):\n",
        "  spks_i = spks[spks[:, 0] == i][:, 1]\n",
        "  freqs.append(len(spks_i))\n",
        "\n",
        "plt.figure(figsize=(12, 8))\n",
        "plt.hist(freqs, bins=20)\n",
        "plt.ylabel('neuron id')\n",
        "plt.xlabel('time (ms)')\n",
        "plt.show()"
      ],
      "metadata": {
        "id": "bRB2a3iBLN6J"
      },
      "execution_count": null,
      "outputs": []
    }
  ]
}