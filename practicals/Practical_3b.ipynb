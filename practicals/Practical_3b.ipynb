{
  "nbformat": 4,
  "nbformat_minor": 0,
  "metadata": {
    "colab": {
      "name": "Practical_3b.ipynb",
      "provenance": [],
      "collapsed_sections": [],
      "toc_visible": true,
      "include_colab_link": true
    },
    "kernelspec": {
      "name": "python3",
      "display_name": "Python 3"
    },
    "language_info": {
      "name": "python"
    }
  },
  "cells": [
    {
      "cell_type": "markdown",
      "metadata": {
        "id": "view-in-github",
        "colab_type": "text"
      },
      "source": [
        "<a href=\"https://colab.research.google.com/github/spirosChv/neuro208/blob/main/practicals/Practical_3b.ipynb\" target=\"_parent\"><img src=\"https://colab.research.google.com/assets/colab-badge.svg\" alt=\"Open In Colab\"/></a>"
      ]
    },
    {
      "cell_type": "markdown",
      "source": [
        "# Simulating dendrites - Part 2: Segregated dendrites\n",
        "\n",
        "In this notebook we will see how segragated dendrites affect the propagation to the soma."
      ],
      "metadata": {
        "id": "CFFz4a7p0BOz"
      }
    },
    {
      "cell_type": "code",
      "source": [
        "!pip install neuron --quiet"
      ],
      "metadata": {
        "id": "B0VtDTHqz0Ge"
      },
      "execution_count": null,
      "outputs": []
    },
    {
      "cell_type": "code",
      "execution_count": null,
      "metadata": {
        "id": "usthWgIfzjmM"
      },
      "outputs": [],
      "source": [
        "import numpy as np\n",
        "import matplotlib.pyplot as plt\n",
        "from neuron import h\n",
        "from neuron.units import mV, ms, um\n",
        "h.load_file(\"stdrun.hoc\")"
      ]
    },
    {
      "cell_type": "code",
      "source": [
        "# @title Make nicer plots -- Execute this cell\n",
        "def mystyle():\n",
        "  \"\"\"\n",
        "  Create custom plotting style.\n",
        "\n",
        "  Returns\n",
        "  -------\n",
        "  my_style : dict\n",
        "      Dictionary with matplotlib parameters.\n",
        "\n",
        "  \"\"\"\n",
        "  # color pallette\n",
        "  style = {\n",
        "      # Use LaTeX to write all text\n",
        "      \"text.usetex\": False,\n",
        "      \"font.family\": \"DejaVu Sans\",\n",
        "      \"font.weight\": \"bold\",\n",
        "      # Use 16pt font in plots, to match 16pt font in document\n",
        "      \"axes.labelsize\": 16,\n",
        "      \"axes.titlesize\": 20,\n",
        "      \"font.size\": 16,\n",
        "      # Make the legend/label fonts a little smaller\n",
        "      \"legend.fontsize\": 14,\n",
        "      \"xtick.labelsize\": 14,\n",
        "      \"ytick.labelsize\": 14,\n",
        "      \"axes.linewidth\": 2.5,\n",
        "      \"lines.markersize\": 10.0,\n",
        "      \"lines.linewidth\": 2.5,\n",
        "      \"xtick.major.width\": 2.2,\n",
        "      \"ytick.major.width\": 2.2,\n",
        "      \"axes.labelweight\": \"bold\",\n",
        "      \"axes.spines.right\": False,\n",
        "      \"axes.spines.top\": False\n",
        "  }\n",
        "\n",
        "  return style\n",
        "\n",
        "\n",
        "plt.style.use(\"seaborn-colorblind\")\n",
        "plt.rcParams.update(mystyle())"
      ],
      "metadata": {
        "cellView": "form",
        "id": "bqXB1xt_8Vuh"
      },
      "execution_count": null,
      "outputs": []
    },
    {
      "cell_type": "code",
      "source": [
        "# Simulation parameters\t\n",
        "tstop = 100 * ms  # simulation time (ms)\n",
        "h.dt = 0.1 * ms  # integration step (ms)\n",
        "vinit = -65 * mV  # initial voltage (mV)"
      ],
      "metadata": {
        "id": "sE2WPvyz_eTp"
      },
      "execution_count": null,
      "outputs": []
    },
    {
      "cell_type": "code",
      "source": [
        "# create five compartments using the command `h.Section()`\n",
        "soma = h.Section(name='soma')\n",
        "dend0, dend1, dend2, dend3 = [h.Section(name=n) for n in ['dend0', 'dend1', 'dend2', 'dend3']]\n",
        "\n",
        "# Define properties of soma\n",
        "soma.diam = 20 * um  # diameter (um)\n",
        "soma.L = 20 * um  # length (um)\n",
        "soma.Ra = 100  # Axial resistance (Ohm * cm)\n",
        "soma.cm = 1  # specific membrane capacitance (uF/cm2)   \n",
        "soma.nseg = 1  # number of segments\n",
        "\n",
        "# Insert Hodgkin-Huxley channels (including leak)\n",
        "soma.insert('hh')\n",
        "for seg in soma: \n",
        "  seg.hh.gnabar = 0.05  # Sodium max conductance in (S/cm2)\n",
        "  seg.hh.gkbar = 0.036  # Potassium max conductance in (S/cm2)\n",
        "  seg.hh.gl = 0.0003  # Leak conductance (S/cm2)\n",
        "  seg.hh.el = -65  # Reversal potential (mV)\n",
        "\n",
        "# Define properties of dend0\n",
        "dend0.diam = 5 * um  # diameter (um)\n",
        "dend0.L = 500 * um  # length (um)\n",
        "dend0.cm = 1  # specific membrane capacitance (uF/cm2) \n",
        "dend0.Ra = 100  # Axial resistance (Ohm * cm)\n",
        "dend0.nseg = 11  # number of segments\n",
        "\n",
        "dend0.insert('pas')  # Insert passive (leak) channels\n",
        "for seg in dend0:\n",
        "  seg.pas.e = -65  # Leak reversal potential (mV)\n",
        "  seg.pas.g = 0.0003  # leak conductance (S/cm2)\n",
        "\n",
        "# Define properties of dend1\n",
        "dend1.diam = 3 * um  # diameter (um)\n",
        "dend1.L = 200 * um  # length (um)\n",
        "dend1.cm = 1  # specific membrane capacitance (uF/cm2)\n",
        "dend1.Ra = 100  # Axial resistance (Ohm*cm)\n",
        "dend1.nseg = 13  # number of segments\n",
        "\n",
        "dend1.insert('pas')  # Insert passive (leak) channels\n",
        "for seg in dend1:\n",
        "  seg.pas.e = -65  # leak reversal potential (mV)\n",
        "  seg.pas.g = 0.0003  # leak conductance (S/cm2)\n",
        "    \n",
        "# Define properties of dend0\n",
        "dend2.diam = 5 * um  # diameter (um)\n",
        "dend2.L = 500 * um  # length (um)\n",
        "dend2.cm = 1  # specific membrane capacitance (uF/cm2) \n",
        "dend2.Ra = 100  # Axial resistance (Ohm * cm)\n",
        "dend2.nseg = 11  # number of segments\n",
        "\n",
        "dend2.insert('pas')  # Insert passive (leak) channels\n",
        "for seg in dend2:\n",
        "  seg.pas.e = -65  # leak reversal potential (mV)\n",
        "  seg.pas.g = 0.0003  # leak conductance (S/cm2)\n",
        "\n",
        "# Define properties of dend1\n",
        "dend3.diam = 3 * um  # diameter (um)\n",
        "dend3.L = 200 * um  # length (um)\n",
        "dend3.cm = 1  # specific membrane capacitance (uF/cm2)\n",
        "dend3.Ra = 100  # Axial resistance (Ohm*cm)\n",
        "dend3.nseg = 13  # number of segments\n",
        "\n",
        "dend3.insert('pas')  # Insert passive (leak) channels\n",
        "for seg in dend3:\n",
        "  seg.pas.e = -65  # leak reversal potential (mV)\n",
        "  seg.pas.g = 0.0003  # leak conductance (S/cm2)"
      ],
      "metadata": {
        "id": "URb79Z8J8MAh"
      },
      "execution_count": null,
      "outputs": []
    },
    {
      "cell_type": "markdown",
      "source": [
        "Let's now connect the compartments!"
      ],
      "metadata": {
        "id": "ey38Xipi3KRU"
      }
    },
    {
      "cell_type": "code",
      "source": [
        "# Connect the compartments together\n",
        "# Connect the `0` point of `dend0` to the `0` point of the soma, i.e., soma(0)\n",
        "dend0.connect(soma(0), 0)\n",
        "# Connect the `0` point of dend1 to the `1` point of the dend0, i.e., dend0(1)\n",
        "dend1.connect(dend0(1), 0)\n",
        "# Connect the `0` point of `dend2` to the `0` point of the soma, i.e., soma(0)\n",
        "dend2.connect(soma(1), 0)\n",
        "# Connect the `0` point of dend3 to the `1` point of the dend2, i.e., dend2(1)\n",
        "dend3.connect(dend2(1), 0)"
      ],
      "metadata": {
        "id": "XBBgfvi43N7Y"
      },
      "execution_count": null,
      "outputs": []
    },
    {
      "cell_type": "markdown",
      "source": [
        "Let's plot the neuron's shape"
      ],
      "metadata": {
        "id": "MsI_1UNFMJ-c"
      }
    },
    {
      "cell_type": "code",
      "source": [
        "h.topology()"
      ],
      "metadata": {
        "id": "LoRC0JsINsRD"
      },
      "execution_count": null,
      "outputs": []
    },
    {
      "cell_type": "code",
      "source": [
        "ps = h.PlotShape()\n",
        "ps.plot(plt).mark(soma(0.5))\n",
        "plt.show()"
      ],
      "metadata": {
        "id": "Y3v3N2X-MMv4"
      },
      "execution_count": null,
      "outputs": []
    },
    {
      "cell_type": "markdown",
      "source": [
        "Notice that the soma is represented by the red dot."
      ],
      "metadata": {
        "id": "ukLoVUfAOEXc"
      }
    },
    {
      "cell_type": "markdown",
      "source": [
        "The next step is to define the synapse(s), and the objects that connect a synapse with a pre-synaptic cell or event."
      ],
      "metadata": {
        "id": "LW_u2jKu3QJ9"
      }
    },
    {
      "cell_type": "code",
      "source": [
        "# ====================== Synaptic stimulation ==================================    \n",
        "# Place the synapse to the middle (0.5) of the dend1\n",
        "syn0 = h.ExpSyn(dend1(0.5))\n",
        "syn0.e = 0  # Reversal potential of the synapse (mV)\n",
        "\n",
        "# Place the synapse to the middle (0.5) of the dend3\n",
        "syn1 = h.ExpSyn(dend3(0.5))\n",
        "syn1.e = 0  # Reversal potential of the synapse (mV)\n",
        "\n",
        "# ================ create an artificial spike ==================================\n",
        "tsignal = 50\n",
        "ns = h.NetStim(0.5)\n",
        "ns.start = tsignal  # onset time (ms)\n",
        "ns.number = 1  # number of pre-synaptic events\n",
        "\n",
        "# ... and connect the event to the synapses.\n",
        "nc0 = h.NetCon(ns, syn0)\n",
        "nc0.delay = 0  # delay (ms)\n",
        "\n",
        "nc1 = h.NetCon(ns, syn1)\n",
        "nc1.delay = 0  # delay (ms)"
      ],
      "metadata": {
        "id": "98fdGlru-9VX"
      },
      "execution_count": null,
      "outputs": []
    },
    {
      "cell_type": "markdown",
      "source": [
        "### Task 1: We will add one `h.ExpSyn` in the middle of `dend1` and one in the middle of `dend3`. \n",
        "### Activate (`weight*3`) each one of them and both of them. Is the response the linear sum?"
      ],
      "metadata": {
        "id": "RzTFPvPt-339"
      }
    },
    {
      "cell_type": "code",
      "source": [
        "nc0.weight[0] = 0.008*0\n",
        "nc1.weight[0] = 0.008*3\n",
        "\n",
        "# Calculate and print in terminal the depolarization at the soma\n",
        "vsoma_vec = h.Vector().record(soma(0.5)._ref_v)  # Membrane potential vector\n",
        "t_vec = h.Vector().record(h._ref_t)  # Time stamp vector\n",
        "\n",
        "# reinitialize the simulator and run again\n",
        "h.finitialize(vinit)\n",
        "h.continuerun(tstop)\n",
        "\n",
        "# Remove the first 20ms to avoid artifacts\n",
        "tremove = 20\n",
        "vsoma_vec.remove(0, int(tremove/h.dt))\n",
        "t_vec.remove(0, int(tremove/h.dt))\n",
        "\n",
        "plt.figure(figsize=(8, 6))\n",
        "plt.plot(t_vec, vsoma_vec, color='black', label='soma')\n",
        "plt.legend()\n",
        "plt.xlabel('time (ms)')\n",
        "plt.ylabel('mV')\n",
        "plt.show()\n",
        "\n",
        "print(f'\\nSomatic depolarization is {np.round(vsoma_vec.max() - vsoma_vec[int((tsignal-tremove)/h.dt)-1], 2)} mV')"
      ],
      "metadata": {
        "id": "H-3kXx8KNJ9w"
      },
      "execution_count": null,
      "outputs": []
    },
    {
      "cell_type": "markdown",
      "source": [
        "**Hint!**\n",
        "\n",
        "Try different combinations of `nc0.weight[0]` and `nc1.weight[0]`\n",
        "\n",
        " - Activate `nc1` instead of `nc0`.\n",
        " - Activate both `nc0` and `nc1`."
      ],
      "metadata": {
        "id": "gje-xyS7ACZa"
      }
    },
    {
      "cell_type": "markdown",
      "source": [
        "Now, you can experiment with various combinations!"
      ],
      "metadata": {
        "id": "0x5mn2P1NOlG"
      }
    },
    {
      "cell_type": "code",
      "source": [
        "nsyn1 = 0  # @param {type:\"slider\", min:0, max:18, step:1}\n",
        "nsyn2 = 0  # @param {type:\"slider\", min:0, max:18, step:1}\n",
        "\n",
        "nc0.weight[0] = 0.008*nsyn1\n",
        "nc1.weight[0] = 0.008*nsyn2\n",
        "\n",
        "# Calculate and print in terminal the depolarization at the soma\n",
        "vsoma_vec = h.Vector().record(soma(0.5)._ref_v)  # Membrane potential vector\n",
        "t_vec = h.Vector().record(h._ref_t)  # Time stamp vector\n",
        "\n",
        "# reinitialize the simulator and run again\n",
        "h.finitialize(vinit)\n",
        "h.continuerun(tstop)\n",
        "\n",
        "# Remove the first 20ms to avoid artifacts\n",
        "tremove = 20\n",
        "vsoma_vec.remove(0, int(tremove/h.dt))\n",
        "t_vec.remove(0, int(tremove/h.dt))\n",
        "\n",
        "plt.figure(figsize=(8, 6))\n",
        "plt.plot(t_vec, vsoma_vec, color='black', label='soma')\n",
        "plt.legend()\n",
        "plt.xlabel('time (ms)')\n",
        "plt.ylabel('mV')\n",
        "plt.show()\n",
        "\n",
        "print(f'\\nSomatic depolarization is {np.round(vsoma_vec.max() - vsoma_vec[int((tsignal-tremove)/h.dt)-1], 2)} mV')"
      ],
      "metadata": {
        "id": "LQI4aQ4l-XKp",
        "cellView": "form"
      },
      "execution_count": null,
      "outputs": []
    }
  ]
}