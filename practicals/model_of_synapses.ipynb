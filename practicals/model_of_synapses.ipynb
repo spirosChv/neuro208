{
  "nbformat": 4,
  "nbformat_minor": 0,
  "metadata": {
    "colab": {
      "provenance": [],
      "toc_visible": true,
      "include_colab_link": true
    },
    "kernelspec": {
      "name": "python3",
      "display_name": "Python 3"
    },
    "language_info": {
      "name": "python"
    }
  },
  "cells": [
    {
      "cell_type": "markdown",
      "metadata": {
        "id": "view-in-github",
        "colab_type": "text"
      },
      "source": [
        "<a href=\"https://colab.research.google.com/github/spirosChv/neuro208/blob/main/practicals/model_of_synapses.ipynb\" target=\"_parent\"><img src=\"https://colab.research.google.com/assets/colab-badge.svg\" alt=\"Open In Colab\"/></a>"
      ]
    },
    {
      "cell_type": "markdown",
      "source": [
        "# Model of synapses\n"
      ],
      "metadata": {
        "id": "Bnxkq2pfA5mr"
      }
    },
    {
      "cell_type": "code",
      "execution_count": null,
      "metadata": {
        "id": "C0BlBAE-Agxv"
      },
      "outputs": [],
      "source": [
        "import numpy as np\n",
        "import matplotlib.pyplot as plt"
      ]
    },
    {
      "cell_type": "code",
      "source": [
        "# @title Make nicer plots\n",
        "\n",
        "# @markdown Execute this cell!\n",
        "def mystyle():\n",
        "  \"\"\"\n",
        "  Create custom plotting style.\n",
        "\n",
        "  Returns\n",
        "  -------\n",
        "  my_style : dict\n",
        "      Dictionary with matplotlib parameters.\n",
        "\n",
        "  \"\"\"\n",
        "  # color pallette\n",
        "  style = {\n",
        "      # Use LaTeX to write all text\n",
        "      \"text.usetex\": False,\n",
        "      \"font.family\": \"DejaVu Sans\",\n",
        "      \"font.weight\": \"bold\",\n",
        "      # Use 16pt font in plots, to match 16pt font in document\n",
        "      \"axes.labelsize\": 16,\n",
        "      \"axes.titlesize\": 20,\n",
        "      \"font.size\": 16,\n",
        "      # Make the legend/label fonts a little smaller\n",
        "      \"legend.fontsize\": 14,\n",
        "      \"xtick.labelsize\": 14,\n",
        "      \"ytick.labelsize\": 14,\n",
        "      \"axes.linewidth\": 2.5,\n",
        "      \"lines.markersize\": 10.0,\n",
        "      \"lines.linewidth\": 2.5,\n",
        "      \"xtick.major.width\": 2.2,\n",
        "      \"ytick.major.width\": 2.2,\n",
        "      \"axes.labelweight\": \"bold\",\n",
        "      \"axes.spines.right\": False,\n",
        "      \"axes.spines.top\": False\n",
        "  }\n",
        "\n",
        "  return style\n",
        "\n",
        "\n",
        "plt.rcParams.update(mystyle())"
      ],
      "metadata": {
        "cellView": "form",
        "id": "Mltpi0REAqxH"
      },
      "execution_count": null,
      "outputs": []
    },
    {
      "cell_type": "markdown",
      "source": [
        "---\n",
        "# The Postsynaptic Response: Simple conductance waveforms\n",
        "\n",
        "\\begin{equation}\n",
        "I_{syn}(t) = g_{syn}(t)(V(t)-E_{syn})\n",
        "\\end{equation}\n",
        "\n",
        "where the effect of transmitter binding to and opening postsynaptic receptors is a conductance change, $g_{syn}(t)$, in the postsynaptic membrane. $V(t)$ is the voltage across the postsynaptic membrane and $E_{syn}$ the synaptic reversal potential, i.e., the reversal potential of the ion channels that mediate the synaptic current.\n"
      ],
      "metadata": {
        "id": "h0S3I-JxA1zG"
      }
    },
    {
      "cell_type": "markdown",
      "source": [
        "### Simple exponential decay\n",
        "\n",
        "\\begin{equation}\n",
        "g_{syn}(t) = \\bar{g}_{syn} \\text{exp} \\left( -\\frac{t-t_s}{\\tau}\\right)\\mathcal{H}(t-t_s)\n",
        "\\end{equation}\n",
        "\n",
        "where $t_s$ denotes the time of the arrival of a presynaptic spike, and $\\mathcal{H}(\\cdot)$ denotes the Heaviside function:\n",
        "\n",
        "\\begin{equation}\n",
        "  \\mathcal{H}(x-\\theta) = \\cases{1 & $\\text{if } x \\ge \\theta$ \\cr\n",
        "                          0 & \\text{otherwise}\n",
        "                   }\n",
        "\\end{equation}\n",
        "\n",
        "**Note:** See the numpy implementation of the heaviside function [here](https://numpy.org/doc/stable/reference/generated/numpy.heaviside.html).\n"
      ],
      "metadata": {
        "id": "PUFeD11ZCfhY"
      }
    },
    {
      "cell_type": "code",
      "source": [
        "import ipywidgets as widgets\n",
        "# @title How to shape the Heaviside function!\n",
        "\n",
        "# @markdown Play with the widget and understand the role of `theta`\n",
        "def plot_heaviside(theta):\n",
        "  \"\"\"\n",
        "  The heaviside function\n",
        "  \"\"\"\n",
        "  xmin = -10\n",
        "  xmax = 11\n",
        "  x = np.arange(xmin, xmax, .01)\n",
        "\n",
        "  plt.figure()\n",
        "  plt.plot(\n",
        "      x,\n",
        "      np.heaviside(x-theta, 0),\n",
        "      label=fr'$\\theta={theta}$'\n",
        "  )\n",
        "  plt.xlabel('x')\n",
        "  plt.ylabel('output')\n",
        "  plt.grid()\n",
        "  plt.legend()\n",
        "  plt.show()\n",
        "\n",
        "\n",
        "theta = widgets.FloatSlider(\n",
        "    value=0,\n",
        "    min=-5,\n",
        "    max=5,\n",
        "    step=0.5,\n",
        "    readout_format='.1f',\n",
        "    description='theta',\n",
        ")\n",
        "\n",
        "_ = widgets.interact(plot_heaviside, theta=theta)"
      ],
      "metadata": {
        "cellView": "form",
        "id": "eQm9QPEYFGRY"
      },
      "execution_count": null,
      "outputs": []
    },
    {
      "cell_type": "markdown",
      "source": [
        "Let's plot the exponential decay model."
      ],
      "metadata": {
        "id": "ZbuJu-_dFHlv"
      }
    },
    {
      "cell_type": "code",
      "source": [
        "# Simulation parameters\n",
        "T = 100  # ms\n",
        "dt = 0.1  # ms\n",
        "steps = int(T/dt)\n",
        "t = np.linspace(0, T, steps+1)\n",
        "\n",
        "ts = 20  # ms\n",
        "tau = 10  # ms\n",
        "gsyn_bar = 0.1  # nS\n",
        "\n",
        "gsyn = gsyn_bar*np.exp(-(t-ts)/tau)*np.heaviside(t-ts,0)\n",
        "\n",
        "plt.figure()\n",
        "plt.plot(t, gsyn)\n",
        "plt.axvline(x=ts, linestyle='--', color='k')\n",
        "plt.xlabel('time (ms)')\n",
        "plt.ylabel(r'$g_{syn}$ (nS)')\n",
        "plt.show()"
      ],
      "metadata": {
        "id": "mopgCpb5DAve"
      },
      "execution_count": null,
      "outputs": []
    },
    {
      "cell_type": "markdown",
      "source": [
        "### Alpha function or Alpha synapse\n",
        "\n",
        "\\begin{equation}\n",
        "g_{syn}(t) = \\bar{g}_{syn} f \\frac{t-t_s}{\\tau}\\text{exp} \\left(-\\frac{t-t_s}{\\tau}\\right)\\mathcal{H}(t-t_s)\n",
        "\\end{equation}\n",
        "\n",
        "where $t_s$ denotes the time of the arrival of a presynaptic spike, and $\\mathcal{H}(\\cdot)$ denotes the Heaviside function. The peak of this synapse is observed at $t_{peak}=t_s + \\tau$. The $f$ is a normalization factor to bound the $g_{syn}(t) \\in [0, \\bar{g}_{syn}]$, where:\n",
        "\n",
        "\\begin{equation}\n",
        "f = \\text{exp}(1)\n",
        "\\end{equation}\n",
        "\n",
        "<details>\n",
        "<summary><font color='green'>Click to see the analytical derivation</font></summary>\n",
        "\n",
        "To find the maximum of any function, we calculate its derivative and we set it to zero. The $t_{peak}$ is the time at which the derivative is zero, i.e., the $g_{syn}(t)$ is maximum.\n",
        "\n",
        "\\begin{align}\n",
        "\\frac{dg_{syn}}{dt} &\\stackrel{\\text{set}}{=} 0 \\\\\n",
        "\\bar{g}_{syn} \\frac{1}{\\tau} \\text{exp} \\left( -\\frac{t_{peak}-t_s}{\\tau}\\right) - \\bar{g}_{syn} \\frac{t_{peak}-t_s}{\\tau} \\text{exp} \\left( -\\frac{t_{peak}-t_s}{\\tau}\\right) \\frac{1}{\\tau} &= 0\n",
        "\\end{align}\n",
        "\n",
        "Notice that $\\bar{g}_{syn}$ and $\\text{exp} \\left( -\\frac{t_{peak}-t_s}{\\tau}\\right)$ are nonzero values. So, they can be removed from the equation.\n",
        "\n",
        "\\begin{align}\n",
        "\\frac{1}{\\tau} - \\frac{t_{peak}-t_s}{\\tau} \\frac{1}{\\tau} &= 0 \\\\\n",
        "\\frac{1}{\\tau} &= \\frac{t_{peak}-t_s}{\\tau} \\frac{1}{\\tau}\n",
        "\\end{align}\n",
        "\n",
        "and by removing the $\\frac{1}{\\tau}$ from both sides and solving for $t_{peak}$ we obtain:\n",
        "\n",
        "\\begin{align}\n",
        "t_{peak} &= t_s + \\tau\n",
        "\\end{align}\n",
        "\n",
        "</details>\n",
        "\n",
        "Let's simulate the alpha synapse!"
      ],
      "metadata": {
        "id": "0WWhUBLQHKhu"
      }
    },
    {
      "cell_type": "code",
      "source": [
        "def alpha_synapse(t, tau, gbar=1):\n",
        "  \"\"\"\n",
        "  The alpha function.\n",
        "\n",
        "  ---\n",
        "  Args:\n",
        "    t : float or numpy.ndarray\n",
        "      A specific time point or a time vector.\n",
        "    tau: float\n",
        "      The time constant of the synapse. The value must be positive.\n",
        "    gbar : float\n",
        "      The maximum conductance of the synapse. A positive value. Default is 1.\n",
        "\n",
        "  ---\n",
        "  Returns:\n",
        "    float or numpy.ndarray\n",
        "      The conductance.\n",
        "  \"\"\"\n",
        "  f = np.exp(1)\n",
        "  return gbar*f*((t-ts)/tau)*np.exp(-(t-ts)/tau)*np.heaviside(t-ts,0)"
      ],
      "metadata": {
        "id": "K_5TVgK1NK4v"
      },
      "execution_count": null,
      "outputs": []
    },
    {
      "cell_type": "code",
      "source": [
        "# Simulation parameters\n",
        "T = 100  # ms\n",
        "dt = 0.1  # ms\n",
        "steps = int(T/dt)\n",
        "t = np.linspace(0, T, steps+1)\n",
        "\n",
        "ts = 20  # ms\n",
        "tau = 10  # ms\n",
        "gsyn_bar = 0.1  # nS\n",
        "\n",
        "t_peak = ts + tau\n",
        "gsyn = alpha_synapse(t, tau, gsyn_bar)\n",
        "\n",
        "plt.figure()\n",
        "plt.plot(t, gsyn)\n",
        "plt.axvline(x=ts, linestyle='--', color='k')\n",
        "plt.axvline(x=ts+tau, linestyle='--', color='r')\n",
        "plt.xlabel('time (ms)')\n",
        "plt.ylabel(r'$g_{syn}$ (nS)')\n",
        "plt.show()"
      ],
      "metadata": {
        "id": "W7EZNrBGDi0i"
      },
      "execution_count": null,
      "outputs": []
    },
    {
      "cell_type": "markdown",
      "source": [
        "### Dual (doubple) exponential\n",
        "\n",
        "\\begin{equation}\n",
        "g_{syn}(t) = \\bar{g}_{syn} f \\left( \\text{exp} \\left( -\\frac{t-t_s}{\\tau_d} \\right) - \\text{exp} \\left( -\\frac{t-t_s}{\\tau_r} \\right) \\right)\\mathcal{H}(t-t_s)\n",
        "\\end{equation}\n",
        "\n",
        "where $t_s$ denotes the time of the arrival of a presynaptic spike, $\\tau_r$, $\\tau_d$ are the rise and decay time constants, respectively, and $\\mathcal{H}(\\cdot)$ denotes the Heaviside function. The dual exponential is needed when the rise and fall times must be set independently, and $\\tau_d > \\tau_r$. If $\\tau_d = \\tau_r$ then the dual exponential becomes the alpha function. The $f$ is a normalization factor to bound $g_{syn}(t) \\in [0, \\bar{g}_{syn}]$ and is equal to:\n",
        "\n",
        "\\begin{equation}\n",
        "f = \\frac{1}{\\text{exp} \\left( -\\frac{t_{peak}-t_s}{\\tau_d} \\right) - \\text{exp} \\left( -\\frac{t_{peak}-t_s}{\\tau_r} \\right)}\n",
        "\\end{equation}\n",
        "\n",
        "The dual exponential function reaches its maximum value at\n",
        "\n",
        "\\begin{equation}\n",
        "t_{peak} = t_s + \\frac{\\tau_d\\tau_r}{\\tau_d - \\tau_r} \\text{ln} \\left( \\frac{\\tau_d}{\\tau_r} \\right)\n",
        "\\end{equation}\n",
        "\n",
        "<details>\n",
        "<summary><font color='green'>Click to see the analytical derivation</font></summary>\n",
        "\n",
        "To find the maximum of any function, we calculate its derivative and we set it to zero. The $t_{peak}$ is the time at which the derivative is zero, i.e., the $g_{syn}(t)$ is maximum.\n",
        "\n",
        "\\begin{align}\n",
        "\\frac{dg_{syn}}{dt} &\\stackrel{\\text{set}}{=} 0 \\\\\n",
        "\\bar{g}_{syn} f \\left( -\\frac{1}{\\tau_d}\\text{exp} \\left( -\\frac{t_{peak}-t_s}{\\tau_d} \\right) + \\frac{1}{\\tau_r} \\text{exp} \\left( -\\frac{t_{peak}-t_s}{\\tau_r} \\right)\\right) &= 0\n",
        "\\end{align}\n",
        "\n",
        "Notice that $\\bar{g}_{syn}$ and $f$ are nonzero values. So, they can be removed from the equation.\n",
        "\n",
        "\\begin{align}\n",
        "-\\frac{1}{\\tau_d} \\text{exp} \\left( -\\frac{t_{peak}-t_s}{\\tau_d} \\right) + \\frac{1}{\\tau_r} \\text{exp} \\left( -\\frac{t_{peak}-t_s}{\\tau_r} \\right) &= 0 \\\\\n",
        "\\frac{1}{\\tau_d} \\text{exp} \\left( -\\frac{t_{peak}-t_s}{\\tau_d} \\right)  &= \\frac{1}{\\tau_r} \\text{exp} \\left( -\\frac{t_{peak}-t_s}{\\tau_r} \\right) \\\\\n",
        "\\text{exp} \\left( -\\frac{t_{peak}-t_s}{\\tau_d} \\right) \\text{exp} \\left( \\frac{t_{peak}-t_s}{\\tau_r} \\right) &= \\frac{\\tau_d}{\\tau_r} \\\\\n",
        "\\text{exp} \\left( -\\frac{t_{peak}-t_s}{\\tau_d} + \\frac{t_{peak}-t_s}{\\tau_r} \\right) &= \\frac{\\tau_d}{\\tau_r} \\\\\n",
        "\\end{align}\n",
        "\n",
        "We use the logarithm for both sides to remove the exponent:\n",
        "\n",
        "\\begin{align}\n",
        "-\\frac{t_{peak}-t_s}{\\tau_d} + \\frac{t_{peak}-t_s}{\\tau_r} &= \\text{ln} \\left( \\frac{\\tau_d}{\\tau_r} \\right)\\\\\n",
        "\\frac{(\\tau_d - \\tau_r)(t_{peak}-t_s)}{\\tau_d\\tau_r} &= \\text{ln} \\left( \\frac{\\tau_d}{\\tau_r} \\right)\\\\\n",
        "t_{peak}-t_s &= \\frac{\\tau_d\\tau_r}{\\tau_d-\\tau_r}\\text{ln} \\left( \\frac{\\tau_d}{\\tau_r} \\right)\\\\\n",
        "t_{peak} &= t_s + \\frac{\\tau_d\\tau_r}{\\tau_d-\\tau_r}\\text{ln} \\left( \\frac{\\tau_d}{\\tau_r} \\right)\\\\\n",
        "\\end{align}\n",
        "\n",
        "where we have used the $\\frac{1}{\\text{exp}(-\\alpha)}=\\text{exp}(\\alpha)$, $\\text{exp}(\\alpha) + \\text{exp}(\\beta) = \\text{exp}(\\alpha + \\beta)$, and the $\\text{ln}(\\text{exp}(\\alpha)) = \\alpha$.\n",
        "\n",
        "</details>\n",
        "\n",
        "Let's simulate the dual exponential synapse!"
      ],
      "metadata": {
        "id": "MfJzbbk5Hzrk"
      }
    },
    {
      "cell_type": "code",
      "source": [
        "def dual_exp_synapse(t, tau_rise, tau_decay, gbar, t_peak):\n",
        "  \"\"\"\n",
        "  The alpha function.\n",
        "\n",
        "  ---\n",
        "  Args:\n",
        "    t : float or numpy.ndarray\n",
        "      A specific time point or a time vector.\n",
        "    tau_rise: float\n",
        "      The rise time constant of the synapse. The value must be positive.\n",
        "    tau_decay: float\n",
        "      The decay time constant of the synapse. The value must be positive and\n",
        "      greater than tau_rise, tau_decay > tau_rise.\n",
        "    gbar : float\n",
        "      The maximum conductance of the synapse. A positive value. Default is 1.\n",
        "\n",
        "  ---\n",
        "  Returns:\n",
        "    float or numpy.ndarray\n",
        "      The conductance.\n",
        "  \"\"\"\n",
        "  f = 1/(np.exp(-(t_peak-ts)/tau_d) - np.exp(-(t_peak-ts)/tau_r))\n",
        "  return gbar*f*(np.exp(-(t-ts)/tau_d) - np.exp(-(t-ts)/tau_r))*np.heaviside(t-ts,0)"
      ],
      "metadata": {
        "id": "gcIYPB2iOVNr"
      },
      "execution_count": null,
      "outputs": []
    },
    {
      "cell_type": "code",
      "source": [
        "# Simulation parameters\n",
        "T = 100  # ms\n",
        "dt = 0.1  # ms\n",
        "steps = int(T/dt)\n",
        "t = np.linspace(0, T, steps+1)\n",
        "\n",
        "ts = 20  # ms\n",
        "tau_r = 5  # ms\n",
        "tau_d = 20  # ms\n",
        "gsyn_bar = 0.1 # nS\n",
        "\n",
        "# time when g is max\n",
        "t_peak = (tau_d * tau_r) / (tau_d - tau_r) * np.log(tau_d/tau_r) + ts\n",
        "# The normalized conductance\n",
        "gsyn = dual_exp_synapse(t, tau_r, tau_d, gsyn_bar, t_peak)\n",
        "\n",
        "plt.figure()\n",
        "plt.plot(t, gsyn)\n",
        "plt.axvline(x=ts, linestyle='--', color='k')\n",
        "plt.axvline(x=ts+tau, linestyle='--', color='r')\n",
        "plt.xlabel('time (ms)')\n",
        "plt.ylabel(r'$g_{syn}$ (nS)')\n",
        "plt.show()"
      ],
      "metadata": {
        "id": "zp1oxjQzI8QR"
      },
      "execution_count": null,
      "outputs": []
    },
    {
      "cell_type": "code",
      "source": [],
      "metadata": {
        "id": "4j7zGfHdJK22"
      },
      "execution_count": null,
      "outputs": []
    }
  ]
}