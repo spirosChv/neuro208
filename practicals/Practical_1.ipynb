{
  "nbformat": 4,
  "nbformat_minor": 0,
  "metadata": {
    "colab": {
      "provenance": [],
      "toc_visible": true
    },
    "kernelspec": {
      "name": "python3",
      "display_name": "Python 3"
    },
    "language_info": {
      "name": "python"
    }
  },
  "cells": [
    {
      "cell_type": "markdown",
      "metadata": {
        "id": "view-in-github"
      },
      "source": [
        "<a href=\"https://colab.research.google.com/github/spirosChv/neuro208/blob/main/practicals/Practical_1.ipynb\" target=\"_parent\"><img src=\"https://colab.research.google.com/assets/colab-badge.svg\" alt=\"Open In Colab\"/></a>"
      ]
    },
    {
      "cell_type": "markdown",
      "source": [
        "# Practical 1: Rate-based model(s) and Numerical Integration methods"
      ],
      "metadata": {
        "id": "90C5_EpZajOp"
      }
    },
    {
      "cell_type": "code",
      "execution_count": null,
      "metadata": {
        "id": "dePp_tI-aYZM"
      },
      "outputs": [],
      "source": [
        "import numpy as np\n",
        "import matplotlib.pyplot as plt"
      ]
    },
    {
      "cell_type": "code",
      "source": [
        "# @title Make plots nicer\n",
        "# @markdown Execute this cell!\n",
        "def mystyle():\n",
        "  \"\"\"\n",
        "  Create custom plotting style.\n",
        "\n",
        "  Returns\n",
        "  -------\n",
        "  my_style : dict\n",
        "      Dictionary with matplotlib parameters.\n",
        "\n",
        "  \"\"\"\n",
        "  # color pallette\n",
        "  style = {\n",
        "      # Use LaTeX to write all text\n",
        "      \"text.usetex\": False,\n",
        "      \"font.family\": \"DejaVu Sans\",\n",
        "      \"font.weight\": \"bold\",\n",
        "      # Use 16pt font in plots, to match 16pt font in document\n",
        "      \"axes.labelsize\": 16,\n",
        "      \"axes.titlesize\": 20,\n",
        "      \"font.size\": 16,\n",
        "      # Make the legend/label fonts a little smaller\n",
        "      \"legend.fontsize\": 14,\n",
        "      \"xtick.labelsize\": 14,\n",
        "      \"ytick.labelsize\": 14,\n",
        "      \"axes.linewidth\": 2.5,\n",
        "      \"lines.markersize\": 10.0,\n",
        "      \"lines.linewidth\": 2.5,\n",
        "      \"xtick.major.width\": 2.2,\n",
        "      \"ytick.major.width\": 2.2,\n",
        "      \"axes.labelweight\": \"bold\",\n",
        "      \"axes.spines.right\": False,\n",
        "      \"axes.spines.top\": False\n",
        "  }\n",
        "\n",
        "  return style\n",
        "\n",
        "\n",
        "plt.rcParams.update(mystyle())"
      ],
      "metadata": {
        "cellView": "form",
        "id": "pOe3NQTHkV8s"
      },
      "execution_count": null,
      "outputs": []
    },
    {
      "cell_type": "markdown",
      "source": [
        "---\n",
        "# Rate-based models\n",
        "\n",
        "A simple rate model\n",
        "\n",
        "\\begin{align}\n",
        "\\tau \\frac{dr}{dt} &= -r + f(I_{ext})\\\\\n",
        "\\end{align}\n",
        "\n",
        "where $\\tau$ denotes the time constant and $f(\\cdot)$ denotes the activation (transfer) function. You can think $f(\\cdot)$ as the equation that discribes the F-I curve of a neuron.\n",
        "\n",
        "For initial conditions $t=0$ and $r_0 = 0$\n",
        "the solution to the equation is:\n",
        "\\begin{align}\n",
        "r(t) &= f(I_{ext}) \\left( 1-e^{-\\frac{t}{\\tau}} \\right)\n",
        "\\end{align}\n",
        "\n",
        "\n",
        "<details>\n",
        "<summary><font color='green'>Click to see the analytical solution!</font></summary>\n",
        "\n",
        "### Analytical solution\n",
        "\n",
        "\\begin{align}\n",
        "\\tau \\frac{dr}{dt} &= -r + f(I_{ext})\\\\\n",
        "\\frac{dr}{(r - f(I_{ext}))} &= -\\frac{dt}{\\tau} \\\\\n",
        "\\end{align}\n",
        "\n",
        "Integrate both sides of the equation:\n",
        "\n",
        "\\begin{align}\n",
        "\\int \\frac{1}{(r - f(I_{ext})}dr &= \\int -\\frac{1}{\\tau}dt \\\\\n",
        "\\text{ln} |r - f(I_{ext})| &= -\\frac{t}{\\tau} + c, c \\in \\mathbb{R}\n",
        "\\end{align}\n",
        "\n",
        "Then, we exponentiate both parts to remove the logarithm, i.e., $\\text{ln}(\\cdot)$\n",
        "\n",
        "\\begin{align}\n",
        "e^{\\text{ln} |r - f(I_{ext})|} &= e^{-\\frac{t}{\\tau} + c} \\\\\n",
        "|r - f(I_{ext})| &= e^{-\\frac{t}{\\tau}}e^{c} \\\\\n",
        "r- f(I_{ext}) &= \\pm e^{c} e^{-\\frac{t}{\\tau}}\\\\\n",
        "\\end{align}\n",
        "\n",
        "Let $k = \\pm e^{c}, k \\in \\mathbb{R}$\n",
        "\n",
        "\\begin{align}\n",
        "r - f(I_{ext}) &= k e^{-\\frac{t}{\\tau}}\\\\\n",
        "\\end{align}\n",
        "\n",
        "At $t=0$, $r_0$ is zero, thus $r_0=0$\n",
        "\n",
        "\\begin{align}\n",
        "r(t=0) - f(I_{ext}) &= k e^{-\\frac{t=0}{\\tau}}\\\\\n",
        "k &= - f(I_{ext})\n",
        "\\end{align}\n",
        "\n",
        "Thus, the solution is:\n",
        "\n",
        "\\begin{align}\n",
        "r(t) - f(I_{ext}) &= - f(I_{ext}) e^{-\\frac{t=0}{\\tau}}\\\\\n",
        "r(t) &= f(I_{ext}) \\left( 1-e^{-\\frac{t}{\\tau}} \\right)\n",
        "\\end{align}\n",
        "\n",
        "At $t=\\tau$, $r$ is $r =f(I_{ext}) (1-e^{-1})$, $1-e^{-1} \\approx 0.63$\n",
        "\n",
        "So, the time constant denotes the time needed for rate to reach the 63% of its steady state-value.\n",
        "\n",
        "**Note:** Steady-state is the value of the rate at which the derivative is zero.\n",
        "</details>"
      ],
      "metadata": {
        "id": "g-OXTnrkayeK"
      }
    },
    {
      "cell_type": "markdown",
      "source": [
        "### Numerical solution - Euler Method\n",
        "\n",
        "\\begin{align}\n",
        "\\tau \\frac{dr}{dt} &= -r + f(I_{ext}) \\\\\n",
        "\\\\\n",
        "\\frac{dr}{dt} &= \\frac{-r + f(I_{ext})}{\\tau}\n",
        "\\end{align}\n",
        "\n",
        "This can be **approximated** as:\n",
        "\n",
        "\\begin{align}\n",
        "\\frac{r[n+1]-r[n]}{t_{n+1}-t_n} &= \\frac{-r[n] + f(I_{ext}[n])}{\\tau} \\\\\n",
        "\\end{align}\n",
        "\n",
        ", where n is the nth step of the simulation. By choosing a $\\Delta t$:\n",
        "\n",
        "\\begin{align}\n",
        "Δt &= {t_{n+1}-t_n}\\\n",
        "\\end{align}\n",
        "\n",
        "\\begin{align}\n",
        "N = T / Δt,\n",
        "\\end{align}\n",
        ", where $N$ is the total number of steps and $T$ is the total simulation time.\n",
        "\n",
        "The (forward) Euler method gives:\n",
        "\n",
        "\\begin{align}\n",
        "r[n+1] =r[n] + \\Delta t \\frac{-r[n] + f \\left( I_{ext}[n] \\right)} {\\tau}\n",
        "\\end{align}"
      ],
      "metadata": {
        "id": "ks0cjEkEqzNY"
      }
    },
    {
      "cell_type": "markdown",
      "source": [
        "***What does the right-hand side of the above equation above say about how Euler approximates the exact value?***"
      ],
      "metadata": {
        "id": "bKFK8-19gNy9"
      }
    },
    {
      "cell_type": "markdown",
      "source": [
        "---\n",
        "# Euler method: A simple example\n",
        "\n",
        "Let us model the exponential function, i.e., $g(t) = e^{-t}$. We know that its derivative with respect to time is\n",
        "\n",
        "\\begin{equation}\n",
        "\\frac{dg}{dt} = -e^{-t}\n",
        "\\end{equation}\n",
        "\n",
        "Let's also assume that $g(0)=1$, i.e., at time point zero our functions has value equals to one.\n",
        "\n",
        "**Hint:** You may find useful the command `np.exp`. See more [here](https://numpy.org/doc/stable/reference/generated/numpy.exp.html)."
      ],
      "metadata": {
        "id": "Y6HICw7CruGB"
      }
    },
    {
      "cell_type": "code",
      "source": [
        "T = 10  #  total simulation time (a.u.)\n",
        "dt = 0.1  # time step (also known as integration step) (a.u.)\n",
        "N = int(T/dt)  # total number of steps\n",
        "\n",
        "# t = np.arange(0, T + dt, dt)  # alternatively we can use np.linspace\n",
        "t = np.linspace(0, T, N + 1)\n",
        "g_exact = np.exp(-t)\n",
        "\n",
        "g_approx = np.zeros((N + 1, ))\n",
        "g_approx[0] = 1  # initial condition\n",
        "for n in range(N):\n",
        "  #####################\n",
        "  # YOUR CODE GOES HERE\n",
        "  #####################\n",
        "  dgdt = ...  # note that t[n] = n*dt\n",
        "  g_approx[n + 1] = ...\n",
        "\n",
        "# Calculate the error (i.e., mean squared error)\n",
        "error = np.mean((g_exact - g_approx)**2)\n",
        "\n",
        "plt.figure(figsize=(12, 8))\n",
        "plt.plot(t, g_approx, label='Euler approx.', linestyle='dashed')\n",
        "plt.plot(t, g_exact, label='exact solution')\n",
        "plt.xlabel('t (a.u.)')\n",
        "plt.ylabel('f(t) (a.u.)')\n",
        "plt.title(f\"Mean Squared Error (MSE) is: {np.round(error, 7)}\")\n",
        "plt.legend()\n",
        "plt.grid()\n",
        "plt.show()"
      ],
      "metadata": {
        "id": "uU5l28TJsKJo"
      },
      "execution_count": null,
      "outputs": []
    },
    {
      "cell_type": "code",
      "source": [
        "import ipywidgets as widgets\n",
        "# @title The role of time integration step, Δt or dt\n",
        "\n",
        "# @markdown Play with the widget and understand the role of `dt` for Euler integration!\n",
        "def euler_method_example(dt):\n",
        "  \"\"\"\n",
        "  Euler method for an exponential function.\n",
        "  \"\"\"\n",
        "  T = 10  #  total simulation time (a.u.)\n",
        "  N = int(T/dt)  # total number of steps\n",
        "\n",
        "  # t = np.arange(0, T + dt, dt)  # alternatively we can use np.linspace\n",
        "  t = np.linspace(0, T, N + 1)\n",
        "  g_exact = np.exp(-t)\n",
        "\n",
        "  g_approx = np.zeros((N + 1, ))\n",
        "  g_approx[0] = 1  # initial condition\n",
        "  for n in range(N):\n",
        "    deriv = -np.exp(-t[n])\n",
        "    g_approx[n + 1] = g_approx[n] + dt*deriv\n",
        "\n",
        "  # Calculate the error\n",
        "  error = np.mean((g_exact - g_approx))**2\n",
        "\n",
        "  plt.figure(figsize=(8, 6))\n",
        "  plt.plot(t, g_approx, label=f'approximate, dt={dt}', linestyle='dashed')\n",
        "  plt.plot(t, g_exact, label='exact')\n",
        "  plt.xlabel('t (a.u.)')\n",
        "  plt.ylabel('f(t) (a.u.)')\n",
        "  plt.title(f\"Mean Squared Error (MSE) is: {np.round(error, 7)}\")\n",
        "  plt.legend()\n",
        "  plt.grid()\n",
        "  plt.show()\n",
        "\n",
        "\n",
        "dt = widgets.FloatSlider(\n",
        "    value=1,\n",
        "    min=0.001,\n",
        "    max=2.0,\n",
        "    step=0.01,\n",
        "    readout_format='.3f',\n",
        ")\n",
        "\n",
        "_ = widgets.interact(euler_method_example, dt=dt)"
      ],
      "metadata": {
        "cellView": "form",
        "id": "3MH65qHJu8a4"
      },
      "execution_count": null,
      "outputs": []
    },
    {
      "cell_type": "markdown",
      "source": [
        "---\n",
        "# Rate-base models -- Example 1: A simple network model\n",
        "\n",
        "\\begin{align}\n",
        "\\tau \\frac{d\\textbf{r}}{dt} &= -\\textbf{r} + f(I_{ext} + \\textbf{W}\\textbf{r}+\\xi) \\\\\n",
        "\\textbf{r}[n+1] &= \\textbf{r}[n] + \\Delta t \\frac{-\\textbf{r}[n] + f(I_{ext}[n]+ \\textbf{W}\\textbf{r}[n]+\\xi[n])}{\\tau}\n",
        "\\end{align}\n",
        "\n",
        "where $\\textbf{r} \\in \\mathbb{R}^{D \\times N}$, $I_{ext}\\in \\mathbb{R}^{D \\times N}$ and $\\textbf{W} \\in \\mathbb{R}^{D \\times D}$, and $f(\\cdot)$ denotes the activation (transfer) function, and $D$ is the total number of neurons and $\\xi$ denotes random noise, with $\\xi \\sim \\mathcal{N}(\\mu=0, \\sigma=1)$,  $\\mathcal{N}(\\cdot)$ is the normal distribution."
      ],
      "metadata": {
        "id": "8xEblhZmpC5m"
      }
    },
    {
      "cell_type": "markdown",
      "source": [
        "## The transfer function\n",
        "\n",
        "In our example, we will use as $f(\\cdot)$ the sigmoid, with two parameters the gain $\\gamma$, and the threshold level $\\theta$.\n",
        "\n",
        "The most common mathematical description of the sigmoid function is:\n",
        "\n",
        "\\begin{equation}\n",
        "f(z| \\gamma, \\theta) = \\frac{1}{1+\\text{exp}(-\\gamma(z-\\theta))}\n",
        "\\end{equation}\n",
        "\n",
        "Another mathematical description, commonly used in rate based models is:\n",
        "\n",
        "\\begin{equation}\n",
        "f(z|\\gamma,\\theta) = \\frac{1}{1+\\text{exp}(-\\gamma(z-\\theta))} - \\frac{1}{1+\\text{exp}(\\gamma\\theta)}\n",
        "\\end{equation}"
      ],
      "metadata": {
        "id": "v-X72so6OjOo"
      }
    },
    {
      "cell_type": "code",
      "source": [
        "def sigmoid(z, theta=0, gamma=1):\n",
        "  \"\"\"\n",
        "  The signoidal transfer function.\n",
        "\n",
        "  ---\n",
        "  Args:\n",
        "    z : float or numpy.ndarray\n",
        "      The input value(s)\n",
        "    theta: float\n",
        "      The midpoint, z1/2. Default is 0.\n",
        "    gamma : float\n",
        "      The slope of the function. Negative values reverse the function.\n",
        "      Default is 1.\n",
        "\n",
        "  ---\n",
        "  Returns:\n",
        "    float or numpy.ndarray\n",
        "      The output of the sigmoid are values in [0,1].\n",
        "  \"\"\"\n",
        "  #####################\n",
        "  # YOUR CODE GOES HERE\n",
        "  #####################\n",
        "  return ..."
      ],
      "metadata": {
        "id": "0JZHyC4-pChG"
      },
      "execution_count": null,
      "outputs": []
    },
    {
      "cell_type": "code",
      "source": [
        "print(f\"The value of the sigmoid is: {sigmoid(z=1)}\")"
      ],
      "metadata": {
        "id": "aG5cSWqw0Zkk"
      },
      "execution_count": null,
      "outputs": []
    },
    {
      "cell_type": "code",
      "source": [
        "# define a range of values\n",
        "z = np.arange(-10, 11, 1)\n",
        "\n",
        "# Make the plot\n",
        "plt.figure()\n",
        "plt.plot(z, sigmoid(z), label=r'$\\theta=0$; $\\gamma=1$')\n",
        "theta = 2.8\n",
        "plt.plot(z, sigmoid(z, theta=theta), label=fr'$\\theta={theta}$; $\\gamma=1$')\n",
        "gamma = 0.5\n",
        "plt.plot(z, sigmoid(z, gamma=gamma), label=fr'$\\theta=0$; $\\gamma={gamma}$')\n",
        "plt.xlabel('z')\n",
        "plt.ylabel('sigmoid')\n",
        "plt.grid()\n",
        "plt.legend()\n",
        "plt.show()"
      ],
      "metadata": {
        "id": "tW13OOZu2zY7"
      },
      "execution_count": null,
      "outputs": []
    },
    {
      "cell_type": "code",
      "source": [
        "import ipywidgets as widgets\n",
        "# @title How to shape your sigmoid!\n",
        "\n",
        "# @markdown Play with the widget and understand the role of `theta` and `gamma`!\n",
        "def plot_sigmoid(theta, gamma):\n",
        "  \"\"\"\n",
        "  Euler method for an exponential function.\n",
        "  \"\"\"\n",
        "  zmin = -10\n",
        "  zmax = 11\n",
        "  z = np.arange(zmin, zmax, 1)\n",
        "\n",
        "  plt.figure()\n",
        "  plt.plot(\n",
        "      z,\n",
        "      sigmoid(z),\n",
        "      label=fr'default $\\theta=0$ and $\\gamma=1$'\n",
        "  )\n",
        "  plt.plot(\n",
        "      z,\n",
        "      sigmoid(z, theta, gamma),\n",
        "      label=fr'$\\theta={theta}$; $\\gamma={gamma}$'\n",
        "  )\n",
        "  plt.xlabel('z')\n",
        "  plt.ylabel('sigmoid')\n",
        "  plt.grid()\n",
        "  plt.legend()\n",
        "  plt.show()\n",
        "\n",
        "\n",
        "theta = widgets.FloatSlider(\n",
        "    value=0,\n",
        "    min=-2,\n",
        "    max=10,\n",
        "    step=0.1,\n",
        "    readout_format='.1f',\n",
        "    description='theta',\n",
        ")\n",
        "\n",
        "gamma = widgets.FloatSlider(\n",
        "    value=1,\n",
        "    min=0.,\n",
        "    max=5.,\n",
        "    step=0.1,\n",
        "    readout_format='.1f',\n",
        "    description='gamma',\n",
        ")\n",
        "\n",
        "_ = widgets.interact(plot_sigmoid, theta=theta, gamma=gamma)"
      ],
      "metadata": {
        "id": "cBLf00SLzKog",
        "cellView": "form"
      },
      "execution_count": null,
      "outputs": []
    },
    {
      "cell_type": "markdown",
      "source": [
        "**Questions:**\n",
        "\n",
        "- How does the slope parameter ($\\gamma$) affect the sigmoid function?\n",
        "- How does the threshold parameter ($\\theta$) affect the sigmoid function?"
      ],
      "metadata": {
        "id": "qP9_4F7YTsym"
      }
    },
    {
      "cell_type": "markdown",
      "source": [
        "## Constract the weight matrix\n",
        "\n",
        "In the weight matric $\\textbf{W}[\\text{row}, \\text{column}]$ rows correspond to postsynaptic neurons and columns to presynaptic neurons.\n",
        "\n",
        "**Hint:**\n",
        "\n",
        "- Numpy offers a variaty of random sampling. See [here](https://numpy.org/doc/stable/reference/random/index.html). Common methods are the uniform sampling, `np.random.rand` and the gaussian-like sampling, `np.randon.randn`.\n",
        "\n",
        "- dot-product between two vectors: `np.dot`. See more [here](https://numpy.org/doc/stable/reference/generated/numpy.dot.html)."
      ],
      "metadata": {
        "id": "21s0uX3v_bu4"
      }
    },
    {
      "cell_type": "code",
      "source": [
        "np.random.seed(2021)\n",
        "D = 5  # number of neurons\n",
        "#####################\n",
        "# YOUR CODE GOES HERE\n",
        "#####################\n",
        "W = ...  # Weight matrix, positive weights\n",
        "np.fill_diagonal(W, 0)  # remove autopses\n",
        "print(W)"
      ],
      "metadata": {
        "id": "kf1vButd366N"
      },
      "execution_count": null,
      "outputs": []
    },
    {
      "cell_type": "code",
      "source": [
        "plt.figure()\n",
        "plt.imshow(W)\n",
        "plt.xlabel('presynaptic')\n",
        "plt.ylabel('postsynaptic')\n",
        "plt.colorbar()\n",
        "plt.show()"
      ],
      "metadata": {
        "id": "kT5pFJkWpIOf"
      },
      "execution_count": null,
      "outputs": []
    },
    {
      "cell_type": "code",
      "source": [
        "np.random.seed(2024)\n",
        "T = 1000  # ms\n",
        "dt = 0.1  # ms\n",
        "N = int(T/dt)\n",
        "t = np.linspace(0, T, N + 1)\n",
        "Iext = 0.1\n",
        "tau = 12  # ms\n",
        "r = np.zeros((D, N + 1))\n",
        "# Initial rate values for all neurons\n",
        "r[:, 0] = 0.01\n",
        "\n",
        "for n in range(N):\n",
        "  for d in range(D): #for each postsynaptic neuron\n",
        "    z1 = Iext + np.dot(W[d, :], r[:, n]) + np.random.randn()\n",
        "    #####################\n",
        "    # YOUR CODE GOES HERE\n",
        "    #####################\n",
        "    drdt = ...\n",
        "    r[d, n+1] = r[d, n] + dt*drdt"
      ],
      "metadata": {
        "id": "PSBmajH14Rky"
      },
      "execution_count": null,
      "outputs": []
    },
    {
      "cell_type": "code",
      "source": [
        "plt.figure(figsize=(10, 6))\n",
        "for d in range(D):\n",
        "  plt.plot(t, r[d, :], label=f'neuron {d + 1}')\n",
        "plt.xlabel('time (ms)')\n",
        "plt.ylabel('rate (a.u.)')\n",
        "plt.legend()\n",
        "plt.show()"
      ],
      "metadata": {
        "id": "2RwQUsx-5se6"
      },
      "execution_count": null,
      "outputs": []
    },
    {
      "cell_type": "markdown",
      "source": [
        "---\n",
        "# Rate-base models -- Example 2: Wilson-Cowan rate based model\n",
        "\n",
        "Using the mean-field approach\n",
        "\n",
        "\\begin{align}\n",
        "\\tau_E \\frac{dr_{E}}{dt} &= -r_{E} + f(I_{ext,E}+W_{EE}r_{E}-W_{EI}r_{I} + \\xi) \\\\\n",
        "\\tau_I \\frac{dr_{I}}{dt} &= -r_{I} + f(I_{ext,I}+W_{IE}r_{E}-W_{II}r_{I} + \\xi)\n",
        "\\end{align}"
      ],
      "metadata": {
        "id": "ikg0zYZcg2w0"
      }
    },
    {
      "cell_type": "code",
      "source": [
        "np.random.seed(2024)\n",
        "dt = 0.1  # ms\n",
        "T = 50  # ms\n",
        "N = int(T/dt)\n",
        "time = np.linspace(0, T, N + 1)\n",
        "\n",
        "# preallocation\n",
        "rE = np.zeros((N + 1, ))\n",
        "rI = np.zeros((N + 1, ))\n",
        "\n",
        "# parameters\n",
        "tauE = 1.0  # ms\n",
        "tauI = 2.0  # ms\n",
        "WEE = 1  # From E to E\n",
        "WEI = 4  # From I to E\n",
        "WIE = 2  # From E to I\n",
        "WII = 11  # From I to I\n",
        "I_E = 1  # external current to E population\n",
        "I_I = 1  # external current to I population\n",
        "\n",
        "# Initial conditions\n",
        "rE[0] = .25\n",
        "rI[0] = .25\n",
        "\n",
        "sigma = 0.1  # level of noise\n",
        "for n in range(N):\n",
        "  #####################\n",
        "  # YOUR CODE GOES HERE\n",
        "  #####################\n",
        "  zE = ...\n",
        "  drEdt = ...\n",
        "  rE[n+1] = rE[n] + dt * drEdt\n",
        "\n",
        "  zI = ...\n",
        "  drIdt = ...\n",
        "  rI[n+1] = rI[n] + dt * drIdt\n",
        "\n",
        "\n",
        "plt.figure(figsize=(10, 6))\n",
        "plt.plot(time, rE, label='E population')\n",
        "plt.plot(time, rI, label='I population')\n",
        "plt.xlabel('time (ms)')\n",
        "plt.ylabel('rate (a.u.)')\n",
        "plt.legend()\n",
        "plt.show()"
      ],
      "metadata": {
        "id": "1V6sfGfY5vdE"
      },
      "execution_count": null,
      "outputs": []
    },
    {
      "cell_type": "code",
      "source": [
        "import ipywidgets as widgets\n",
        "# @title How to shape your sigmoid!\n",
        "\n",
        "# @markdown Play with the widget and understand the role of the weights!\n",
        "def plot_wc_model(WEE, WEI, WIE, WII, thetaE=0, gammaE=1.,\n",
        "                  thetaI=0., gammaI=1., I_E=1.0, I_I=1.0):\n",
        "  np.random.seed(2024)\n",
        "  dt = 0.1  # ms\n",
        "  T = 50  # ms\n",
        "  N = int(T/dt)\n",
        "  time = np.linspace(0, T, N + 1)\n",
        "\n",
        "  # preallocation\n",
        "  rE = np.zeros((N + 1, ))\n",
        "  rI = np.zeros((N + 1, ))\n",
        "\n",
        "  # parameters\n",
        "  tauE = 1.0  # ms\n",
        "  tauI = 2.0  # ms\n",
        "\n",
        "  # Initial conditions\n",
        "  rE[0] = .25\n",
        "  rI[0] = .25\n",
        "\n",
        "  sigma = 0.1  # level of noise\n",
        "  for n in range(N):\n",
        "    zE = I_E + WEE*rE[n] - WEI*rI[n] + sigma*np.random.randn()\n",
        "    drEdt = (-rE[n] + sigmoid(zE, theta=thetaE, gamma=gammaE))/tauE\n",
        "    rE[n+1] = rE[n] + dt * drEdt\n",
        "\n",
        "    zI = I_I + WIE*rE[n] - WII*rI[n] + sigma*np.random.randn()\n",
        "    drIdt = (-rI[n] + sigmoid(zI, theta=thetaI, gamma=gammaI))/tauI\n",
        "    rI[n+1] = rI[n] + dt * drIdt\n",
        "\n",
        "\n",
        "  plt.figure(figsize=(10, 6))\n",
        "  plt.plot(time, rE, label='E population')\n",
        "  plt.plot(time, rI, label='I population')\n",
        "  plt.xlabel('time (ms)')\n",
        "  plt.ylabel('rate (a.u.)')\n",
        "  plt.legend()\n",
        "  plt.show()\n",
        "\n",
        "\n",
        "WEE = widgets.FloatSlider(\n",
        "    value=1,\n",
        "    min=0,\n",
        "    max=15,\n",
        "    step=0.1,\n",
        "    readout_format='.1f',\n",
        "    description='wEE',\n",
        ")\n",
        "\n",
        "WEI = widgets.FloatSlider(\n",
        "    value=1,\n",
        "    min=0,\n",
        "    max=15,\n",
        "    step=0.1,\n",
        "    readout_format='.1f',\n",
        "    description='wEI',\n",
        ")\n",
        "\n",
        "WIE = widgets.FloatSlider(\n",
        "    value=1,\n",
        "    min=0,\n",
        "    max=15,\n",
        "    step=0.1,\n",
        "    readout_format='.1f',\n",
        "    description='wIE',\n",
        ")\n",
        "\n",
        "WII = widgets.FloatSlider(\n",
        "    value=1,\n",
        "    min=0,\n",
        "    max=15,\n",
        "    step=0.1,\n",
        "    readout_format='.1f',\n",
        "    description='wII',\n",
        ")\n",
        "\n",
        "thetaE = widgets.FloatSlider(\n",
        "    value=0,\n",
        "    min=0,\n",
        "    max=10,\n",
        "    step=0.1,\n",
        "    readout_format='.1f',\n",
        "    description='thetaE',\n",
        ")\n",
        "\n",
        "gammaE = widgets.FloatSlider(\n",
        "    value=1,\n",
        "    min=0.1,\n",
        "    max=5,\n",
        "    step=0.1,\n",
        "    readout_format='.1f',\n",
        "    description='gammaE',\n",
        ")\n",
        "\n",
        "thetaI = widgets.FloatSlider(\n",
        "    value=0,\n",
        "    min=0,\n",
        "    max=10,\n",
        "    step=0.1,\n",
        "    readout_format='.1f',\n",
        "    description='thetaI',\n",
        ")\n",
        "\n",
        "gammaI = widgets.FloatSlider(\n",
        "    value=1,\n",
        "    min=0.1,\n",
        "    max=5,\n",
        "    step=0.1,\n",
        "    readout_format='.1f',\n",
        "    description='gammaI',\n",
        ")\n",
        "\n",
        "I_E = widgets.FloatSlider(\n",
        "    value=1,\n",
        "    min=0.0,\n",
        "    max=2,\n",
        "    step=0.1,\n",
        "    readout_format='.1f',\n",
        "    description='I_E',\n",
        ")\n",
        "\n",
        "I_I = widgets.FloatSlider(\n",
        "    value=1,\n",
        "    min=0.0,\n",
        "    max=2,\n",
        "    step=0.1,\n",
        "    readout_format='.1f',\n",
        "    description='I_I',\n",
        ")\n",
        "\n",
        "_ = widgets.interact(\n",
        "    plot_wc_model,\n",
        "    WEE=WEE, WEI=WEI, WIE=WIE, WII=WII,\n",
        "    thetaE=thetaE, gammaE=gammaE,\n",
        "    thetaI=thetaI, gammaI=gammaI,\n",
        "    I_E=I_E, I_I=I_I\n",
        ")"
      ],
      "metadata": {
        "cellView": "form",
        "id": "yWHmfFCWWujz"
      },
      "execution_count": null,
      "outputs": []
    },
    {
      "cell_type": "markdown",
      "source": [
        "Play with the variables to see how the output is affected.\n",
        "\n",
        "Try the following values:\n",
        "\n",
        "$W_{EE}=6.4, W_{EI}=4.9, W_{IE}=6.0, W_{II}=1.5, \\theta_E=2.7, \\gamma_E=1.1, \\theta_I=4.1, \\gamma_I=1.0, I_E=0.6$ and $I_I=0$.\n",
        "\n",
        "\n",
        "What do you observe?\n"
      ],
      "metadata": {
        "id": "SV-4yd_nsMTA"
      }
    },
    {
      "cell_type": "markdown",
      "source": [
        "---\n",
        "# Rate-base models -- Example 3: Inhibitory population generates oscillations\n",
        "\n",
        "Using the mean field approach\n",
        "\n",
        "\\begin{align}\n",
        "\\tau_I \\frac{dr_{I}(t)}{dt} = -r_{I}(t) + f\\left( I_{ext} - W_{II}r_{I}(t - delay_{time}) \\right) \\\\\n",
        "r_I[n+1]= r_I[n]+ Δt \\frac{-r_I[n]+ f(I_{ext}+ W_{II}r_I[n-delay])}{\\tau_I}\n",
        "\\end{align}\n",
        "\n",
        "- Oscillations at a frequency $f_{crit}$ appear when $W_{II} > W_{crit}$\n",
        "- For $delay >> \\tau_I$:\n",
        "  - $W_{crit} \\sim \\pi \\tau_I / (2\\cdot delay)$\n",
        "  - $f_{crit} \\sim 1/(4 \\cdot delay)$\n",
        "- Frequency is controlled by the delays, i.e., $delay$ parameter."
      ],
      "metadata": {
        "id": "Gzwm5ehNiCvr"
      }
    },
    {
      "cell_type": "code",
      "source": [
        "T = 100  # ms\n",
        "dt = 0.1  # ms\n",
        "N = int(T/dt)\n",
        "t = np.linspace(0, T, N + 1)\n",
        "\n",
        "Iext = .05\n",
        "tauI = 2.5  # ms\n",
        "time_delay = 2.5  # delay in ms\n",
        "delay = int(time_delay/dt)  # delay in steps\n",
        "\n",
        "plt.figure(figsize=(12, 8))\n",
        "for WII in [10, 20, 50, 100, 150]:\n",
        "  rI = np.zeros((N + 1, ))\n",
        "  rI[0] = 0.2\n",
        "  for n in range(N):\n",
        "    n_ = 0 if n - delay < 0 else n - delay\n",
        "    #####################\n",
        "    # YOUR CODE GOES HERE\n",
        "    #####################\n",
        "    zI = ...\n",
        "    drIdt = ...\n",
        "    rI[n + 1] = rI[n] + dt*drIdt\n",
        "\n",
        "  plt.plot(t, rI, label=f\"W={WII}\")\n",
        "\n",
        "plt.legend()\n",
        "plt.xlabel('time (ms)')\n",
        "plt.ylabel('rate (a.u.)')\n",
        "plt.show()"
      ],
      "metadata": {
        "id": "fpCkqssVHOf2"
      },
      "execution_count": null,
      "outputs": []
    },
    {
      "cell_type": "markdown",
      "source": [
        "---\n",
        "## (Optional) Appendix: More numerical methods\n",
        "\n",
        "Let's assume that we have to solve: $\\frac{dr}{dt} = \\dot{r} = h(r)$\n",
        "\n",
        "1. As we have seen, the forward Euler method is described by:\n",
        "\n",
        "\\begin{equation}\n",
        "r[n+1] = r[n] + \\Delta t \\left( h(r[n]) \\right)\n",
        "\\end{equation}\n",
        "\n",
        "\n",
        "2. The backword Euler method is described by:\n",
        "\n",
        "\\begin{equation}\n",
        "r[n+1] = r[n] + \\Delta t \\left( h(r[n+1]) \\right)\n",
        "\\end{equation}\n",
        "\n",
        "3. The central difference:\n",
        "\n",
        "\\begin{equation}\n",
        "r[n+1] = r[n] + \\Delta t \\frac{1}{2} \\left( h(r[n+1]) + h(r[n]) \\right)\n",
        "\\end{equation}\n",
        "\n",
        "4. The fourth-order Runge-Kutta (rk4):\n",
        "\n",
        "\\begin{equation}\n",
        "r[n+1] = r[n] + \\frac{1}{6} \\left( k_1 + 2k_2 + 2k_3 + k_4 \\right)\n",
        "\\end{equation}\n",
        "\n",
        ", where $h=\\frac{dr}{dt}$\n",
        "\n",
        "\\begin{align}\n",
        "k_1 &= \\Delta t h(x_n)\\\\\n",
        "k_2 &= \\Delta t h\\left( x_n + \\frac{1}{2}k_1 \\right)\\\\\n",
        "k_3 &= \\Delta t h\\left( x_n + \\frac{1}{2}k_2 \\right)\\\\\n",
        "k_4 &= \\Delta t h\\left( x_n + k_3 \\right)\\\\\n",
        "\\end{align}"
      ],
      "metadata": {
        "id": "2GZ7BGsQq4id"
      }
    },
    {
      "cell_type": "markdown",
      "source": [
        "### Example: Solve the equation $\\dot{r} = -r, r_0=10$"
      ],
      "metadata": {
        "id": "V0aqOaTJuTYN"
      }
    },
    {
      "cell_type": "code",
      "source": [
        "def derivative(x):\n",
        "  return -x\n",
        "\n",
        "def mse(x, y):\n",
        "  return np.mean((x - y)**2)"
      ],
      "metadata": {
        "id": "bcsRgc0bvgRp"
      },
      "execution_count": null,
      "outputs": []
    },
    {
      "cell_type": "code",
      "source": [
        "T = 10  #  total simulation time (a.u.)\n",
        "dt = .001  # time step (also known as integration step) (a.u.)\n",
        "N = int(T/dt)  # total number of steps\n",
        "\n",
        "r0 = 10\n",
        "t = np.linspace(0, T, N + 1)\n",
        "r_exact = r0*np.exp(-t)\n",
        "\n",
        "r_approx_feuler = np.zeros((N + 1, ))\n",
        "r_approx_feuler[0] = r0  # initial condition\n",
        "r_approx_beuler = np.zeros((N + 1, ))\n",
        "r_approx_beuler[0] = r0  # initial condition\n",
        "r_approx_ceuler = np.zeros((N + 1, ))\n",
        "r_approx_ceuler[0] = r0  # initial condition\n",
        "r_approx_rk4 = np.zeros((N + 1, ))\n",
        "r_approx_rk4[0] = r0  # initial condition\n",
        "\n",
        "\n",
        "for n in range(N):\n",
        "  r_approx_feuler[n + 1] = r_approx_feuler[n] + dt*derivative(r_approx_feuler[n])\n",
        "  r_approx_beuler[n + 1] = r_approx_beuler[n] / (1 + dt)\n",
        "  r_approx_ceuler[n + 1] = (r_approx_ceuler[n] + (dt/2)*(derivative(r_approx_ceuler[n])))/(1 + dt/2)\n",
        "\n",
        "  k1 = dt*derivative(r_approx_rk4[n])\n",
        "  k2 = dt*derivative(r_approx_rk4[n] + k1/2)\n",
        "  k3 = dt*derivative(r_approx_rk4[n] + k2/2)\n",
        "  k4 = dt*derivative(r_approx_rk4[n] + k3)\n",
        "  r_approx_rk4[n + 1] = r_approx_rk4[n] + 1/6*(k1 + 2*k2 + 2*k3 + k4)\n",
        "\n",
        "# Calculate the error\n",
        "error_feuler = mse(r_exact, r_approx_feuler)\n",
        "error_beuler = mse(r_exact, r_approx_beuler)\n",
        "error_ceuler = mse(r_exact, r_approx_ceuler)\n",
        "error_rk4 = mse(r_exact, r_approx_rk4)\n",
        "\n",
        "plt.figure(figsize=(10, 8))\n",
        "plt.plot(t, r_approx_feuler, label=f'forward euler, err:{error_feuler:5f}', linestyle='dashed')\n",
        "plt.plot(t, r_approx_beuler, label=f'backward euler, err:{error_beuler:5f}', linestyle='dashed')\n",
        "plt.plot(t, r_approx_ceuler, label=f'central difference, err:{error_ceuler:5f}', linestyle='dashed')\n",
        "plt.plot(t, r_approx_rk4, label=f'rk4, err:{error_rk4:5f}', linestyle='dashed')\n",
        "plt.plot(t, r_exact, label='exact solution', color='k')\n",
        "plt.xlabel('t (a.u.)')\n",
        "plt.ylabel('r(t) (a.u.)')\n",
        "plt.legend()\n",
        "plt.grid()\n",
        "plt.show()"
      ],
      "metadata": {
        "id": "91rj-2cPuQaQ"
      },
      "execution_count": null,
      "outputs": []
    },
    {
      "cell_type": "code",
      "source": [
        "plt.figure()\n",
        "plt.title('MSE error')\n",
        "plt.bar(x=1, height=error_feuler)\n",
        "plt.bar(x=2, height=error_beuler)\n",
        "plt.bar(x=3, height=error_ceuler)\n",
        "plt.bar(x=4, height=error_rk4)\n",
        "plt.show()"
      ],
      "metadata": {
        "id": "Cuq6tSA1xIGy"
      },
      "execution_count": null,
      "outputs": []
    },
    {
      "cell_type": "code",
      "source": [],
      "metadata": {
        "id": "WJTUX0Xm6zEZ"
      },
      "execution_count": null,
      "outputs": []
    }
  ]
}