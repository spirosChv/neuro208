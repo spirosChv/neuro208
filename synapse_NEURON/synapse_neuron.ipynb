{
  "nbformat": 4,
  "nbformat_minor": 0,
  "metadata": {
    "colab": {
      "name": "synapse_neuron.ipynb",
      "provenance": [],
      "authorship_tag": "ABX9TyNqAfvJ4vi4eNIVmoCdx/KL",
      "include_colab_link": true
    },
    "kernelspec": {
      "name": "python3",
      "display_name": "Python 3"
    },
    "language_info": {
      "name": "python"
    }
  },
  "cells": [
    {
      "cell_type": "markdown",
      "metadata": {
        "id": "view-in-github",
        "colab_type": "text"
      },
      "source": [
        "<a href=\"https://colab.research.google.com/github/spirosChv/neuro208/blob/main/synapse_NEURON/synapse_neuron.ipynb\" target=\"_parent\"><img src=\"https://colab.research.google.com/assets/colab-badge.svg\" alt=\"Open In Colab\"/></a>"
      ]
    },
    {
      "cell_type": "code",
      "execution_count": 1,
      "metadata": {
        "colab": {
          "base_uri": "https://localhost:8080/"
        },
        "id": "FoAxIeMKEqm_",
        "outputId": "bb869967-e395-49a9-e616-b9c1c0ddb550"
      },
      "outputs": [
        {
          "output_type": "stream",
          "name": "stdout",
          "text": [
            "\u001b[K     |████████████████████████████████| 15.0 MB 310 kB/s \n",
            "\u001b[?25h"
          ]
        }
      ],
      "source": [
        "!pip install neuron --quiet"
      ]
    },
    {
      "cell_type": "code",
      "source": [
        "# @title Create the mod file `ampa_nmda.mod`\n",
        "# @markdown Execute this cell.\n",
        "with open(\"ampa_nmda.mod\", \"w\") as file:\n",
        "  file.write(\"\"\"\n",
        "  \n",
        "    TITLE Excitatory Synapse with AMPA/NMDA components\n",
        "\n",
        "    COMMENT\n",
        "    AMPA/NMDA currents: are based on double exponentials of a decay and a rise phase, with a scaling factor\n",
        "      gampa, gnmda: opening/closing states in [0,1]\n",
        "      tau1: rise, tau2: decay\n",
        "\n",
        "    w_ampa/w_nmda: the relevant weights. gampa_max and gnmda_max can be omitted in a later version of the file\n",
        "\n",
        "    A portion of inmda is updating the ica (calcium current)\n",
        "\n",
        "    Authors: S. Chavlis, PhD (schavlis AT imbb.forth.gr)\n",
        "    ENDCOMMENT\n",
        "\n",
        "    NEURON {\n",
        "      POINT_PROCESS AmpaNmda\n",
        "      NONSPECIFIC_CURRENT isyn\n",
        "      USEION ca WRITE ica\n",
        "      RANGE tau1_ampa, tau2_ampa, eampa, w_ampa, gampa, gbar_ampa, iampa\n",
        "      RANGE tau1_nmda, tau2_nmda, enmda, w_nmda, gnmda, gbar_nmda, inmda\n",
        "      RANGE fca\n",
        "    }\n",
        "\n",
        "    UNITS {\n",
        "      (uS) = (microsiemens)\n",
        "      (nA) = (nanoamp)\n",
        "      (mV) = (millivolt)\n",
        "      (molar) = (1/liter)\n",
        "      (mM) = (millimolar)\n",
        "    }\n",
        "\n",
        "    PARAMETER {\n",
        "      : AMPA parameters\n",
        "      tau1_ampa = 1.0 (ms) : rise time constant AMPA\n",
        "      tau2_ampa = 10.0 (ms) : decay time constant AMPA\n",
        "      eampa = 0 (mV) : reversal potential AMPA\n",
        "      w_ampa = 1 (1) : strength of the synapse AMPA\n",
        "      gbar_ampa = 0 (uS) : maximum conductance AMPA\n",
        "      \n",
        "      : NMDA parameters\n",
        "      tau1_nmda = 2.3 (ms) : rise time constant AMPA\n",
        "      tau2_nmda = 95.0 (ms) : decay time constant AMPA\n",
        "      enmda = 0 (mV) : reversal potential AMPA\n",
        "      w_nmda = 1 (1) : strength of the synapse AMPA\n",
        "      gbar_nmda = 0 (uS) : maximum conductance AMPA\n",
        "\n",
        "      : Magnesium blockage of NMDA parameters\n",
        "      gamma_mg = 0.0625 (/mV) : Magnesium Concentration factor\n",
        "      eta_mg = 0.28011 (/mM) : Magnesium sensitivity of unblock, 1/3.57\n",
        "      mg2o = 1.2 (mM) : extracellular magnesium concentration\n",
        "\n",
        "      fca = 0.1 (1) : portion of inmda that is accumulated into ica\n",
        "    }\n",
        "\n",
        "    ASSIGNED {\n",
        "      v (mV) : membrane voltage\n",
        "      ica (nA) : total calcium current\n",
        "      isyn (nA) : synaptic current that changes the membrane voltage\n",
        "\n",
        "      gampa (1) : gating of AMPARs\n",
        "      iampa (nA) : AMPA current\n",
        "\n",
        "      gnmda (1) : gating of NMDARs\n",
        "      inmda (nA) : NMDA current\n",
        "    }\n",
        "\n",
        "    STATE {\n",
        "      A_ampa (1) : rise of AMPA\n",
        "      B_ampa (1) : decay of AMPA\n",
        "      A_nmda (1) : rise of NMDA\n",
        "      B_nmda (1) : decay of NMDA\n",
        "    }\n",
        "\n",
        "    BREAKPOINT {\n",
        "      SOLVE states METHOD cnexp\n",
        "      gampa = B_ampa - A_ampa\n",
        "      iampa = gbar_ampa*gampa*(v - eampa) : uS*mV=nA\n",
        "      \n",
        "      gnmda = B_nmda - A_nmda\n",
        "      inmda = gbar_nmda*gnmda*(v - enmda)*mgblock(v, gamma_mg, eta_mg, mg2o) : uS*mV=nA\n",
        "\n",
        "      isyn = iampa + inmda*(1-fca) : total synaptic current to update the membrane voltage\n",
        "      ica =  fca*inmda : ica current from the NMDA synapse\n",
        "    }\n",
        "\n",
        "    DERIVATIVE states {\n",
        "      A_ampa' = -A_ampa/tau1_ampa\n",
        "      B_ampa' = -B_ampa/tau2_ampa\n",
        "\n",
        "      A_nmda' = -A_nmda/tau1_nmda\n",
        "      B_nmda' = -B_nmda/tau2_nmda\n",
        "    }\n",
        "\n",
        "    INITIAL {\n",
        "      : Check the time constants for AMPA and NMDA\n",
        "      if (tau1_ampa/tau2_ampa > .9999) {\n",
        "        tau1_ampa = .9999*tau2_ampa\n",
        "      }\n",
        "      if (tau1_ampa/tau2_ampa < 1e-9) {\n",
        "        tau1_ampa = tau2_ampa*1e-9\n",
        "      }\n",
        "\n",
        "      if (tau1_nmda/tau2_nmda > .9999) {\n",
        "        tau1_nmda = .9999*tau2_nmda\n",
        "      }\n",
        "      if (tau1_nmda/tau2_nmda < 1e-9) {\n",
        "        tau1_nmda = tau2_nmda*1e-9\n",
        "      }\n",
        "\n",
        "      : set all values at zero in the start\n",
        "      A_ampa = 0\n",
        "      B_ampa = 0\n",
        "\n",
        "      A_nmda = 0\n",
        "      B_nmda = 0\n",
        "    }\n",
        "\n",
        "    FUNCTION factor(tau1 (ms), tau2 (ms)) {\n",
        "      LOCAL tpeak, peak\n",
        "      tpeak = (tau1*tau2)/(tau2 - tau1) * log(tau2/tau1) : time of peak\n",
        "      peak = exp(-tpeak/tau2) - exp(-tpeak/tau1) : peak conductance\n",
        "      factor = 1/peak\n",
        "    }\n",
        "\n",
        "    FUNCTION mgblock(v (mV), gamma (/mV), eta (/mM), mgo (mM)) {\n",
        "      mgblock = 1/(1 + eta*mgo*exp(-gamma*v))\n",
        "    }\n",
        "\n",
        "    NET_RECEIVE(weight) {\n",
        "\n",
        "      INITIAL {\n",
        "        weight = 1\n",
        "      }\n",
        "      : At every pre-synaptic spike update A (rise) and B (decay) phases\n",
        "      : of AMPA and NMDA\n",
        "      A_ampa = A_ampa + w_ampa*factor(tau1_ampa, tau2_ampa)*weight\n",
        "      B_ampa = B_ampa + w_ampa*factor(tau1_ampa, tau2_ampa)*weight\n",
        "\n",
        "      A_nmda = A_nmda + w_nmda*factor(tau1_nmda, tau2_nmda)*weight\n",
        "      B_nmda = B_nmda + w_nmda*factor(tau1_nmda, tau2_nmda)*weight\n",
        "    }\n",
        "  \"\"\")"
      ],
      "metadata": {
        "cellView": "form",
        "id": "B14r48UJEul9"
      },
      "execution_count": 2,
      "outputs": []
    },
    {
      "cell_type": "code",
      "source": [
        "# @title Create the mod file `ampa_nmda_plasticity.mod`\n",
        "# @markdown Execute this cell.\n",
        "with open(\"ampa_nmda_plasticity.mod\", \"w\") as file:\n",
        "  file.write(\"\"\"\n",
        "\n",
        "    TITLE Excitatory Synapse with AMPA/NMDA components and Short-Term Plasticity\n",
        "\n",
        "    COMMENT\n",
        "    AMPA/NMDA currents: are based on double exponentials of a decay and a rise phase, with a scaling factor\n",
        "      gampa, gnmda: opening/closing states in [0,1]\n",
        "      tau1: rise, tau2: decay\n",
        "\n",
        "    w_ampa/w_nmda: the relevant weights. gbar_ampa and gbar_nmda can be omitted in a later version of the file\n",
        "\n",
        "    A portion of `inmda` is updating the `ica` (calcium current)\n",
        "\n",
        "    Authors: S. Chavlis, PhD (schavlis AT imbb.forth.gr)\n",
        "    ENDCOMMENT\n",
        "\n",
        "    NEURON {\n",
        "      POINT_PROCESS AmpaNmdaP\n",
        "      NONSPECIFIC_CURRENT isyn\n",
        "      USEION ca WRITE ica\n",
        "      RANGE tau1_ampa, tau2_ampa, eampa, w_ampa, gampa, gbar_ampa, iampa\n",
        "      RANGE tau1_nmda, tau2_nmda, enmda, w_nmda, gnmda, gbar_nmda, inmda\n",
        "      RANGE tauD, tauF, U0, r, u\n",
        "      RANGE fca\n",
        "    }\n",
        "\n",
        "    UNITS {\n",
        "      (uS) = (microsiemens)\n",
        "      (nA) = (nanoamp)\n",
        "      (mV) = (millivolt)\n",
        "      (molar) = (1/liter)\n",
        "      (mM) = (millimolar)\n",
        "    }\n",
        "\n",
        "    PARAMETER {\n",
        "      : AMPA parameters\n",
        "      tau1_ampa = 1.0 (ms) : rise time constant AMPA\n",
        "      tau2_ampa = 10.0 (ms) : decay time constant AMPA\n",
        "      eampa = 0 (mV) : reversal potential AMPA\n",
        "      w_ampa = 1 (1) : strength of the synapse AMPA\n",
        "      gbar_ampa = 0 (uS) : maximum conductance AMPA\n",
        "      \n",
        "      : NMDA parameters\n",
        "      tau1_nmda = 2.3 (ms) : rise time constant AMPA\n",
        "      tau2_nmda = 95.0 (ms) : decay time constant AMPA\n",
        "      enmda = 0 (mV) : reversal potential AMPA\n",
        "      w_nmda = 1 (1) : strength of the synapse AMPA\n",
        "      gbar_nmda = 0 (uS) : maximum conductance AMPA\n",
        "\n",
        "      : Magnesium blockage of NMDA parameters\n",
        "      gamma_mg = 0.0625 (/mV) : Magnesium Concentration factor\n",
        "      eta_mg = 0.28011 (/mM) : Magnesium sensitivity of unblock, 1/3.57\n",
        "      mg2o = 1.2 (mM) : extracellular magnesium concentration\n",
        "\n",
        "      fca = 0.1 (1) : portion of inmda that is accumulated into ica\n",
        "\n",
        "      : Short-term dynamics (Tsodkys, Markham model)\n",
        "        tauD = 800 (ms)  : Depression time constant\n",
        "        tauF = 800 (ms)  : Facilitation time constant\n",
        "        U0 = .3  (1)   : initial `concentration` of vesicles\n",
        "    }\n",
        "\n",
        "    ASSIGNED {\n",
        "      v (mV) : membrane voltage\n",
        "      ica (nA) : total calcium current\n",
        "      isyn (nA) : synaptic current that changes the membrane voltage\n",
        "\n",
        "      gampa (1) : gating of AMPARs\n",
        "      iampa (nA) : AMPA current\n",
        "\n",
        "      gnmda (1) : gating of NMDARs\n",
        "      inmda (nA) : NMDA current\n",
        "    }\n",
        "\n",
        "    STATE {\n",
        "      A_ampa (1) : rise of AMPA\n",
        "      B_ampa (1) : decay of AMPA\n",
        "      A_nmda (1) : rise of NMDA\n",
        "      B_nmda (1) : decay of NMDA\n",
        "      r (1) : resources available\n",
        "      u (1) : release probability\n",
        "    }\n",
        "\n",
        "    BREAKPOINT {\n",
        "      SOLVE states METHOD cnexp\n",
        "      gampa = B_ampa - A_ampa\n",
        "      iampa = gbar_ampa*gampa*(v - eampa) : uS*mV=nA\n",
        "      \n",
        "      gnmda = B_nmda - A_nmda\n",
        "      inmda = gbar_nmda*gnmda*(v - enmda)*mgblock(v, gamma_mg, eta_mg, mg2o) : uS*mV=nA\n",
        "\n",
        "      isyn = iampa + inmda*(1-fca) : total synaptic current to update the membrane voltage\n",
        "      ica =  fca*inmda : ica current from the NMDA synapse\n",
        "    }\n",
        "\n",
        "    DERIVATIVE states {\n",
        "      A_ampa' = -A_ampa/tau1_ampa\n",
        "      B_ampa' = -B_ampa/tau2_ampa\n",
        "\n",
        "      A_nmda' = -A_nmda/tau1_nmda\n",
        "      B_nmda' = -B_nmda/tau2_nmda\n",
        "\n",
        "      r' = (1.0-r)/tauD\n",
        "      u' = -u/tauF\n",
        "    }\n",
        "\n",
        "    INITIAL {\n",
        "      : Check the time constants for AMPA and NMDA\n",
        "      if (tau1_ampa/tau2_ampa > .9999) {\n",
        "        tau1_ampa = .9999*tau2_ampa\n",
        "      }\n",
        "      if (tau1_ampa/tau2_ampa < 1e-9) {\n",
        "        tau1_ampa = tau2_ampa*1e-9\n",
        "      }\n",
        "\n",
        "      if (tau1_nmda/tau2_nmda > .9999) {\n",
        "        tau1_nmda = .9999*tau2_nmda\n",
        "      }\n",
        "      if (tau1_nmda/tau2_nmda < 1e-9) {\n",
        "        tau1_nmda = tau2_nmda*1e-9\n",
        "      }\n",
        "\n",
        "      : set all values at zero in the start\n",
        "      A_ampa = 0\n",
        "      B_ampa = 0\n",
        "\n",
        "      A_nmda = 0\n",
        "      B_nmda = 0\n",
        "      u = U0\n",
        "      r = 1.0\n",
        "    }\n",
        "\n",
        "    FUNCTION factor(tau1 (ms), tau2 (ms)) {\n",
        "      LOCAL tpeak, peak\n",
        "      tpeak = (tau1*tau2)/(tau2 - tau1) * log(tau2/tau1) : time of peak\n",
        "      peak = exp(-tpeak/tau2) - exp(-tpeak/tau1) : peak conductance\n",
        "      factor = 1/peak\n",
        "    }\n",
        "\n",
        "    FUNCTION mgblock(v (mV), gamma (/mV), eta (/mM), mgo (mM)) {\n",
        "      mgblock = 1/(1 + eta*mgo*exp(-gamma*v))\n",
        "    }\n",
        "\n",
        "    NET_RECEIVE(weight) {\n",
        "      LOCAL r_minus, x_val\n",
        "\n",
        "      INITIAL {\n",
        "        weight = 1\n",
        "      }\n",
        "\n",
        "      :Calculate the u and R variables at each presynaptic spike\n",
        "\n",
        "      u = u + U0*(1.0 - u)\n",
        "      r_minus = r\n",
        "      r = r + (-u*r)\n",
        "      \n",
        "      : At every pre-synaptic spike update A (rise) and B (decay) phases\n",
        "      : of AMPA and NMDA\n",
        "      x_val = w_ampa*weight*factor(tau1_ampa, tau2_ampa)*r_minus*u\n",
        "      A_ampa = A_ampa + x_val\n",
        "      B_ampa = B_ampa + x_val\n",
        "        \n",
        "        x_val = w_nmda*weight*factor(tau1_nmda, tau2_nmda)*r_minus*u\n",
        "      A_nmda = A_nmda + x_val\n",
        "      B_nmda = B_nmda + x_val\n",
        "    }\n",
        "  \"\"\")"
      ],
      "metadata": {
        "cellView": "form",
        "id": "tAR1CTW7FEGr"
      },
      "execution_count": 3,
      "outputs": []
    },
    {
      "cell_type": "code",
      "source": [
        "# @title Create the mod file `vecstim.mod`\n",
        "# @markdown Execute this cell.\n",
        "with open(\"vecstim.mod\", \"w\") as file:\n",
        "  file.write(\"\"\"\n",
        "\n",
        "    TITLE Vector stream of events\n",
        "\n",
        "    NEURON {\n",
        "      THREADSAFE\n",
        "      ARTIFICIAL_CELL VecStim\n",
        "      RANGE delay\n",
        "    }\n",
        "\n",
        "    ASSIGNED {\n",
        "      index\n",
        "      etime (ms)\n",
        "      space\n",
        "      delay (ms)\n",
        "    }\n",
        "\n",
        "    PARAMETER { \n",
        "      ::delay = 0.0\n",
        "    } \n",
        "\n",
        "    INITIAL {\n",
        "      index = 0\n",
        "      : delay = 0\n",
        "      element()\n",
        "      if (index > 0) {\n",
        "        net_send(delay + etime - t, 1)\n",
        "      }\n",
        "    }\n",
        "\n",
        "    NET_RECEIVE (w) {\n",
        "      if (flag == 1) {\n",
        "        net_event(t)\n",
        "        element()\n",
        "        if (index > 0) {\n",
        "          net_send(delay + etime - t, 1)\n",
        "        }\n",
        "      }\n",
        "    }\n",
        "\n",
        "    VERBATIM\n",
        "    extern double* vector_vec();\n",
        "    extern int vector_capacity();\n",
        "    extern void* vector_arg();\n",
        "    ENDVERBATIM\n",
        "\n",
        "    PROCEDURE element() {\n",
        "    VERBATIM\t\n",
        "    { void* vv; int i, size; double* px;\n",
        "      i = (int)index;\n",
        "      if (i >= 0) {\n",
        "        vv = *((void**)(&space));\n",
        "        if (vv) {\n",
        "          size = vector_capacity(vv);\n",
        "          px = vector_vec(vv);\n",
        "          if (i < size) {\n",
        "            etime = px[i];\n",
        "            index += 1.;\n",
        "          }else{\n",
        "            index = -1.;\n",
        "          }\n",
        "        }else{\n",
        "          index = -1.;\n",
        "        }\n",
        "      }\n",
        "    }\n",
        "    ENDVERBATIM\n",
        "    }\n",
        "\n",
        "    PROCEDURE play() {\n",
        "    VERBATIM\n",
        "      void** vv;\n",
        "      vv = (void**)(&space);\n",
        "      *vv = (void*)0;\n",
        "      if (ifarg(1)) {\n",
        "        *vv = vector_arg(1);\n",
        "      }\n",
        "    ENDVERBATIM\n",
        "    }\n",
        "  \"\"\")"
      ],
      "metadata": {
        "cellView": "form",
        "id": "bJ2kNGsHGVVy"
      },
      "execution_count": 4,
      "outputs": []
    },
    {
      "cell_type": "code",
      "source": [
        "!rm -rf x86_64/\n",
        "!nrnivmodl"
      ],
      "metadata": {
        "colab": {
          "base_uri": "https://localhost:8080/"
        },
        "id": "8HrlkAbJFkiO",
        "outputId": "72a2ffa2-391a-4be8-8c25-716659929a3c"
      },
      "execution_count": 5,
      "outputs": [
        {
          "output_type": "stream",
          "name": "stdout",
          "text": [
            "/content\n",
            "Mod files: \"./ampa_nmda.mod\" \"./ampa_nmda_plasticity.mod\" \"./vecstim.mod\"\n",
            "\n",
            "Creating x86_64 directory for .o files.\n",
            "\n",
            "COBJS=''\n",
            " -> \u001b[32mCompiling\u001b[0m mod_func.cpp\n",
            " -> \u001b[32mNMODL\u001b[0m ../ampa_nmda_plasticity.mod\n",
            " -> \u001b[32mNMODL\u001b[0m ../vecstim.mod\n",
            " -> \u001b[32mNMODL\u001b[0m ../ampa_nmda.mod\n",
            "Translating ampa_nmda_plasticity.mod into /content/x86_64/ampa_nmda_plasticity.c\n",
            "Translating ampa_nmda.mod into /content/x86_64/ampa_nmda.c\n",
            "Thread Safe\n",
            "Thread Safe\n",
            "Translating vecstim.mod into /content/x86_64/vecstim.c\n",
            " -> \u001b[32mCompiling\u001b[0m ampa_nmda.c\n",
            "Thread Safe\n",
            " -> \u001b[32mCompiling\u001b[0m ampa_nmda_plasticity.c\n",
            " -> \u001b[32mCompiling\u001b[0m vecstim.c\n",
            " => \u001b[32mLINKING\u001b[0m shared library ./libnrnmech.so\n",
            " => \u001b[32mLINKING\u001b[0m executable ./special LDFLAGS are:    -pthread\n",
            "Successfully created x86_64/special\n"
          ]
        }
      ]
    },
    {
      "cell_type": "code",
      "source": [
        "from neuron import h\n",
        "from neuron.units import ms, mV\n",
        "import matplotlib.pyplot as plt\n",
        "h.load_file(\"stdrun.hoc\")"
      ],
      "metadata": {
        "colab": {
          "base_uri": "https://localhost:8080/"
        },
        "id": "VB8GJLgAFk9c",
        "outputId": "96e9b4cf-d678-41b3-b5b3-49d0da86f634"
      },
      "execution_count": 6,
      "outputs": [
        {
          "output_type": "execute_result",
          "data": {
            "text/plain": [
              "1.0"
            ]
          },
          "metadata": {},
          "execution_count": 6
        }
      ]
    },
    {
      "cell_type": "code",
      "source": [
        "# @title Make nicer plots -- Execute this cell\n",
        "def mystyle():\n",
        "  \"\"\"\n",
        "  Create custom plotting style.\n",
        "\n",
        "  Returns\n",
        "  -------\n",
        "  my_style : dict\n",
        "      Dictionary with matplotlib parameters.\n",
        "\n",
        "  \"\"\"\n",
        "  # color pallette\n",
        "  style = {\n",
        "      # Use LaTeX to write all text\n",
        "      \"text.usetex\": False,\n",
        "      \"font.family\": \"DejaVu Sans\",\n",
        "      \"font.weight\": \"bold\",\n",
        "      # Use 16pt font in plots, to match 16pt font in document\n",
        "      \"axes.labelsize\": 16,\n",
        "      \"axes.titlesize\": 20,\n",
        "      \"font.size\": 16,\n",
        "      # Make the legend/label fonts a little smaller\n",
        "      \"legend.fontsize\": 14,\n",
        "      \"xtick.labelsize\": 14,\n",
        "      \"ytick.labelsize\": 14,\n",
        "      \"axes.linewidth\": 2.5,\n",
        "      \"lines.markersize\": 10.0,\n",
        "      \"lines.linewidth\": 2.5,\n",
        "      \"xtick.major.width\": 2.2,\n",
        "      \"ytick.major.width\": 2.2,\n",
        "      \"axes.labelweight\": \"bold\",\n",
        "      \"axes.spines.right\": False,\n",
        "      \"axes.spines.top\": False\n",
        "  }\n",
        "\n",
        "  return style\n",
        "\n",
        "\n",
        "plt.style.use(\"seaborn-colorblind\")\n",
        "plt.rcParams.update(mystyle())"
      ],
      "metadata": {
        "cellView": "form",
        "id": "HohSOnHpFnEc"
      },
      "execution_count": 7,
      "outputs": []
    },
    {
      "cell_type": "code",
      "source": [
        "# Create the cable1\n",
        "dend1 = h.Section(name='dend1')\n",
        "dend1.L = 100\n",
        "dend1.diam = 2\n",
        "dend1.nseg = 11\n",
        "dend1.insert('pas')\n",
        "\n",
        "# Create the cable1\n",
        "dend2 = h.Section(name='dend2')\n",
        "dend2.L = 100\n",
        "dend2.diam = 2\n",
        "dend2.nseg = 11\n",
        "dend2.insert('pas')"
      ],
      "metadata": {
        "colab": {
          "base_uri": "https://localhost:8080/"
        },
        "id": "HDiNtqhjFvTD",
        "outputId": "a830dc94-fb36-46de-d954-87ddd6e49eb0"
      },
      "execution_count": 8,
      "outputs": [
        {
          "output_type": "execute_result",
          "data": {
            "text/plain": [
              "dend2"
            ]
          },
          "metadata": {},
          "execution_count": 8
        }
      ]
    },
    {
      "cell_type": "code",
      "source": [
        "# Define the presynaptic spike train\n",
        "pre_spikes = [100, 150, 200, 250, 300, 350]  # list with presynaptic spikes (ms)\n",
        "inputs = h.Vector(pre_spikes)\n",
        "# inputs = h.Vector([100])\n",
        "\n",
        "# VecStim\n",
        "vecstim = h.VecStim()\n",
        "vecstim.play(inputs)\n",
        "\n",
        "# Synapse - plastic\n",
        "syn1 = h.AmpaNmdaP(dend1(0.5))\n",
        "syn1.eampa = 0\n",
        "syn1.tau1_ampa = 2\n",
        "syn1.tau2_ampa = 10\n",
        "syn1.gbar_ampa = .001\n",
        "\n",
        "syn1.enmda = 0\n",
        "syn1.tau1_nmda = 8\n",
        "syn1.tau2_nmda = 100\n",
        "syn1.gbar_nmda = .001\n",
        "\n",
        "# parameters of STP -- Depression\n",
        "stp = 'facilitation'\n",
        "if stp == 'depression':\n",
        "  syn1.U0 = .5\n",
        "  syn1.tauD = 100\n",
        "  syn1.tauF = 50\n",
        "elif stp == 'facilitation':\n",
        "  syn1.U0 = .2\n",
        "  syn1.tauD = 100\n",
        "  syn1.tauF = 750\n",
        "\n",
        "\n",
        "# NetCon - plastic\n",
        "vs1 = h.NetCon(vecstim, syn1)\n",
        "vs1.delay = 1.0  # delay in ms\n",
        "vs1.weight[0] = 1\n",
        "\n",
        "# Synapse - non-plastic\n",
        "syn2 = h.AmpaNmda(dend2(0.5))\n",
        "syn2.eampa = 0\n",
        "syn2.tau1_ampa = 2\n",
        "syn2.tau2_ampa = 10\n",
        "syn2.gbar_ampa = .001\n",
        "\n",
        "syn2.enmda = 0\n",
        "syn2.tau1_nmda = 8\n",
        "syn2.tau2_nmda = 50\n",
        "syn2.gbar_nmda = .001\n",
        "\n",
        "# NetCon - non-plastic\n",
        "vs2 = h.NetCon(vecstim, syn2)\n",
        "vs2.delay = 1.0  # delay in ms\n",
        "vs2.weight[0] = 1"
      ],
      "metadata": {
        "id": "Yw2oK7LJGGb7"
      },
      "execution_count": 9,
      "outputs": []
    },
    {
      "cell_type": "code",
      "source": [
        "# Record vectors\n",
        "v_vec1 = h.Vector().record(dend1(0.5)._ref_v)\n",
        "v_vec2 = h.Vector().record(dend2(0.5)._ref_v)\n",
        "t_vec = h.Vector().record(h._ref_t)\n",
        "\n",
        "r_vec = h.Vector().record(syn1._ref_r)\n",
        "u_vec = h.Vector().record(syn1._ref_u)"
      ],
      "metadata": {
        "id": "c07WDEDtF4Bx"
      },
      "execution_count": 10,
      "outputs": []
    },
    {
      "cell_type": "code",
      "source": [
        "# Run simulation\n",
        "h.finitialize(-70 * mV)\n",
        "h.continuerun(1000 * ms)"
      ],
      "metadata": {
        "colab": {
          "base_uri": "https://localhost:8080/"
        },
        "id": "NuZpGX5qF236",
        "outputId": "45d5ce7a-42bc-4381-e2c7-d0affa4eb426"
      },
      "execution_count": 11,
      "outputs": [
        {
          "output_type": "execute_result",
          "data": {
            "text/plain": [
              "0.0"
            ]
          },
          "metadata": {},
          "execution_count": 11
        }
      ]
    },
    {
      "cell_type": "code",
      "source": [
        "# Normalization in [0, 1]\n",
        "v_vec1_norm = (v_vec1 - v_vec1.min())/(v_vec1.max() - v_vec1.min())\n",
        "v_vec2_norm = (v_vec2 - v_vec2.min())/(v_vec2.max() - v_vec2.min())"
      ],
      "metadata": {
        "id": "-SINYiW3FznF"
      },
      "execution_count": 12,
      "outputs": []
    },
    {
      "cell_type": "code",
      "source": [
        "# Plot the results\n",
        "plt.figure()\n",
        "plt.plot(t_vec, v_vec1_norm, label='plastic synapse')\n",
        "plt.plot(t_vec, v_vec2_norm, label='non-plastic synapse')\n",
        "plt.xlabel('time (ms)')\n",
        "plt.ylabel('normalized voltage (a.u.)')\n",
        "plt.legend()\n",
        "plt.show()"
      ],
      "metadata": {
        "colab": {
          "base_uri": "https://localhost:8080/",
          "height": 294
        },
        "id": "ebS_XYG7Fx2h",
        "outputId": "f7f4a1b2-cd7c-4a88-838f-abb7de6b9c9b"
      },
      "execution_count": 13,
      "outputs": [
        {
          "output_type": "display_data",
          "data": {
            "text/plain": [
              "<Figure size 432x288 with 1 Axes>"
            ],
            "image/png": "[encoded data removed]"
          },
          "metadata": {
            "needs_background": "light"
          }
        }
      ]
    },
    {
      "cell_type": "code",
      "source": [
        "# Plot the results\n",
        "plt.figure()\n",
        "plt.plot(t_vec, r_vec, label='resources')\n",
        "plt.plot(t_vec, u_vec, label='release prob.')\n",
        "plt.xlabel('time (ms)')\n",
        "plt.ylabel('prob. (a.u.)')\n",
        "plt.legend()\n",
        "plt.show()"
      ],
      "metadata": {
        "colab": {
          "base_uri": "https://localhost:8080/",
          "height": 288
        },
        "id": "ajDfO0EMFwnF",
        "outputId": "67f007c0-3c55-4049-e20c-2a4cf06ccca3"
      },
      "execution_count": 14,
      "outputs": [
        {
          "output_type": "display_data",
          "data": {
            "text/plain": [
              "<Figure size 432x288 with 1 Axes>"
            ],
            "image/png": "[encoded data removed]"
          },
          "metadata": {
            "needs_background": "light"
          }
        }
      ]
    }
  ]
}